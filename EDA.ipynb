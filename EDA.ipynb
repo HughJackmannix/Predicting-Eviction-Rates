{
 "cells": [
  {
   "cell_type": "code",
   "execution_count": 1,
   "metadata": {},
   "outputs": [],
   "source": [
    "import pandas as pd\n",
    "import matplotlib.pyplot as plt\n",
    "import seaborn as sns\n",
    "import numpy as np\n",
    "import warnings\n",
    "import scipy.stats as stats\n",
    "warnings.filterwarnings('ignore')"
   ]
  },
  {
   "cell_type": "code",
   "execution_count": 2,
   "metadata": {},
   "outputs": [],
   "source": [
    "tracts_df = pd.read_csv('./data/dataframes/final_tracts.csv')"
   ]
  },
  {
   "cell_type": "code",
   "execution_count": 3,
   "metadata": {},
   "outputs": [
    {
     "data": {
      "image/png": "[encoded data removed]",
      "text/plain": [
       "<Figure size 2880x720 with 1 Axes>"
      ]
     },
     "metadata": {
      "needs_background": "light"
     },
     "output_type": "display_data"
    }
   ],
   "source": [
    "fig, ax = plt.subplots(figsize=(40, 10))\n",
    "ax=sns.countplot('state', data=tracts_df)"
   ]
  },
  {
   "cell_type": "code",
   "execution_count": 4,
   "metadata": {},
   "outputs": [
    {
     "data": {
      "text/plain": [
       "Texas             3778\n",
       "Pennsylvania      3197\n",
       "Florida           3154\n",
       "Ohio              2907\n",
       "North Carolina    2059\n",
       "Illinois          1482\n",
       "Wisconsin         1392\n",
       "Missouri          1390\n",
       "Arizona           1294\n",
       "Massachusetts     1196\n",
       "New York          1194\n",
       "Alabama           1173\n",
       "Virginia          1156\n",
       "Georgia           1150\n",
       "Washington        1138\n",
       "Colorado           999\n",
       "Iowa               801\n",
       "Minnesota          748\n",
       "Oregon             715\n",
       "Kentucky           714\n",
       "Michigan           669\n",
       "Nevada             517\n",
       "Nebraska           469\n",
       "Utah               448\n",
       "South Carolina     438\n",
       "Connecticut        433\n",
       "New Mexico         367\n",
       "Indiana            244\n",
       "Rhode Island       224\n",
       "Delaware           214\n",
       "California         140\n",
       "Maine              139\n",
       "Kansas              61\n",
       "Wyoming             17\n",
       "Oklahoma            14\n",
       "Louisiana           12\n",
       "Vermont              5\n",
       "Montana              5\n",
       "Tennessee            4\n",
       "Hawaii               1\n",
       "Name: state, dtype: int64"
      ]
     },
     "execution_count": 4,
     "metadata": {},
     "output_type": "execute_result"
    }
   ],
   "source": [
    "tracts_df.state.value_counts()"
   ]
  },
  {
   "cell_type": "code",
   "execution_count": 5,
   "metadata": {},
   "outputs": [],
   "source": [
    "drop_states = list(tracts_df.state.value_counts().keys()[-14:])\n",
    "\n",
    "for index, row in tracts_df.iterrows():\n",
    "    if row.state in drop_states:\n",
    "        tracts_df.drop(index, inplace=True)"
   ]
  },
  {
   "cell_type": "code",
   "execution_count": 6,
   "metadata": {},
   "outputs": [
    {
     "data": {
      "text/plain": [
       "Texas             3778\n",
       "Pennsylvania      3197\n",
       "Florida           3154\n",
       "Ohio              2907\n",
       "North Carolina    2059\n",
       "Illinois          1482\n",
       "Wisconsin         1392\n",
       "Missouri          1390\n",
       "Arizona           1294\n",
       "Massachusetts     1196\n",
       "New York          1194\n",
       "Alabama           1173\n",
       "Virginia          1156\n",
       "Georgia           1150\n",
       "Washington        1138\n",
       "Colorado           999\n",
       "Iowa               801\n",
       "Minnesota          748\n",
       "Oregon             715\n",
       "Kentucky           714\n",
       "Michigan           669\n",
       "Nevada             517\n",
       "Nebraska           469\n",
       "Utah               448\n",
       "South Carolina     438\n",
       "Connecticut        433\n",
       "Name: state, dtype: int64"
      ]
     },
     "execution_count": 6,
     "metadata": {},
     "output_type": "execute_result"
    }
   ],
   "source": [
    "tracts_df.state.value_counts()"
   ]
  },
  {
   "cell_type": "code",
   "execution_count": 7,
   "metadata": {},
   "outputs": [
    {
     "data": {
      "text/html": [
       "<div>\n",
       "<style scoped>\n",
       "    .dataframe tbody tr th:only-of-type {\n",
       "        vertical-align: middle;\n",
       "    }\n",
       "\n",
       "    .dataframe tbody tr th {\n",
       "        vertical-align: top;\n",
       "    }\n",
       "\n",
       "    .dataframe thead th {\n",
       "        text-align: right;\n",
       "    }\n",
       "</style>\n",
       "<table border=\"1\" class=\"dataframe\">\n",
       "  <thead>\n",
       "    <tr style=\"text-align: right;\">\n",
       "      <th></th>\n",
       "      <th>Unnamed: 0</th>\n",
       "      <th>GEOID</th>\n",
       "      <th>population</th>\n",
       "      <th>poverty.rate</th>\n",
       "      <th>renter.occupied.households</th>\n",
       "      <th>pct.renter.occupied</th>\n",
       "      <th>median.gross.rent</th>\n",
       "      <th>median.household.income</th>\n",
       "      <th>median.property.value</th>\n",
       "      <th>rent.burden</th>\n",
       "      <th>...</th>\n",
       "      <th>pct.asian</th>\n",
       "      <th>pct.nh.pi</th>\n",
       "      <th>pct.multiple</th>\n",
       "      <th>pct.other</th>\n",
       "      <th>eviction.filings</th>\n",
       "      <th>evictions</th>\n",
       "      <th>eviction.rate</th>\n",
       "      <th>eviction.filing.rate</th>\n",
       "      <th>male</th>\n",
       "      <th>female</th>\n",
       "    </tr>\n",
       "    <tr>\n",
       "      <th>state</th>\n",
       "      <th></th>\n",
       "      <th></th>\n",
       "      <th></th>\n",
       "      <th></th>\n",
       "      <th></th>\n",
       "      <th></th>\n",
       "      <th></th>\n",
       "      <th></th>\n",
       "      <th></th>\n",
       "      <th></th>\n",
       "      <th></th>\n",
       "      <th></th>\n",
       "      <th></th>\n",
       "      <th></th>\n",
       "      <th></th>\n",
       "      <th></th>\n",
       "      <th></th>\n",
       "      <th></th>\n",
       "      <th></th>\n",
       "      <th></th>\n",
       "      <th></th>\n",
       "    </tr>\n",
       "  </thead>\n",
       "  <tbody>\n",
       "    <tr>\n",
       "      <th>Alabama</th>\n",
       "      <td>16372.0</td>\n",
       "      <td>1.079980e+09</td>\n",
       "      <td>3785.00</td>\n",
       "      <td>13.9400</td>\n",
       "      <td>395.00</td>\n",
       "      <td>26.130</td>\n",
       "      <td>623.960</td>\n",
       "      <td>38096.00</td>\n",
       "      <td>97600.0</td>\n",
       "      <td>28.80</td>\n",
       "      <td>...</td>\n",
       "      <td>0.21</td>\n",
       "      <td>0.00</td>\n",
       "      <td>0.950</td>\n",
       "      <td>0.00</td>\n",
       "      <td>9.0</td>\n",
       "      <td>5.0</td>\n",
       "      <td>1.4100</td>\n",
       "      <td>2.4600</td>\n",
       "      <td>48.3</td>\n",
       "      <td>51.7</td>\n",
       "    </tr>\n",
       "    <tr>\n",
       "      <th>Arizona</th>\n",
       "      <td>20923.0</td>\n",
       "      <td>4.013421e+09</td>\n",
       "      <td>3483.50</td>\n",
       "      <td>8.0725</td>\n",
       "      <td>325.00</td>\n",
       "      <td>23.355</td>\n",
       "      <td>733.000</td>\n",
       "      <td>45254.00</td>\n",
       "      <td>129050.0</td>\n",
       "      <td>26.45</td>\n",
       "      <td>...</td>\n",
       "      <td>1.45</td>\n",
       "      <td>0.05</td>\n",
       "      <td>1.455</td>\n",
       "      <td>0.08</td>\n",
       "      <td>25.0</td>\n",
       "      <td>14.0</td>\n",
       "      <td>4.7925</td>\n",
       "      <td>8.7625</td>\n",
       "      <td>49.3</td>\n",
       "      <td>50.7</td>\n",
       "    </tr>\n",
       "    <tr>\n",
       "      <th>Colorado</th>\n",
       "      <td>21291.0</td>\n",
       "      <td>8.043978e+09</td>\n",
       "      <td>3747.00</td>\n",
       "      <td>6.7300</td>\n",
       "      <td>380.50</td>\n",
       "      <td>28.220</td>\n",
       "      <td>918.000</td>\n",
       "      <td>55110.00</td>\n",
       "      <td>212100.0</td>\n",
       "      <td>28.55</td>\n",
       "      <td>...</td>\n",
       "      <td>1.40</td>\n",
       "      <td>0.01</td>\n",
       "      <td>1.530</td>\n",
       "      <td>0.04</td>\n",
       "      <td>15.5</td>\n",
       "      <td>10.0</td>\n",
       "      <td>2.7900</td>\n",
       "      <td>4.4300</td>\n",
       "      <td>49.8</td>\n",
       "      <td>50.2</td>\n",
       "    </tr>\n",
       "    <tr>\n",
       "      <th>Connecticut</th>\n",
       "      <td>22405.0</td>\n",
       "      <td>9.003405e+09</td>\n",
       "      <td>3984.47</td>\n",
       "      <td>3.3200</td>\n",
       "      <td>400.50</td>\n",
       "      <td>23.130</td>\n",
       "      <td>1049.000</td>\n",
       "      <td>72113.81</td>\n",
       "      <td>281800.0</td>\n",
       "      <td>28.60</td>\n",
       "      <td>...</td>\n",
       "      <td>2.66</td>\n",
       "      <td>0.00</td>\n",
       "      <td>1.070</td>\n",
       "      <td>0.00</td>\n",
       "      <td>9.0</td>\n",
       "      <td>6.5</td>\n",
       "      <td>1.9700</td>\n",
       "      <td>2.8800</td>\n",
       "      <td>48.3</td>\n",
       "      <td>51.7</td>\n",
       "    </tr>\n",
       "    <tr>\n",
       "      <th>Florida</th>\n",
       "      <td>14285.5</td>\n",
       "      <td>1.208600e+10</td>\n",
       "      <td>4160.00</td>\n",
       "      <td>9.5600</td>\n",
       "      <td>504.75</td>\n",
       "      <td>30.290</td>\n",
       "      <td>935.155</td>\n",
       "      <td>44004.00</td>\n",
       "      <td>138850.0</td>\n",
       "      <td>31.60</td>\n",
       "      <td>...</td>\n",
       "      <td>1.50</td>\n",
       "      <td>0.00</td>\n",
       "      <td>1.250</td>\n",
       "      <td>0.02</td>\n",
       "      <td>26.0</td>\n",
       "      <td>11.0</td>\n",
       "      <td>2.1550</td>\n",
       "      <td>5.2200</td>\n",
       "      <td>48.4</td>\n",
       "      <td>51.6</td>\n",
       "    </tr>\n",
       "  </tbody>\n",
       "</table>\n",
       "<p>5 rows × 24 columns</p>\n",
       "</div>"
      ],
      "text/plain": [
       "             Unnamed: 0         GEOID  population  poverty.rate  \\\n",
       "state                                                             \n",
       "Alabama         16372.0  1.079980e+09     3785.00       13.9400   \n",
       "Arizona         20923.0  4.013421e+09     3483.50        8.0725   \n",
       "Colorado        21291.0  8.043978e+09     3747.00        6.7300   \n",
       "Connecticut     22405.0  9.003405e+09     3984.47        3.3200   \n",
       "Florida         14285.5  1.208600e+10     4160.00        9.5600   \n",
       "\n",
       "             renter.occupied.households  pct.renter.occupied  \\\n",
       "state                                                          \n",
       "Alabama                          395.00               26.130   \n",
       "Arizona                          325.00               23.355   \n",
       "Colorado                         380.50               28.220   \n",
       "Connecticut                      400.50               23.130   \n",
       "Florida                          504.75               30.290   \n",
       "\n",
       "             median.gross.rent  median.household.income  \\\n",
       "state                                                     \n",
       "Alabama                623.960                 38096.00   \n",
       "Arizona                733.000                 45254.00   \n",
       "Colorado               918.000                 55110.00   \n",
       "Connecticut           1049.000                 72113.81   \n",
       "Florida                935.155                 44004.00   \n",
       "\n",
       "             median.property.value  rent.burden  ...  pct.asian  pct.nh.pi  \\\n",
       "state                                            ...                         \n",
       "Alabama                    97600.0        28.80  ...       0.21       0.00   \n",
       "Arizona                   129050.0        26.45  ...       1.45       0.05   \n",
       "Colorado                  212100.0        28.55  ...       1.40       0.01   \n",
       "Connecticut               281800.0        28.60  ...       2.66       0.00   \n",
       "Florida                   138850.0        31.60  ...       1.50       0.00   \n",
       "\n",
       "             pct.multiple  pct.other  eviction.filings  evictions  \\\n",
       "state                                                               \n",
       "Alabama             0.950       0.00               9.0        5.0   \n",
       "Arizona             1.455       0.08              25.0       14.0   \n",
       "Colorado            1.530       0.04              15.5       10.0   \n",
       "Connecticut         1.070       0.00               9.0        6.5   \n",
       "Florida             1.250       0.02              26.0       11.0   \n",
       "\n",
       "             eviction.rate  eviction.filing.rate  male  female  \n",
       "state                                                           \n",
       "Alabama             1.4100                2.4600  48.3    51.7  \n",
       "Arizona             4.7925                8.7625  49.3    50.7  \n",
       "Colorado            2.7900                4.4300  49.8    50.2  \n",
       "Connecticut         1.9700                2.8800  48.3    51.7  \n",
       "Florida             2.1550                5.2200  48.4    51.6  \n",
       "\n",
       "[5 rows x 24 columns]"
      ]
     },
     "execution_count": 7,
     "metadata": {},
     "output_type": "execute_result"
    }
   ],
   "source": [
    "state_df = tracts_df.groupby(by='state').median()\n",
    "state_df.head()"
   ]
  },
  {
   "cell_type": "code",
   "execution_count": 8,
   "metadata": {},
   "outputs": [],
   "source": [
    "region_dict = {'pcf' : ['Oregon', 'Washington'],\n",
    "'mt' : ['Nevada', 'Utah', 'Arizona', 'Colorado'],\n",
    "'wnc' : ['Nebraska', 'Minnesota', 'Iowa', 'Missouri'],\n",
    "'wsc' : ['Texas'],\n",
    "'enc' : ['Wisconsin', 'Illinois', 'Michigan', 'Ohio'],\n",
    "'ma' : ['Pennsylvania', 'New York'],\n",
    "'ne' : ['Massachusetts', 'Connecticut'],\n",
    "'sa' : ['Virginia', 'Georgia', 'South Carolina', 'Florida', 'North Carolina'],\n",
    "'esc' : ['Alabama', 'Kentucky']}\n",
    "\n",
    "state_list = list(tracts_df['state'])\n",
    "region_list = []\n",
    "\n",
    "for state in state_list:\n",
    "    for key, value in region_dict.items():\n",
    "        if state in value:\n",
    "            region_list.append(key)\n",
    "            \n",
    "tracts_df['region'] = region_list"
   ]
  },
  {
   "cell_type": "code",
   "execution_count": null,
   "metadata": {},
   "outputs": [],
   "source": [
    "sns.countplot('region', data=tracts_df)"
   ]
  },
  {
   "cell_type": "markdown",
   "metadata": {},
   "source": [
    "## National EDA"
   ]
  },
  {
   "cell_type": "code",
   "execution_count": null,
   "metadata": {},
   "outputs": [],
   "source": [
    "tracts_df[tracts_df['eviction.rate'] > 90 ]"
   ]
  },
  {
   "cell_type": "code",
   "execution_count": 9,
   "metadata": {},
   "outputs": [],
   "source": [
    "tracts_df.drop(tracts_df[tracts_df['eviction.rate'] > 90].index, inplace=True)"
   ]
  },
  {
   "cell_type": "markdown",
   "metadata": {},
   "source": [
    "**CLEANING**\n",
    "- Eviction rates >= 90 are misleading, as these high rates are due to the fact that an eviction has occured in a census tract with a very low amount of renters (<5)\n",
    "- I am dropping these values for the sake of extreme outlier removal"
   ]
  },
  {
   "cell_type": "code",
   "execution_count": null,
   "metadata": {},
   "outputs": [],
   "source": [
    "sns.scatterplot('poverty.rate', 'eviction.rate', data=tracts_df)"
   ]
  },
  {
   "cell_type": "code",
   "execution_count": null,
   "metadata": {},
   "outputs": [],
   "source": [
    "sns.distplot(tracts_df['poverty.rate'])"
   ]
  },
  {
   "cell_type": "markdown",
   "metadata": {},
   "source": [
    "**OBSERVATION**\n",
    "- eviction rate seems to decerease as poverty rate increases, which seems counterintuitive \n",
    "- this could be due to the fact that ~80% of the data has a poverty rate below 20%"
   ]
  },
  {
   "cell_type": "code",
   "execution_count": null,
   "metadata": {},
   "outputs": [],
   "source": [
    "sns.scatterplot('poverty.rate', 'eviction.filing.rate', data=tracts_df)"
   ]
  },
  {
   "cell_type": "code",
   "execution_count": null,
   "metadata": {},
   "outputs": [],
   "source": [
    "sns.scatterplot('pct.af.am', 'eviction.rate', data=tracts_df)"
   ]
  },
  {
   "cell_type": "code",
   "execution_count": null,
   "metadata": {},
   "outputs": [],
   "source": [
    "sns.scatterplot('pct.af.am', 'rent.burden', data=tracts_df)"
   ]
  },
  {
   "cell_type": "code",
   "execution_count": 106,
   "metadata": {},
   "outputs": [
    {
     "data": {
      "text/html": [
       "<div>\n",
       "<style scoped>\n",
       "    .dataframe tbody tr th:only-of-type {\n",
       "        vertical-align: middle;\n",
       "    }\n",
       "\n",
       "    .dataframe tbody tr th {\n",
       "        vertical-align: top;\n",
       "    }\n",
       "\n",
       "    .dataframe thead th {\n",
       "        text-align: right;\n",
       "    }\n",
       "</style>\n",
       "<table border=\"1\" class=\"dataframe\">\n",
       "  <thead>\n",
       "    <tr style=\"text-align: right;\">\n",
       "      <th></th>\n",
       "      <th>Unnamed: 0</th>\n",
       "      <th>name</th>\n",
       "      <th>state</th>\n",
       "      <th>GEOID</th>\n",
       "      <th>population</th>\n",
       "      <th>poverty.rate</th>\n",
       "      <th>renter.occupied.households</th>\n",
       "      <th>pct.renter.occupied</th>\n",
       "      <th>median.gross.rent</th>\n",
       "      <th>median.household.income</th>\n",
       "      <th>...</th>\n",
       "      <th>pct.multiple</th>\n",
       "      <th>pct.other</th>\n",
       "      <th>eviction.filings</th>\n",
       "      <th>evictions</th>\n",
       "      <th>eviction.rate</th>\n",
       "      <th>eviction.filing.rate</th>\n",
       "      <th>male</th>\n",
       "      <th>female</th>\n",
       "      <th>region</th>\n",
       "      <th>ef</th>\n",
       "    </tr>\n",
       "  </thead>\n",
       "  <tbody>\n",
       "    <tr>\n",
       "      <th>0</th>\n",
       "      <td>0</td>\n",
       "      <td>1.01_Ashtabula County</td>\n",
       "      <td>Ohio</td>\n",
       "      <td>3.900700e+10</td>\n",
       "      <td>4824.00</td>\n",
       "      <td>15.92</td>\n",
       "      <td>482.0</td>\n",
       "      <td>31.30</td>\n",
       "      <td>377.0</td>\n",
       "      <td>32277.0</td>\n",
       "      <td>...</td>\n",
       "      <td>1.47</td>\n",
       "      <td>0.00</td>\n",
       "      <td>20.0</td>\n",
       "      <td>7.0</td>\n",
       "      <td>1.82</td>\n",
       "      <td>4.270</td>\n",
       "      <td>66.7</td>\n",
       "      <td>33.3</td>\n",
       "      <td>enc</td>\n",
       "      <td>0.350000</td>\n",
       "    </tr>\n",
       "    <tr>\n",
       "      <th>1</th>\n",
       "      <td>1</td>\n",
       "      <td>1.01_Brazos County</td>\n",
       "      <td>Texas</td>\n",
       "      <td>4.804100e+10</td>\n",
       "      <td>6122.16</td>\n",
       "      <td>11.20</td>\n",
       "      <td>728.0</td>\n",
       "      <td>24.73</td>\n",
       "      <td>880.0</td>\n",
       "      <td>58634.0</td>\n",
       "      <td>...</td>\n",
       "      <td>0.79</td>\n",
       "      <td>0.00</td>\n",
       "      <td>17.0</td>\n",
       "      <td>6.0</td>\n",
       "      <td>0.82</td>\n",
       "      <td>2.340</td>\n",
       "      <td>48.4</td>\n",
       "      <td>51.6</td>\n",
       "      <td>wsc</td>\n",
       "      <td>0.352941</td>\n",
       "    </tr>\n",
       "    <tr>\n",
       "      <th>2</th>\n",
       "      <td>2</td>\n",
       "      <td>1.01_Cache County</td>\n",
       "      <td>Utah</td>\n",
       "      <td>4.900500e+10</td>\n",
       "      <td>4872.00</td>\n",
       "      <td>6.68</td>\n",
       "      <td>285.0</td>\n",
       "      <td>15.23</td>\n",
       "      <td>673.0</td>\n",
       "      <td>52075.0</td>\n",
       "      <td>...</td>\n",
       "      <td>0.49</td>\n",
       "      <td>0.00</td>\n",
       "      <td>4.0</td>\n",
       "      <td>3.0</td>\n",
       "      <td>1.05</td>\n",
       "      <td>1.395</td>\n",
       "      <td>50.4</td>\n",
       "      <td>49.6</td>\n",
       "      <td>mt</td>\n",
       "      <td>0.750000</td>\n",
       "    </tr>\n",
       "    <tr>\n",
       "      <th>3</th>\n",
       "      <td>3</td>\n",
       "      <td>1.01_Clark County</td>\n",
       "      <td>Nevada</td>\n",
       "      <td>3.200300e+10</td>\n",
       "      <td>6757.00</td>\n",
       "      <td>11.76</td>\n",
       "      <td>485.0</td>\n",
       "      <td>26.17</td>\n",
       "      <td>1189.0</td>\n",
       "      <td>46843.0</td>\n",
       "      <td>...</td>\n",
       "      <td>1.26</td>\n",
       "      <td>0.00</td>\n",
       "      <td>43.0</td>\n",
       "      <td>24.0</td>\n",
       "      <td>4.84</td>\n",
       "      <td>8.680</td>\n",
       "      <td>50.5</td>\n",
       "      <td>49.5</td>\n",
       "      <td>mt</td>\n",
       "      <td>0.558140</td>\n",
       "    </tr>\n",
       "    <tr>\n",
       "      <th>4</th>\n",
       "      <td>4</td>\n",
       "      <td>1.01_Durham County</td>\n",
       "      <td>North Carolina</td>\n",
       "      <td>3.706300e+10</td>\n",
       "      <td>2895.00</td>\n",
       "      <td>28.02</td>\n",
       "      <td>481.5</td>\n",
       "      <td>47.89</td>\n",
       "      <td>694.0</td>\n",
       "      <td>35467.0</td>\n",
       "      <td>...</td>\n",
       "      <td>3.73</td>\n",
       "      <td>0.00</td>\n",
       "      <td>159.0</td>\n",
       "      <td>34.0</td>\n",
       "      <td>6.89</td>\n",
       "      <td>33.250</td>\n",
       "      <td>45.1</td>\n",
       "      <td>54.9</td>\n",
       "      <td>sa</td>\n",
       "      <td>0.213836</td>\n",
       "    </tr>\n",
       "    <tr>\n",
       "      <th>...</th>\n",
       "      <td>...</td>\n",
       "      <td>...</td>\n",
       "      <td>...</td>\n",
       "      <td>...</td>\n",
       "      <td>...</td>\n",
       "      <td>...</td>\n",
       "      <td>...</td>\n",
       "      <td>...</td>\n",
       "      <td>...</td>\n",
       "      <td>...</td>\n",
       "      <td>...</td>\n",
       "      <td>...</td>\n",
       "      <td>...</td>\n",
       "      <td>...</td>\n",
       "      <td>...</td>\n",
       "      <td>...</td>\n",
       "      <td>...</td>\n",
       "      <td>...</td>\n",
       "      <td>...</td>\n",
       "      <td>...</td>\n",
       "      <td>...</td>\n",
       "    </tr>\n",
       "    <tr>\n",
       "      <th>36053</th>\n",
       "      <td>36053</td>\n",
       "      <td>990.0_Kings County</td>\n",
       "      <td>New York</td>\n",
       "      <td>3.604710e+10</td>\n",
       "      <td>1473.00</td>\n",
       "      <td>10.88</td>\n",
       "      <td>209.0</td>\n",
       "      <td>41.76</td>\n",
       "      <td>1020.0</td>\n",
       "      <td>59306.0</td>\n",
       "      <td>...</td>\n",
       "      <td>0.00</td>\n",
       "      <td>0.00</td>\n",
       "      <td>15.0</td>\n",
       "      <td>8.0</td>\n",
       "      <td>3.80</td>\n",
       "      <td>7.130</td>\n",
       "      <td>46.2</td>\n",
       "      <td>53.8</td>\n",
       "      <td>ma</td>\n",
       "      <td>0.533333</td>\n",
       "    </tr>\n",
       "    <tr>\n",
       "      <th>36054</th>\n",
       "      <td>36054</td>\n",
       "      <td>992.0_Kings County</td>\n",
       "      <td>New York</td>\n",
       "      <td>3.604710e+10</td>\n",
       "      <td>1467.00</td>\n",
       "      <td>4.09</td>\n",
       "      <td>253.0</td>\n",
       "      <td>43.48</td>\n",
       "      <td>1193.0</td>\n",
       "      <td>69965.0</td>\n",
       "      <td>...</td>\n",
       "      <td>0.00</td>\n",
       "      <td>0.00</td>\n",
       "      <td>10.0</td>\n",
       "      <td>6.0</td>\n",
       "      <td>2.36</td>\n",
       "      <td>3.970</td>\n",
       "      <td>45.3</td>\n",
       "      <td>54.7</td>\n",
       "      <td>ma</td>\n",
       "      <td>0.600000</td>\n",
       "    </tr>\n",
       "    <tr>\n",
       "      <th>36055</th>\n",
       "      <td>36055</td>\n",
       "      <td>994.0_Kings County</td>\n",
       "      <td>New York</td>\n",
       "      <td>3.604710e+10</td>\n",
       "      <td>2195.00</td>\n",
       "      <td>3.85</td>\n",
       "      <td>295.0</td>\n",
       "      <td>49.31</td>\n",
       "      <td>1413.0</td>\n",
       "      <td>82903.0</td>\n",
       "      <td>...</td>\n",
       "      <td>0.00</td>\n",
       "      <td>0.00</td>\n",
       "      <td>31.0</td>\n",
       "      <td>9.0</td>\n",
       "      <td>3.07</td>\n",
       "      <td>10.590</td>\n",
       "      <td>50.5</td>\n",
       "      <td>49.5</td>\n",
       "      <td>ma</td>\n",
       "      <td>0.290323</td>\n",
       "    </tr>\n",
       "    <tr>\n",
       "      <th>36056</th>\n",
       "      <td>36056</td>\n",
       "      <td>996.0_Kings County</td>\n",
       "      <td>New York</td>\n",
       "      <td>3.604710e+10</td>\n",
       "      <td>3986.00</td>\n",
       "      <td>3.06</td>\n",
       "      <td>565.0</td>\n",
       "      <td>46.02</td>\n",
       "      <td>1266.0</td>\n",
       "      <td>67757.0</td>\n",
       "      <td>...</td>\n",
       "      <td>0.00</td>\n",
       "      <td>0.45</td>\n",
       "      <td>27.0</td>\n",
       "      <td>9.0</td>\n",
       "      <td>1.59</td>\n",
       "      <td>4.770</td>\n",
       "      <td>46.4</td>\n",
       "      <td>53.6</td>\n",
       "      <td>ma</td>\n",
       "      <td>0.333333</td>\n",
       "    </tr>\n",
       "    <tr>\n",
       "      <th>36057</th>\n",
       "      <td>36057</td>\n",
       "      <td>998.0_Kings County</td>\n",
       "      <td>New York</td>\n",
       "      <td>3.604710e+10</td>\n",
       "      <td>3207.00</td>\n",
       "      <td>14.20</td>\n",
       "      <td>658.0</td>\n",
       "      <td>50.90</td>\n",
       "      <td>1253.0</td>\n",
       "      <td>46719.0</td>\n",
       "      <td>...</td>\n",
       "      <td>0.00</td>\n",
       "      <td>0.00</td>\n",
       "      <td>29.0</td>\n",
       "      <td>11.0</td>\n",
       "      <td>1.68</td>\n",
       "      <td>4.390</td>\n",
       "      <td>44.3</td>\n",
       "      <td>55.7</td>\n",
       "      <td>ma</td>\n",
       "      <td>0.379310</td>\n",
       "    </tr>\n",
       "  </tbody>\n",
       "</table>\n",
       "<p>34606 rows × 28 columns</p>\n",
       "</div>"
      ],
      "text/plain": [
       "       Unnamed: 0                   name           state         GEOID  \\\n",
       "0               0  1.01_Ashtabula County            Ohio  3.900700e+10   \n",
       "1               1     1.01_Brazos County           Texas  4.804100e+10   \n",
       "2               2      1.01_Cache County            Utah  4.900500e+10   \n",
       "3               3      1.01_Clark County          Nevada  3.200300e+10   \n",
       "4               4     1.01_Durham County  North Carolina  3.706300e+10   \n",
       "...           ...                    ...             ...           ...   \n",
       "36053       36053     990.0_Kings County        New York  3.604710e+10   \n",
       "36054       36054     992.0_Kings County        New York  3.604710e+10   \n",
       "36055       36055     994.0_Kings County        New York  3.604710e+10   \n",
       "36056       36056     996.0_Kings County        New York  3.604710e+10   \n",
       "36057       36057     998.0_Kings County        New York  3.604710e+10   \n",
       "\n",
       "       population  poverty.rate  renter.occupied.households  \\\n",
       "0         4824.00         15.92                       482.0   \n",
       "1         6122.16         11.20                       728.0   \n",
       "2         4872.00          6.68                       285.0   \n",
       "3         6757.00         11.76                       485.0   \n",
       "4         2895.00         28.02                       481.5   \n",
       "...           ...           ...                         ...   \n",
       "36053     1473.00         10.88                       209.0   \n",
       "36054     1467.00          4.09                       253.0   \n",
       "36055     2195.00          3.85                       295.0   \n",
       "36056     3986.00          3.06                       565.0   \n",
       "36057     3207.00         14.20                       658.0   \n",
       "\n",
       "       pct.renter.occupied  median.gross.rent  median.household.income  ...  \\\n",
       "0                    31.30              377.0                  32277.0  ...   \n",
       "1                    24.73              880.0                  58634.0  ...   \n",
       "2                    15.23              673.0                  52075.0  ...   \n",
       "3                    26.17             1189.0                  46843.0  ...   \n",
       "4                    47.89              694.0                  35467.0  ...   \n",
       "...                    ...                ...                      ...  ...   \n",
       "36053                41.76             1020.0                  59306.0  ...   \n",
       "36054                43.48             1193.0                  69965.0  ...   \n",
       "36055                49.31             1413.0                  82903.0  ...   \n",
       "36056                46.02             1266.0                  67757.0  ...   \n",
       "36057                50.90             1253.0                  46719.0  ...   \n",
       "\n",
       "       pct.multiple  pct.other  eviction.filings  evictions  eviction.rate  \\\n",
       "0              1.47       0.00              20.0        7.0           1.82   \n",
       "1              0.79       0.00              17.0        6.0           0.82   \n",
       "2              0.49       0.00               4.0        3.0           1.05   \n",
       "3              1.26       0.00              43.0       24.0           4.84   \n",
       "4              3.73       0.00             159.0       34.0           6.89   \n",
       "...             ...        ...               ...        ...            ...   \n",
       "36053          0.00       0.00              15.0        8.0           3.80   \n",
       "36054          0.00       0.00              10.0        6.0           2.36   \n",
       "36055          0.00       0.00              31.0        9.0           3.07   \n",
       "36056          0.00       0.45              27.0        9.0           1.59   \n",
       "36057          0.00       0.00              29.0       11.0           1.68   \n",
       "\n",
       "       eviction.filing.rate  male  female  region        ef  \n",
       "0                     4.270  66.7    33.3     enc  0.350000  \n",
       "1                     2.340  48.4    51.6     wsc  0.352941  \n",
       "2                     1.395  50.4    49.6      mt  0.750000  \n",
       "3                     8.680  50.5    49.5      mt  0.558140  \n",
       "4                    33.250  45.1    54.9      sa  0.213836  \n",
       "...                     ...   ...     ...     ...       ...  \n",
       "36053                 7.130  46.2    53.8      ma  0.533333  \n",
       "36054                 3.970  45.3    54.7      ma  0.600000  \n",
       "36055                10.590  50.5    49.5      ma  0.290323  \n",
       "36056                 4.770  46.4    53.6      ma  0.333333  \n",
       "36057                 4.390  44.3    55.7      ma  0.379310  \n",
       "\n",
       "[34606 rows x 28 columns]"
      ]
     },
     "execution_count": 106,
     "metadata": {},
     "output_type": "execute_result"
    }
   ],
   "source": [
    "tracts_df"
   ]
  },
  {
   "cell_type": "markdown",
   "metadata": {},
   "source": [
    "**OBSERVATION**\n",
    "- "
   ]
  },
  {
   "cell_type": "code",
   "execution_count": null,
   "metadata": {},
   "outputs": [],
   "source": [
    "sns.scatterplot('pct.white', 'eviction.rate', data=tracts_df)"
   ]
  },
  {
   "cell_type": "code",
   "execution_count": null,
   "metadata": {},
   "outputs": [],
   "source": [
    "sns.scatterplot('pct.white', 'rent.burden', data=tracts_df)"
   ]
  },
  {
   "cell_type": "code",
   "execution_count": null,
   "metadata": {},
   "outputs": [],
   "source": [
    "sns.scatterplot('rent.burden', 'eviction.rate', data=tracts_df)"
   ]
  },
  {
   "cell_type": "code",
   "execution_count": null,
   "metadata": {},
   "outputs": [],
   "source": [
    "sns.boxplot('poverty.rate', data=tracts_df)"
   ]
  },
  {
   "cell_type": "code",
   "execution_count": null,
   "metadata": {},
   "outputs": [],
   "source": [
    "sns.boxplot('eviction.rate', data=tracts_df[tracts_df['eviction.rate'] < 100])"
   ]
  },
  {
   "cell_type": "markdown",
   "metadata": {},
   "source": [
    "# Majority Ethnicity T-test"
   ]
  },
  {
   "cell_type": "code",
   "execution_count": null,
   "metadata": {},
   "outputs": [],
   "source": [
    "from scipy.stats import ttest_ind"
   ]
  },
  {
   "cell_type": "code",
   "execution_count": null,
   "metadata": {},
   "outputs": [],
   "source": [
    "maj_white = tracts_df[tracts_df['pct.white'] > 50.4]\n",
    "\n",
    "\n",
    "min_white = tracts_df[tracts_df['pct.white'] <= 50.4]\n"
   ]
  },
  {
   "cell_type": "code",
   "execution_count": null,
   "metadata": {},
   "outputs": [],
   "source": [
    "white_ttest = ttest_ind(maj_white['eviction.rate'], min_white['eviction.rate'])"
   ]
  },
  {
   "cell_type": "code",
   "execution_count": null,
   "metadata": {},
   "outputs": [],
   "source": [
    "white_ttest"
   ]
  },
  {
   "cell_type": "code",
   "execution_count": null,
   "metadata": {},
   "outputs": [],
   "source": [
    "print('Majority White Eviction Rate:', maj_white['eviction.rate'].median())\n",
    "print('Minority White Eviction Rate:', min_white['eviction.rate'].median())"
   ]
  },
  {
   "cell_type": "code",
   "execution_count": null,
   "metadata": {},
   "outputs": [],
   "source": [
    "sns.scatterplot('pct.white', 'eviction.rate', data=maj_white)"
   ]
  },
  {
   "cell_type": "code",
   "execution_count": null,
   "metadata": {},
   "outputs": [],
   "source": [
    "sns.scatterplot('pct.white', 'eviction.rate', data=min_white)"
   ]
  },
  {
   "cell_type": "code",
   "execution_count": null,
   "metadata": {},
   "outputs": [],
   "source": [
    "maj_afam = tracts_df[tracts_df['pct.af.am'] > 50.4]\n",
    "min_afam = tracts_df[tracts_df['pct.af.am'] <= 50.4]\n",
    "\n",
    "afam_ttest = ttest_ind(maj_afam['eviction.rate'], min_afam['eviction.rate'])\n",
    "\n",
    "print(afam_ttest[1])\n",
    "print('Majority Eviction Rate:', maj_afam['eviction.rate'].median())\n",
    "print('Minority Eviction Rate:', min_afam['eviction.rate'].median())\n",
    "\n"
   ]
  },
  {
   "cell_type": "code",
   "execution_count": null,
   "metadata": {},
   "outputs": [],
   "source": [
    "sns.scatterplot('pct.af.am', 'eviction.rate', data=maj_afam)"
   ]
  },
  {
   "cell_type": "code",
   "execution_count": null,
   "metadata": {},
   "outputs": [],
   "source": [
    "sns.scatterplot('pct.af.am', 'eviction.rate', data=min_afam)"
   ]
  },
  {
   "cell_type": "code",
   "execution_count": null,
   "metadata": {},
   "outputs": [],
   "source": [
    "maj_hispanic = tracts_df[tracts_df['pct.hispanic'] > 50.4]\n",
    "min_hispanic = tracts_df[tracts_df['pct.hispanic'] <= 50.4]\n",
    "\n",
    "hispanic_ttest = ttest_ind(maj_hispanic['eviction.rate'], min_hispanic['eviction.rate'])\n",
    "\n",
    "print(hispanic_ttest[1])\n",
    "print('Majority Eviction Rate:', maj_hispanic['eviction.rate'].median())\n",
    "print('Minority Eviction Rate:', min_hispanic['eviction.rate'].median())\n"
   ]
  },
  {
   "cell_type": "code",
   "execution_count": null,
   "metadata": {},
   "outputs": [],
   "source": [
    "sns.scatterplot('pct.hispanic', 'eviction.rate', data=maj_hispanic)"
   ]
  },
  {
   "cell_type": "code",
   "execution_count": null,
   "metadata": {},
   "outputs": [],
   "source": [
    "sns.scatterplot('pct.hispanic', 'eviction.rate', data=min_hispanic)"
   ]
  },
  {
   "cell_type": "code",
   "execution_count": null,
   "metadata": {},
   "outputs": [],
   "source": [
    "maj_amind = tracts_df[tracts_df['pct.am.ind'] > 50.4]\n",
    "min_amind = tracts_df[tracts_df['pct.am.ind'] <= 50.4]\n",
    "\n",
    "amind_ttest = ttest_ind(maj_amind['eviction.rate'], min_amind['eviction.rate'])\n",
    "\n",
    "print(amind_ttest[1])\n",
    "print('Majority Eviction Rate:', maj_amind['eviction.rate'].median())\n",
    "print('Minority Eviction Rate:', min_amind['eviction.rate'].median())\n"
   ]
  },
  {
   "cell_type": "code",
   "execution_count": null,
   "metadata": {},
   "outputs": [],
   "source": [
    "maj_asian = tracts_df[tracts_df['pct.asian'] > 50.4]\n",
    "min_asian = tracts_df[tracts_df['pct.asian'] <= 50.4]\n",
    "\n",
    "asian_ttest = ttest_ind(maj_asian['eviction.rate'], min_asian['eviction.rate'])\n",
    "\n",
    "print(asian_ttest[1])\n",
    "print('Majority Eviction Rate:', maj_asian['eviction.rate'].median())\n",
    "print('Minority Eviction Rate:', min_asian['eviction.rate'].median())\n"
   ]
  },
  {
   "cell_type": "code",
   "execution_count": null,
   "metadata": {},
   "outputs": [],
   "source": [
    "maj_nhpi = tracts_df[tracts_df['pct.nh.pi'] > 50.4]\n",
    "min_nhpi = tracts_df[tracts_df['pct.nh.pi'] <= 50.4]\n",
    "\n",
    "nhpi_ttest = ttest_ind(maj_nhpi['eviction.rate'], min_nhpi['eviction.rate'])\n",
    "\n",
    "print(nhpi_ttest[1])\n",
    "print('Majority Eviction Rate:', maj_nhpi['eviction.rate'].median())\n",
    "print('Minority Eviction Rate:', min_nhpi['eviction.rate'].median())\n"
   ]
  },
  {
   "cell_type": "code",
   "execution_count": null,
   "metadata": {},
   "outputs": [],
   "source": [
    "maj_mult = tracts_df[tracts_df['pct.multiple'] > 50.4]\n",
    "min_mult = tracts_df[tracts_df['pct.multiple'] <= 50.4]\n",
    "\n",
    "mult_ttest = ttest_ind(maj_mult['eviction.rate'], min_mult['eviction.rate'])\n",
    "\n",
    "print(mult_ttest[1])\n",
    "print('Majority Eviction Rate:', maj_mult['eviction.rate'].median())\n",
    "print('Minority Eviction Rate:', min_mult['eviction.rate'].median())\n"
   ]
  },
  {
   "cell_type": "code",
   "execution_count": null,
   "metadata": {},
   "outputs": [],
   "source": [
    "maj_other = tracts_df[tracts_df['pct.other'] > 50.4]\n",
    "min_other = tracts_df[tracts_df['pct.other'] <= 50.4]\n",
    "\n",
    "other_ttest = ttest_ind(maj_other['eviction.rate'], min_other['eviction.rate'])\n",
    "\n",
    "print(other_ttest[1])\n",
    "print('Majority Eviction Rate:', maj_mult['eviction.rate'].median())\n",
    "print('Minority Eviction Rate:', min_mult['eviction.rate'].median())\n"
   ]
  },
  {
   "cell_type": "markdown",
   "metadata": {},
   "source": [
    "# Majority Gender T-test"
   ]
  },
  {
   "cell_type": "code",
   "execution_count": null,
   "metadata": {},
   "outputs": [],
   "source": [
    "maj_male = tracts_df[tracts_df['male'] > 50.4]\n",
    "min_male = tracts_df[tracts_df['male'] <= 50.4]\n",
    "\n",
    "male_ttest = ttest_ind(maj_male['eviction.rate'], min_male['eviction.rate'])\n",
    "\n",
    "print(male_ttest[1])\n",
    "print('Majority Eviction Rate:', maj_male['eviction.rate'].median())\n",
    "print('Minority Eviction Rate:', min_male['eviction.rate'].median())\n"
   ]
  },
  {
   "cell_type": "code",
   "execution_count": null,
   "metadata": {},
   "outputs": [],
   "source": [
    "sns.scatterplot('male', 'eviction.rate', data=maj_male)"
   ]
  },
  {
   "cell_type": "code",
   "execution_count": null,
   "metadata": {},
   "outputs": [],
   "source": [
    "sns.scatterplot('male', 'eviction.rate', data=min_male)"
   ]
  },
  {
   "cell_type": "code",
   "execution_count": null,
   "metadata": {},
   "outputs": [],
   "source": [
    "sns.scatterplot('male', 'eviction.rate', data=tracts_df)"
   ]
  },
  {
   "cell_type": "code",
   "execution_count": null,
   "metadata": {},
   "outputs": [],
   "source": [
    "maj_female = tracts_df[tracts_df['female'] > 50.4]\n",
    "min_female = tracts_df[tracts_df['female'] <= 50.4]\n",
    "\n",
    "female_ttest = ttest_ind(maj_female['eviction.rate'], min_female['eviction.rate'])\n",
    "\n",
    "print(female_ttest[1])\n",
    "print('Majority Eviction Rate:', maj_female['eviction.rate'].median())\n",
    "print('Minority Eviction Rate:', min_female['eviction.rate'].median())\n"
   ]
  },
  {
   "cell_type": "code",
   "execution_count": null,
   "metadata": {},
   "outputs": [],
   "source": [
    "sns.scatterplot('female', 'eviction.rate', data=tracts_df)"
   ]
  },
  {
   "cell_type": "markdown",
   "metadata": {},
   "source": [
    "## State Level EDA\n"
   ]
  },
  {
   "cell_type": "code",
   "execution_count": null,
   "metadata": {},
   "outputs": [],
   "source": [
    "state_df.reset_index(inplace=True)"
   ]
  },
  {
   "cell_type": "code",
   "execution_count": null,
   "metadata": {},
   "outputs": [],
   "source": [
    "state_df"
   ]
  },
  {
   "cell_type": "code",
   "execution_count": null,
   "metadata": {},
   "outputs": [],
   "source": [
    "fig, ax = plt.subplots(figsize=(20,10))\n",
    "\n",
    "ax = sns.barplot('eviction.rate', 'state', data=state_df.sort_values('eviction.rate', ascending=False))"
   ]
  },
  {
   "cell_type": "code",
   "execution_count": null,
   "metadata": {},
   "outputs": [],
   "source": [
    "fig, ax = plt.subplots(figsize=(20,10))\n",
    "\n",
    "ax = sns.barplot('eviction.filing.rate', 'state', data=state_df.sort_values('eviction.filing.rate', ascending=False))"
   ]
  },
  {
   "cell_type": "code",
   "execution_count": null,
   "metadata": {},
   "outputs": [],
   "source": [
    "fig, ax = plt.subplots(figsize=(20,10))\n",
    "\n",
    "ax = sns.barplot('renter.occupied.households', 'state', data=state_df.sort_values('renter.occupied.households',ascending=False))"
   ]
  },
  {
   "cell_type": "code",
   "execution_count": null,
   "metadata": {},
   "outputs": [],
   "source": [
    "fig, ax = plt.subplots(figsize=(20,10))\n",
    "\n",
    "ax = sns.barplot('poverty.rate', 'state', data=state_df.sort_values('poverty.rate', ascending=False))"
   ]
  },
  {
   "cell_type": "code",
   "execution_count": null,
   "metadata": {},
   "outputs": [],
   "source": [
    "fig, ax = plt.subplots(figsize=(20,10))\n",
    "\n",
    "ax = sns.barplot('rent.burden', 'state', data=state_df.sort_values('rent.burden', ascending=False))"
   ]
  },
  {
   "cell_type": "markdown",
   "metadata": {},
   "source": [
    "# More EDA"
   ]
  },
  {
   "cell_type": "code",
   "execution_count": null,
   "metadata": {},
   "outputs": [],
   "source": []
  },
  {
   "cell_type": "code",
   "execution_count": null,
   "metadata": {},
   "outputs": [],
   "source": [
    "sns.scatterplot('eviction.rate', 'eviction.filing.rate', data=tracts_df)"
   ]
  },
  {
   "cell_type": "code",
   "execution_count": 10,
   "metadata": {},
   "outputs": [],
   "source": [
    "tracts_df['ef'] = tracts_df['evictions'] / tracts_df['eviction.filings']"
   ]
  },
  {
   "cell_type": "code",
   "execution_count": 12,
   "metadata": {},
   "outputs": [],
   "source": [
    "tracts_df.fillna(0, inplace=True)"
   ]
  },
  {
   "cell_type": "code",
   "execution_count": 13,
   "metadata": {},
   "outputs": [
    {
     "data": {
      "text/plain": [
       "0        0.350000\n",
       "1        0.352941\n",
       "2        0.750000\n",
       "3        0.558140\n",
       "4        0.213836\n",
       "           ...   \n",
       "36053    0.533333\n",
       "36054    0.600000\n",
       "36055    0.290323\n",
       "36056    0.333333\n",
       "36057    0.379310\n",
       "Name: ef, Length: 34606, dtype: float64"
      ]
     },
     "execution_count": 13,
     "metadata": {},
     "output_type": "execute_result"
    }
   ],
   "source": [
    "tracts_df['ef']"
   ]
  },
  {
   "cell_type": "code",
   "execution_count": null,
   "metadata": {},
   "outputs": [],
   "source": [
    "sns.scatterplot('ef', 'eviction.rate', data=tracts_df)"
   ]
  },
  {
   "cell_type": "markdown",
   "metadata": {},
   "source": [
    "# Modeling"
   ]
  },
  {
   "cell_type": "markdown",
   "metadata": {},
   "source": [
    "### Checking Assumptions for Linear Regression"
   ]
  },
  {
   "cell_type": "markdown",
   "metadata": {},
   "source": [
    "#### 1.  Multicullinearity"
   ]
  },
  {
   "cell_type": "code",
   "execution_count": null,
   "metadata": {},
   "outputs": [],
   "source": [
    "plt.figure(figsize=(18,10))\n",
    "sns.heatmap(data = tracts_df.corr(), center=0, annot=True)"
   ]
  },
  {
   "cell_type": "markdown",
   "metadata": {},
   "source": [
    "**OBSERVATION**\n",
    "1. Correlations .75 and above:\n",
    "    - eviction.filings vs evitions\n",
    "    - eviction.filings vs eviction.filings.rate\n",
    "    - male vs female \n",
    "2. Dropping evictions and eviction.filing.rate as their values are reflected in eviction.filings\n",
    "    - dropping renter.occupied.households (despite being slightly lower than 0.75) due to value being reflected in pct.renter.occupied\n",
    "3. Dropping male column as insight will be inferrable based on findings of female variable "
   ]
  },
  {
   "cell_type": "code",
   "execution_count": 14,
   "metadata": {},
   "outputs": [],
   "source": [
    "model_df = tracts_df.drop(['evictions', 'eviction.filing.rate', 'renter.occupied.households', \n",
    "                           'Unnamed: 0', 'name', 'GEOID', 'male', 'pct.white', 'state'], axis=1)"
   ]
  },
  {
   "cell_type": "code",
   "execution_count": null,
   "metadata": {},
   "outputs": [],
   "source": [
    "plt.figure(figsize=(18,10))\n",
    "sns.heatmap(data = model_df.corr(), center=0, annot=True)"
   ]
  },
  {
   "cell_type": "code",
   "execution_count": 15,
   "metadata": {},
   "outputs": [],
   "source": [
    "region_dummies = pd.get_dummies(tracts_df['region'], drop_first=True)\n",
    "model_df = pd.concat([model_df, region_dummies], axis=1)\n",
    "model_df.drop('region', axis=1, inplace=True)"
   ]
  },
  {
   "cell_type": "code",
   "execution_count": 16,
   "metadata": {},
   "outputs": [],
   "source": [
    " model_df.columns = model_df.columns.str.replace(\".\",\"_\")"
   ]
  },
  {
   "cell_type": "code",
   "execution_count": null,
   "metadata": {},
   "outputs": [],
   "source": [
    "model_df"
   ]
  },
  {
   "cell_type": "markdown",
   "metadata": {},
   "source": [
    "## Linear Regression"
   ]
  },
  {
   "cell_type": "code",
   "execution_count": 17,
   "metadata": {},
   "outputs": [],
   "source": [
    "from sklearn.model_selection import train_test_split\n",
    "from sklearn.linear_model import LinearRegression\n",
    "from sklearn.metrics import mean_squared_error\n",
    "from statsmodels.formula.api import ols\n",
    "import statsmodels.api as sm\n"
   ]
  },
  {
   "cell_type": "code",
   "execution_count": 18,
   "metadata": {},
   "outputs": [],
   "source": [
    "def linreg_model(df, target):\n",
    "    outcome = target\n",
    "    predictors = df.drop(target, axis=1)\n",
    "    predictor_variables = \"+\".join(predictors.columns)\n",
    "    formula = outcome + '~' + predictor_variables\n",
    "    model_baseline = ols(formula=formula, data=df).fit()\n",
    "     \n",
    "    X = model_df.drop(\"eviction_rate\", axis = 1)\n",
    "    y = model_df['eviction_rate']\n",
    "\n",
    "    X_train, X_test, y_train, y_test = train_test_split(X, y, test_size = 0.25, random_state = 25)\n",
    "\n",
    "    baseline_linreg = LinearRegression()\n",
    "\n",
    "    baseline_linreg.fit(X_train, y_train)\n",
    "\n",
    "    y_pred = baseline_linreg.predict(X_test)\n",
    "\n",
    "    residuals = y_pred - y_test\n",
    "    \n",
    "    \n",
    "    mse_train = mean_squared_error(y_train, baseline_linreg.predict(X_train))\n",
    "    mse_test = mean_squared_error(y_test, y_pred)\n",
    "\n",
    "    residuals = model_baseline.resid\n",
    "    fig = sm.graphics.qqplot(residuals, dist=stats.norm, line='45', fit=True)\n",
    "\n",
    "    print(\"Train RMSE:\", np.sqrt(mse_train))\n",
    "    print(\"Test RMSE:\", np.sqrt(mse_test))\n",
    "    print('Test Difference:', np.sqrt(mse_test) - np.sqrt(mse_train))\n",
    "    fig.show()\n",
    "    \n",
    "    return model_baseline.summary()\n"
   ]
  },
  {
   "cell_type": "code",
   "execution_count": null,
   "metadata": {},
   "outputs": [],
   "source": [
    "linreg_model(model_df, 'eviction_rate')"
   ]
  },
  {
   "cell_type": "markdown",
   "metadata": {},
   "source": [
    "# Random Forrest \n"
   ]
  },
  {
   "cell_type": "code",
   "execution_count": 19,
   "metadata": {},
   "outputs": [],
   "source": [
    "from sklearn.ensemble import RandomForestRegressor\n",
    "from sklearn import tree\n",
    "from sklearn.model_selection import GridSearchCV\n",
    "from sklearn.preprocessing import StandardScaler\n",
    "\n",
    "from sklearn.metrics import explained_variance_score\n",
    "from sklearn.metrics import max_error\n",
    "from sklearn.metrics import mean_squared_error\n",
    "from sklearn.metrics import r2_score\n",
    "\n",
    "import math\n",
    "import statistics as stat"
   ]
  },
  {
   "cell_type": "code",
   "execution_count": 20,
   "metadata": {},
   "outputs": [],
   "source": [
    "def rf_report(classifier):\n",
    "    \n",
    "    # calculating variance\n",
    "    var_train = explained_variance_score(y_train, classifier.predict(X_train_scaled))\n",
    "    var_test = explained_variance_score(y_test, classifier.predict(X_test_scaled))\n",
    "    \n",
    "    #calculating max error\n",
    "    max_error_train = max_error(y_train, classifier.predict(X_train_scaled))\n",
    "    max_error_test = max_error(y_test, classifier.predict(X_test_scaled))\n",
    "    \n",
    "    #calculating RMSE\n",
    "    rmse_train = math.sqrt(mean_squared_error(y_train, classifier.predict(X_train_scaled)))\n",
    "    rmse_test = math.sqrt(mean_squared_error(y_test, classifier.predict(X_test_scaled)))\n",
    "    \n",
    "    #calculating R2\n",
    "    r_sq_train = r2_score(y_train, classifier.predict(X_train_scaled))\n",
    "    r_sq_test = r2_score(y_test, classifier.predict(X_test_scaled))\n",
    " \n",
    "\n",
    "    #printing scores\n",
    "    print('Variance --------------------------------------------')\n",
    "    print('Train Variance: {}'.format(var_train))\n",
    "    print('Test Variance: {}'.format(var_test))\n",
    "    print('Max Error --------------------------------------------')\n",
    "    print('Max Error Train: {}'.format(max_error_train))\n",
    "    print('Max Error Test: {}'.format(max_error_test))\n",
    "    print('RMSE --------------------------------------------')\n",
    "    print('Train RMSE: {}'.format(rmse_train))\n",
    "    print('Test RMSE: {}'.format(rmse_test))\n",
    "    print('R2 --------------------------------------------')\n",
    "    print('R2 Train: {}'.format(r_sq_train))\n",
    "    print('R2 Test: {}'.format(r_sq_test))\n",
    "\n",
    "    \n",
    "    "
   ]
  },
  {
   "cell_type": "code",
   "execution_count": 21,
   "metadata": {},
   "outputs": [],
   "source": [
    "X = model_df.drop(\"eviction_rate\", axis = 1)\n",
    "y = model_df['eviction_rate']\n",
    "\n",
    "X_train, X_test, y_train, y_test = train_test_split(X, y, test_size = 0.25, random_state = 25)\n",
    "\n",
    "scaler = StandardScaler()\n",
    "\n",
    "X_train_scaled = scaler.fit_transform(X_train)\n",
    "X_test_scaled = scaler.transform(X_test)"
   ]
  },
  {
   "cell_type": "markdown",
   "metadata": {},
   "source": [
    "### Random Forest Baseline"
   ]
  },
  {
   "cell_type": "code",
   "execution_count": null,
   "metadata": {},
   "outputs": [],
   "source": [
    "forest_base = RandomForestRegressor()\n",
    "forest_base_model = forest_base.fit(X_train_scaled, y_train)"
   ]
  },
  {
   "cell_type": "code",
   "execution_count": null,
   "metadata": {},
   "outputs": [],
   "source": [
    "rf_report(forest_base)"
   ]
  },
  {
   "cell_type": "code",
   "execution_count": null,
   "metadata": {},
   "outputs": [],
   "source": [
    "max_depth = []\n",
    "for classifier in forest_base_model:\n",
    "    max_depth.append(classifier.tree_.max_depth)"
   ]
  },
  {
   "cell_type": "code",
   "execution_count": null,
   "metadata": {},
   "outputs": [],
   "source": [
    "stat.median(max_depth)"
   ]
  },
  {
   "cell_type": "markdown",
   "metadata": {},
   "source": [
    "**OBSERVATION**\n",
    "- While the training model is nearly completely learning the training data, it still achieves a good R2 on the testing data\n",
    "- Overfitting occuring around depth of 31  "
   ]
  },
  {
   "cell_type": "code",
   "execution_count": 22,
   "metadata": {},
   "outputs": [],
   "source": [
    "def plot_feature_importances_base(model):\n",
    "    n_features = X_train.shape[1]\n",
    "    plt.figure(figsize=(20,20))\n",
    "    plt.barh(range(n_features), model.feature_importances_, align='center') \n",
    "    plt.yticks(np.arange(n_features), X_train.columns.values) \n",
    "    plt.xlabel('Feature importance')\n",
    "    plt.ylabel('Feature')\n",
    "    "
   ]
  },
  {
   "cell_type": "code",
   "execution_count": null,
   "metadata": {},
   "outputs": [],
   "source": [
    "plot_feature_importances_base(forest_base_model)"
   ]
  },
  {
   "cell_type": "markdown",
   "metadata": {},
   "source": [
    "**OBSERVATION**\n",
    "- As expected, the random foreset model puts much more importance on the continuous features \n",
    "- Eviction filings are by the the most important feature "
   ]
  },
  {
   "cell_type": "markdown",
   "metadata": {},
   "source": [
    "## Random Forest v2"
   ]
  },
  {
   "cell_type": "code",
   "execution_count": null,
   "metadata": {},
   "outputs": [],
   "source": [
    "forest_v2 = RandomForestRegressor()\n",
    "\n",
    "param_grid = {'max_depth': [20, 25, 30],\n",
    "             'min_samples_split': [10, 15, 20],\n",
    "             'min_samples_leaf': [20, 30, 40]}\n",
    "\n",
    "forest_v2_model = GridSearchCV(estimator = forest_v2, param_grid=param_grid, cv=3)\n",
    "forest_v2_model.fit(X_train_scaled, y_train)"
   ]
  },
  {
   "cell_type": "code",
   "execution_count": 23,
   "metadata": {},
   "outputs": [],
   "source": [
    "def report_grid(model):\n",
    "    params = print(model.best_params_)\n",
    "    print(params)\n",
    "    return rf_report(model)\n",
    "\n",
    "def plot_feature_importances(model):\n",
    "    n_features = X_train.shape[1]\n",
    "    plt.figure(figsize=(20,20))\n",
    "    plt.barh(range(n_features), model.best_estimator_.feature_importances_, align='center') \n",
    "    plt.yticks(np.arange(n_features), X_train.columns.values) \n",
    "    plt.xlabel('Feature importance')\n",
    "    plt.ylabel('Feature')"
   ]
  },
  {
   "cell_type": "code",
   "execution_count": null,
   "metadata": {},
   "outputs": [],
   "source": [
    "report_grid(forest_v2_model)"
   ]
  },
  {
   "cell_type": "markdown",
   "metadata": {},
   "source": [
    "**OBSERVATION**\n",
    "- test R2 is lower by ~3% compared to baseline, but RMSE is lower \n",
    "- testset outperforms trainset in everything EXCEPT R2\n",
    "    - this is most likely an indication of a well generalized model, however it is at the cost of a lower R2  "
   ]
  },
  {
   "cell_type": "code",
   "execution_count": null,
   "metadata": {},
   "outputs": [],
   "source": [
    "plot_feature_importances(forest_v2_model)"
   ]
  },
  {
   "cell_type": "markdown",
   "metadata": {},
   "source": [
    "## XGBoost"
   ]
  },
  {
   "cell_type": "code",
   "execution_count": 24,
   "metadata": {},
   "outputs": [],
   "source": [
    "import xgboost\n",
    "from xgboost import XGBRegressor"
   ]
  },
  {
   "cell_type": "code",
   "execution_count": null,
   "metadata": {},
   "outputs": [],
   "source": [
    "xgb_base = XGBRegressor()\n",
    "xgb_base_model = xgb_base.fit(X_train_scaled, y_train)"
   ]
  },
  {
   "cell_type": "code",
   "execution_count": null,
   "metadata": {},
   "outputs": [],
   "source": [
    "rf_report(xgb_base)"
   ]
  },
  {
   "cell_type": "code",
   "execution_count": null,
   "metadata": {},
   "outputs": [],
   "source": [
    "plot_feature_importances_base(xgb_base)"
   ]
  },
  {
   "cell_type": "markdown",
   "metadata": {},
   "source": [
    "**OBSERVATION**\n",
    "- This model is performing on par with the decision random forest basemodel\n",
    "    - slightly higher R2, but slightly higher RMSE\n",
    "- XGBoost is relying more on the cateogorical (region) features than the randomforest model "
   ]
  },
  {
   "cell_type": "code",
   "execution_count": null,
   "metadata": {},
   "outputs": [],
   "source": [
    "xgb_v2 = XGBRegressor()\n",
    "\n",
    "param_grid = {\n",
    "    'learning_rate' : [0.1, 0.2],\n",
    "    'max_depth': [4, 6, 8],\n",
    "    'min_child_weight': [1, 2],\n",
    "    'sub_sample': [0.5, 0.7],\n",
    "    \n",
    "}\n",
    "\n",
    "xgb_v2_model = GridSearchCV(estimator = xgb_v2, param_grid=param_grid, cv=3)\n",
    "xgb_v2_model.fit(X_train_scaled, y_train)"
   ]
  },
  {
   "cell_type": "code",
   "execution_count": null,
   "metadata": {},
   "outputs": [],
   "source": [
    "report_grid(xgb_v2_model)"
   ]
  },
  {
   "cell_type": "code",
   "execution_count": null,
   "metadata": {},
   "outputs": [],
   "source": [
    "plot_feature_importances(xgb_v2_model)"
   ]
  },
  {
   "cell_type": "code",
   "execution_count": null,
   "metadata": {},
   "outputs": [],
   "source": [
    "ma = tracts_df[tracts_df['region'] == 'ma']"
   ]
  },
  {
   "cell_type": "code",
   "execution_count": null,
   "metadata": {},
   "outputs": [],
   "source": [
    "sns.scatterplot('eviction.filings', 'eviction.rate', data=ma)"
   ]
  },
  {
   "cell_type": "code",
   "execution_count": null,
   "metadata": {},
   "outputs": [],
   "source": [
    "sns.scatterplot('eviction.filings', 'eviction.rate', data=tracts_df)"
   ]
  },
  {
   "cell_type": "code",
   "execution_count": null,
   "metadata": {},
   "outputs": [],
   "source": [
    "tracts_df[(tracts_df['eviction.rate'] > 8) & (tracts_df['evictions'] < 10)]"
   ]
  },
  {
   "cell_type": "code",
   "execution_count": null,
   "metadata": {},
   "outputs": [],
   "source": [
    "y.describe()"
   ]
  },
  {
   "cell_type": "markdown",
   "metadata": {},
   "source": [
    "## MLN "
   ]
  },
  {
   "cell_type": "code",
   "execution_count": 25,
   "metadata": {},
   "outputs": [],
   "source": [
    "from tensorflow.keras.models import Sequential\n",
    "from tensorflow.keras.layers import Dense, Activation\n",
    "from tensorflow.keras.callbacks import EarlyStopping\n",
    "from tensorflow.keras import optimizers\n",
    "from sklearn import metrics\n"
   ]
  },
  {
   "cell_type": "code",
   "execution_count": null,
   "metadata": {},
   "outputs": [],
   "source": [
    "base_nn = Sequential()\n",
    "base_nn.add(Dense(X.shape[1], input_dim=X.shape[1], activation='relu'))\n",
    "base_nn.add(Dense(1))\n",
    "\n",
    "earlystopper = EarlyStopping(monitor='val_loss', min_delta=0, patience=15, verbose=2, mode='auto')\n",
    "\n",
    "base_nn.compile(loss='mean_squared_error', optimizer='adam')\n",
    "base_nn.fit(X_train_scaled, y_train, validation_split=0.1, callbacks=[earlystopper],\n",
    "            verbose=2, epochs=500)"
   ]
  },
  {
   "cell_type": "code",
   "execution_count": null,
   "metadata": {},
   "outputs": [],
   "source": [
    "pred = base_nn.predict(X_test_scaled)\n",
    "score = math.sqrt(metrics.mean_squared_error(pred,y_test))\n",
    "print(\"Final score (RMSE): {}\".format(score))\n"
   ]
  },
  {
   "cell_type": "code",
   "execution_count": null,
   "metadata": {},
   "outputs": [],
   "source": [
    "print(r2_score(y_train, base_nn.predict(X_train_scaled)))\n",
    "print(r2_score(y_test, base_nn.predict(X_test_scaled)))"
   ]
  },
  {
   "cell_type": "code",
   "execution_count": null,
   "metadata": {},
   "outputs": [],
   "source": []
  },
  {
   "cell_type": "code",
   "execution_count": null,
   "metadata": {},
   "outputs": [],
   "source": []
  },
  {
   "cell_type": "code",
   "execution_count": null,
   "metadata": {},
   "outputs": [],
   "source": []
  },
  {
   "cell_type": "markdown",
   "metadata": {},
   "source": [
    "### Deeper Network "
   ]
  },
  {
   "cell_type": "code",
   "execution_count": null,
   "metadata": {},
   "outputs": [],
   "source": [
    "nn_v2 = Sequential()\n",
    "nn_v2.add(Dense(X.shape[1], input_dim=X.shape[1], activation='relu'))\n",
    "nn_v2.add(Dense(16, activation='relu'))\n",
    "nn_v2.add(Dense(1))\n",
    "\n",
    "earlystopper = EarlyStopping(monitor='val_loss', min_delta=0, patience=15, verbose=2, mode='auto')\n",
    "\n",
    "nn_v2.compile(loss='mean_squared_error', optimizer='adam')\n",
    "nn_v2.fit(X_train_scaled, y_train, validation_split=0.1, callbacks=[earlystopper],\n",
    "            verbose=2, epochs=500)"
   ]
  },
  {
   "cell_type": "code",
   "execution_count": null,
   "metadata": {},
   "outputs": [],
   "source": [
    "pred = nn_v2.predict(X_test_scaled)\n",
    "score = math.sqrt(metrics.mean_squared_error(pred,y_test))\n",
    "print(\"Final score (RMSE): {}\".format(score))\n"
   ]
  },
  {
   "cell_type": "code",
   "execution_count": null,
   "metadata": {},
   "outputs": [],
   "source": [
    "print(r2_score(y_train, nn_v2.predict(X_train_scaled)))\n",
    "print(r2_score(y_test, nn_v2.predict(X_test_scaled)))"
   ]
  },
  {
   "cell_type": "code",
   "execution_count": null,
   "metadata": {},
   "outputs": [],
   "source": []
  },
  {
   "cell_type": "markdown",
   "metadata": {},
   "source": [
    "### Different Features"
   ]
  },
  {
   "cell_type": "markdown",
   "metadata": {},
   "source": [
    "1. Dropping 'population' so that features that are ratios of population (eviction.filing.rate) can be included in the model "
   ]
  },
  {
   "cell_type": "code",
   "execution_count": 26,
   "metadata": {},
   "outputs": [],
   "source": [
    "drop_pop_df = tracts_df.drop(['renter.occupied.households', 'pct.renter.occupied', 'ef', 'eviction.filings', 'Unnamed: 0', 'name', 'GEOID', \n",
    "                              'male', 'pct.white', 'state'], axis=1)"
   ]
  },
  {
   "cell_type": "code",
   "execution_count": 27,
   "metadata": {},
   "outputs": [],
   "source": [
    "region_dummies = pd.get_dummies(drop_pop_df['region'], drop_first=True)\n",
    "drop_pop_df = pd.concat([drop_pop_df, region_dummies], axis=1)\n",
    "drop_pop_df.drop('region', axis=1, inplace=True)"
   ]
  },
  {
   "cell_type": "code",
   "execution_count": 28,
   "metadata": {},
   "outputs": [],
   "source": [
    "X = drop_pop_df.drop(\"eviction.rate\", axis = 1)\n",
    "y = drop_pop_df['eviction.rate']\n",
    "\n",
    "X_train, X_test, y_train, y_test = train_test_split(X, y, test_size = 0.25, random_state = 25)\n",
    "\n",
    "scaler = StandardScaler()\n",
    "\n",
    "X_train_scaled = scaler.fit_transform(X_train)\n",
    "X_test_scaled = scaler.transform(X_test)"
   ]
  },
  {
   "cell_type": "code",
   "execution_count": null,
   "metadata": {},
   "outputs": [],
   "source": [
    "xgb_base = XGBRegressor()\n",
    "xgb_base_model = xgb_base.fit(X_train_scaled, y_train)"
   ]
  },
  {
   "cell_type": "code",
   "execution_count": null,
   "metadata": {},
   "outputs": [],
   "source": [
    "rf_report(xgb_base)"
   ]
  },
  {
   "cell_type": "code",
   "execution_count": null,
   "metadata": {},
   "outputs": [],
   "source": [
    "plot_feature_importances_base(xgb_base_model)"
   ]
  },
  {
   "cell_type": "code",
   "execution_count": null,
   "metadata": {},
   "outputs": [],
   "source": [
    "xgb_v2 = XGBRegressor()\n",
    "\n",
    "param_grid = {\n",
    "    'learning_rate' : [0.1, 0.2],\n",
    "    'max_depth': [4, 6, 8],\n",
    "    'min_child_weight': [1, 2],\n",
    "    'sub_sample': [0.5, 0.7],\n",
    "    \n",
    "}\n",
    "\n",
    "xgb_v2_model = GridSearchCV(estimator = xgb_v2, param_grid=param_grid, cv=3)\n",
    "xgb_v2_model.fit(X_train_scaled, y_train)"
   ]
  },
  {
   "cell_type": "code",
   "execution_count": null,
   "metadata": {},
   "outputs": [],
   "source": [
    "report_grid(xgb_v2_model)"
   ]
  },
  {
   "cell_type": "code",
   "execution_count": null,
   "metadata": {},
   "outputs": [],
   "source": [
    "plot_feature_importances(xgb_v2_model)"
   ]
  },
  {
   "cell_type": "markdown",
   "metadata": {},
   "source": [
    "## MLN "
   ]
  },
  {
   "cell_type": "code",
   "execution_count": null,
   "metadata": {},
   "outputs": [],
   "source": [
    "from tensorflow.keras.models import Sequential\n",
    "from tensorflow.keras.layers import Dense, Activation\n",
    "from tensorflow.keras.callbacks import EarlyStopping\n",
    "from tensorflow.keras import optimizers\n",
    "from sklearn import metrics\n"
   ]
  },
  {
   "cell_type": "code",
   "execution_count": null,
   "metadata": {},
   "outputs": [],
   "source": [
    "base_nn = Sequential()\n",
    "base_nn.add(Dense(X.shape[1], input_dim=X.shape[1], activation='relu'))\n",
    "base_nn.add(Dense(1))\n",
    "\n",
    "earlystopper = EarlyStopping(monitor='val_loss', min_delta=0, patience=15, verbose=2, mode='auto')\n",
    "\n",
    "base_nn.compile(loss='mean_squared_error', optimizer='adam')\n",
    "base_nn.fit(X_train_scaled, y_train, validation_split=0.1, callbacks=[earlystopper],\n",
    "            verbose=2, epochs=500)"
   ]
  },
  {
   "cell_type": "code",
   "execution_count": null,
   "metadata": {},
   "outputs": [],
   "source": [
    "pred = base_nn.predict(X_test_scaled)\n",
    "score = math.sqrt(metrics.mean_squared_error(pred,y_test))\n",
    "print(\"Final score (RMSE): {}\".format(score))\n"
   ]
  },
  {
   "cell_type": "code",
   "execution_count": null,
   "metadata": {},
   "outputs": [],
   "source": [
    "print(r2_score(y_train, base_nn.predict(X_train_scaled)))\n",
    "print(r2_score(y_test, base_nn.predict(X_test_scaled)))"
   ]
  },
  {
   "cell_type": "code",
   "execution_count": null,
   "metadata": {},
   "outputs": [],
   "source": []
  },
  {
   "cell_type": "code",
   "execution_count": null,
   "metadata": {},
   "outputs": [],
   "source": []
  },
  {
   "cell_type": "code",
   "execution_count": null,
   "metadata": {},
   "outputs": [],
   "source": []
  },
  {
   "cell_type": "markdown",
   "metadata": {},
   "source": [
    "### Deeper Network "
   ]
  },
  {
   "cell_type": "code",
   "execution_count": null,
   "metadata": {},
   "outputs": [],
   "source": [
    "nn_v2 = Sequential()\n",
    "nn_v2.add(Dense(X.shape[1], input_dim=X.shape[1], activation='relu'))\n",
    "nn_v2.add(Dense(16, activation='relu'))\n",
    "nn_v2.add(Dense(1))\n",
    "\n",
    "earlystopper = EarlyStopping(monitor='val_loss', min_delta=0, patience=15, verbose=2, mode='auto')\n",
    "\n",
    "nn_v2.compile(loss='mean_squared_error', optimizer='adam')\n",
    "nn_v2.fit(X_train_scaled, y_train, validation_split=0.1, callbacks=[earlystopper],\n",
    "            verbose=2, epochs=500)"
   ]
  },
  {
   "cell_type": "code",
   "execution_count": null,
   "metadata": {},
   "outputs": [],
   "source": [
    "pred = nn_v2.predict(X_test_scaled)\n",
    "score = math.sqrt(metrics.mean_squared_error(pred,y_test))\n",
    "print(\"Final score (RMSE): {}\".format(score))\n"
   ]
  },
  {
   "cell_type": "code",
   "execution_count": null,
   "metadata": {},
   "outputs": [],
   "source": [
    "print(r2_score(y_train, nn_v2.predict(X_train_scaled)))\n",
    "print(r2_score(y_test, nn_v2.predict(X_test_scaled)))"
   ]
  },
  {
   "cell_type": "markdown",
   "metadata": {},
   "source": [
    "### Wider Network "
   ]
  },
  {
   "cell_type": "code",
   "execution_count": null,
   "metadata": {},
   "outputs": [],
   "source": [
    "nn_v2 = Sequential()\n",
    "nn_v2.add(Dense(X.shape[1]*2, input_dim=X.shape[1], activation='relu'))\n",
    "nn_v2.add(Dense(25, activation='relu'))\n",
    "nn_v2.add(Dense(1))\n",
    "\n",
    "earlystopper = EarlyStopping(monitor='val_loss', min_delta=0, patience=15, verbose=2, mode='auto')\n",
    "\n",
    "nn_v2.compile(loss='mean_squared_error', optimizer='adam')\n",
    "nn_v2.fit(X_train_scaled, y_train, validation_split=0.1, callbacks=[earlystopper],\n",
    "            verbose=2, epochs=500)"
   ]
  },
  {
   "cell_type": "code",
   "execution_count": null,
   "metadata": {},
   "outputs": [],
   "source": [
    "pred = nn_v2.predict(X_test_scaled)\n",
    "score = math.sqrt(metrics.mean_squared_error(pred,y_test))\n",
    "print(\"Final score (RMSE): {}\".format(score))\n",
    "\n",
    "\n",
    "print(r2_score(y_train, nn_v2.predict(X_train_scaled)))\n",
    "print(r2_score(y_test, nn_v2.predict(X_test_scaled)))"
   ]
  },
  {
   "cell_type": "code",
   "execution_count": null,
   "metadata": {},
   "outputs": [],
   "source": [
    "nn_v2 = Sequential()\n",
    "nn_v2.add(Dense(X.shape[1]*2, input_dim=X.shape[1], activation='relu'))\n",
    "nn_v2.add(Dense(25, activation='relu'))\n",
    "nn_v2.add(Dense(16, activation='relu'))\n",
    "nn_v2.add(Dense(1))\n",
    "\n",
    "earlystopper = EarlyStopping(monitor='val_loss', min_delta=0, patience=15, verbose=2, mode='auto')\n",
    "\n",
    "nn_v2.compile(loss='mean_squared_error', optimizer='adam')\n",
    "nn_v2.fit(X_train_scaled, y_train, validation_split=0.1, callbacks=[earlystopper],\n",
    "            verbose=2, epochs=500)"
   ]
  },
  {
   "cell_type": "code",
   "execution_count": null,
   "metadata": {},
   "outputs": [],
   "source": [
    "pred = nn_v2.predict(X_test_scaled)\n",
    "score = math.sqrt(metrics.mean_squared_error(pred,y_test))\n",
    "print(\"Final score (RMSE): {}\".format(score))\n",
    "\n",
    "\n",
    "print(r2_score(y_train, nn_v2.predict(X_train_scaled)))\n",
    "print(r2_score(y_test, nn_v2.predict(X_test_scaled)))"
   ]
  },
  {
   "cell_type": "markdown",
   "metadata": {},
   "source": [
    "### Deeper Still"
   ]
  },
  {
   "cell_type": "code",
   "execution_count": null,
   "metadata": {},
   "outputs": [],
   "source": [
    "nn_v2 = Sequential()\n",
    "nn_v2.add(Dense(X.shape[1], input_dim=X.shape[1], activation='relu'))\n",
    "nn_v2.add(Dense(16, activation='relu'))\n",
    "nn_v2.add(Dense(16, activation='relu'))\n",
    "nn_v2.add(Dense(1))\n",
    "\n",
    "earlystopper = EarlyStopping(monitor='val_loss', min_delta=0, patience=15, verbose=2, mode='auto')\n",
    "\n",
    "nn_v2.compile(loss='mean_squared_error', optimizer= optimizers.Adam(learning_rate = 0.005))\n",
    "history = nn_v2.fit(X_train_scaled, y_train, validation_split=0.1, callbacks=[earlystopper],\n",
    "            verbose=2, epochs=500)"
   ]
  },
  {
   "cell_type": "code",
   "execution_count": null,
   "metadata": {},
   "outputs": [],
   "source": [
    "history_dict=history.history\n"
   ]
  },
  {
   "cell_type": "code",
   "execution_count": null,
   "metadata": {},
   "outputs": [],
   "source": [
    "pred = nn_v2.predict(X_test_scaled)\n",
    "score = math.sqrt(metrics.mean_squared_error(pred,y_test))\n",
    "print(\"Final score (RMSE): {}\".format(score))\n",
    "\n",
    "\n",
    "print(r2_score(y_train, nn_v2.predict(X_train_scaled)))\n",
    "print(r2_score(y_test, nn_v2.predict(X_test_scaled)))"
   ]
  },
  {
   "cell_type": "code",
   "execution_count": null,
   "metadata": {},
   "outputs": [],
   "source": [
    "loss_values = history_dict['loss']\n",
    "val_loss_values=history_dict['val_loss']\n",
    "plt.figure(figsize=(20,13))\n",
    "plt.plot(loss_values,'bo',label='training loss')\n",
    "plt.plot(val_loss_values,'r',label='val training loss')"
   ]
  },
  {
   "cell_type": "code",
   "execution_count": null,
   "metadata": {},
   "outputs": [],
   "source": [
    "history.history"
   ]
  },
  {
   "cell_type": "code",
   "execution_count": null,
   "metadata": {},
   "outputs": [],
   "source": [
    "nn_v3 = Sequential()\n",
    "nn_v3.add(Dense(X.shape[1], input_dim=X.shape[1], activation='relu'))\n",
    "nn_v3.add(Dense(X.shape[1], activation='relu'))\n",
    "nn_v3.add(Dense(X.shape[1], activation='relu'))\n",
    "nn_v3.add(Dense(X.shape[1], activation='relu'))\n",
    "nn_v3.add(Dense(X.shape[1]//2, activation='relu'))\n",
    "nn_v3.add(Dense(1))\n",
    "\n",
    "earlystopper = EarlyStopping(monitor='val_loss', min_delta=0, patience=15, verbose=2, mode='auto')\n",
    "\n",
    "nn_v3.compile(loss='mean_squared_error', optimizer='adam')\n",
    "nn_v3.fit(X_train_scaled, y_train, validation_split=0.1, callbacks=[earlystopper],\n",
    "            verbose=2, epochs=500)"
   ]
  },
  {
   "cell_type": "code",
   "execution_count": null,
   "metadata": {},
   "outputs": [],
   "source": [
    "pred = nn_v3.predict(X_test_scaled)\n",
    "score = math.sqrt(metrics.mean_squared_error(pred,y_test))\n",
    "print(\"Final score (RMSE): {}\".format(score))\n"
   ]
  },
  {
   "cell_type": "code",
   "execution_count": null,
   "metadata": {},
   "outputs": [],
   "source": [
    "print(r2_score(y_train, nn_v3.predict(X_train_scaled)))\n",
    "print(r2_score(y_test, nn_v3.predict(X_test_scaled)))"
   ]
  },
  {
   "cell_type": "markdown",
   "metadata": {},
   "source": [
    "# Outlier Detection and Removal"
   ]
  },
  {
   "cell_type": "markdown",
   "metadata": {},
   "source": [
    "**OBSERVATION**\n",
    "- Thus far the highest r2 values achieved have been 77% (achieved by MLN and XGBoost)\n",
    "- Considering I have not removed any outliers that I have not assumed to be due to input error, detecting and removing these outliers could yield better results (hopefully at least r2 = 80% )"
   ]
  },
  {
   "cell_type": "markdown",
   "metadata": {},
   "source": [
    "## Isolation Forest"
   ]
  },
  {
   "cell_type": "markdown",
   "metadata": {},
   "source": [
    "- I am starting with Isolation Forset as it functions well with multi-dimensional data"
   ]
  },
  {
   "cell_type": "code",
   "execution_count": null,
   "metadata": {},
   "outputs": [],
   "source": [
    "from sklearn.ensemble import IsolationForest"
   ]
  },
  {
   "cell_type": "code",
   "execution_count": null,
   "metadata": {},
   "outputs": [],
   "source": [
    "y.describe()"
   ]
  },
  {
   "cell_type": "code",
   "execution_count": null,
   "metadata": {},
   "outputs": [],
   "source": [
    "fig, ax = plt.subplots(figsize=(20, 5))\n",
    "ax = sns.boxplot(y)"
   ]
  },
  {
   "cell_type": "code",
   "execution_count": null,
   "metadata": {},
   "outputs": [],
   "source": [
    "outliers = y > 9"
   ]
  },
  {
   "cell_type": "code",
   "execution_count": null,
   "metadata": {},
   "outputs": [],
   "source": [
    "len(y)/outliers.sum()"
   ]
  },
  {
   "cell_type": "markdown",
   "metadata": {},
   "source": [
    "**OBSERVATION**\n",
    "- Based on the boxplot and calculation above, approx 15% of eviction rates are outliers\n",
    "- I will use this percentage as the contamination parameter for the isolation forest "
   ]
  },
  {
   "cell_type": "code",
   "execution_count": null,
   "metadata": {},
   "outputs": [],
   "source": [
    "isoforest = IsolationForest(contamination =0.15, n_estimators=model_df.shape[1], random_state=42)\n",
    "isoforest_model =isoforest.fit(X)\n",
    "\n",
    "eviction_rate_outliers = pd.Series(isoforest_model.predict(X))"
   ]
  },
  {
   "cell_type": "code",
   "execution_count": null,
   "metadata": {},
   "outputs": [],
   "source": [
    "iso_tracts = drop_pop_df\n",
    "iso_tracts.reset_index(inplace=True)\n",
    "iso_tracts.drop('index', axis=1, inplace=True)"
   ]
  },
  {
   "cell_type": "code",
   "execution_count": null,
   "metadata": {},
   "outputs": [],
   "source": [
    "for i in range(len(eviction_rate_outliers)):\n",
    "    if eviction_rate_outliers[i] == -1:\n",
    "        iso_tracts.drop(i, inplace=True)        \n",
    "# https://stackoverflow.com/questions/56082166/delete-outliers-found-by-isolationforest-with-pandas-drop-rows"
   ]
  },
  {
   "cell_type": "code",
   "execution_count": null,
   "metadata": {},
   "outputs": [],
   "source": [
    "X1 = drop_pop_df.drop(\"eviction.rate\", axis = 1)\n",
    "y1 = drop_pop_df['eviction.rate']\n",
    "\n",
    "X1_train, X1_test, y1_train, y1_test = train_test_split(X1, y1, test_size = 0.25, random_state = 25)\n",
    "\n",
    "scaler = StandardScaler()\n",
    "\n",
    "X1_train_scaled = scaler.fit_transform(X1_train)\n",
    "X1_test_scaled = scaler.transform(X1_test)"
   ]
  },
  {
   "cell_type": "code",
   "execution_count": null,
   "metadata": {},
   "outputs": [],
   "source": [
    "xgb_iso_base = XGBRegressor()\n",
    "xgb_iso_base_model = xgb_iso_base.fit(X1_train_scaled, y1_train)"
   ]
  },
  {
   "cell_type": "code",
   "execution_count": null,
   "metadata": {},
   "outputs": [],
   "source": [
    "rf_report(xgb_iso_base)"
   ]
  },
  {
   "cell_type": "code",
   "execution_count": null,
   "metadata": {},
   "outputs": [],
   "source": [
    "xgb_iso_v2 = XGBRegressor()\n",
    "\n",
    "param_grid = {\n",
    "    'learning_rate' : [0.1, 0.2],\n",
    "    'max_depth': [4, 6, 8],\n",
    "    'min_child_weight': [1, 2],\n",
    "    'sub_sample': [0.5, 0.7],\n",
    "    \n",
    "}\n",
    "\n",
    "xgb_iso_v2_model = GridSearchCV(estimator = xgb_iso_v2, param_grid=param_grid, cv=3)\n",
    "xgb_iso_v2_model.fit(X1_train_scaled, y1_train)"
   ]
  },
  {
   "cell_type": "code",
   "execution_count": null,
   "metadata": {},
   "outputs": [],
   "source": [
    "report_grid(xgb_iso_v2_model)"
   ]
  },
  {
   "cell_type": "code",
   "execution_count": null,
   "metadata": {},
   "outputs": [],
   "source": []
  },
  {
   "cell_type": "code",
   "execution_count": null,
   "metadata": {},
   "outputs": [],
   "source": [
    "isoforest = IsolationForest(contamination =0.02, n_estimators=model_df.shape[1], random_state=42)\n",
    "isoforest_model =isoforest.fit(X)\n",
    "\n",
    "eviction_rate_outliers = pd.Series(isoforest_model.predict(X))"
   ]
  },
  {
   "cell_type": "code",
   "execution_count": null,
   "metadata": {},
   "outputs": [],
   "source": [
    "iso_tracts = drop_pop_df\n",
    "iso_tracts.reset_index(inplace=True)\n",
    "iso_tracts.drop('index', axis=1, inplace=True)"
   ]
  },
  {
   "cell_type": "code",
   "execution_count": null,
   "metadata": {},
   "outputs": [],
   "source": [
    "for i in range(len(eviction_rate_outliers)):\n",
    "    if eviction_rate_outliers[i] == -1:\n",
    "        iso_tracts.drop(i, inplace=True)        \n",
    "# https://stackoverflow.com/questions/56082166/delete-outliers-found-by-isolationforest-with-pandas-drop-rows"
   ]
  },
  {
   "cell_type": "code",
   "execution_count": null,
   "metadata": {},
   "outputs": [],
   "source": [
    "X2 = iso_tracts.drop(\"eviction_rate\", axis = 1)\n",
    "y2 = iso_tracts['eviction_rate']\n",
    "\n",
    "X2_train, X2_test, y2_train, y2_test = train_test_split(X2, y2, test_size = 0.25, random_state = 25)\n",
    "\n",
    "scaler = StandardScaler()\n",
    "\n",
    "X2_train_scaled = scaler.fit_transform(X2_train)\n",
    "X2_test_scaled = scaler.transform(X2_test)"
   ]
  },
  {
   "cell_type": "code",
   "execution_count": null,
   "metadata": {},
   "outputs": [],
   "source": [
    "xgb_iso_base = XGBRegressor()\n",
    "xgb_iso_base_model = xgb_iso_base.fit(X2_train_scaled, y2_train)"
   ]
  },
  {
   "cell_type": "code",
   "execution_count": null,
   "metadata": {},
   "outputs": [],
   "source": [
    "r_sq_train = r2_score(y2_train, xgb_iso_base_model.predict(X2_train_scaled))\n",
    "r_sq_test = r2_score(y2_test, xgb_iso_base_model.predict(X2_test_scaled))"
   ]
  },
  {
   "cell_type": "code",
   "execution_count": null,
   "metadata": {},
   "outputs": [],
   "source": [
    "r_sq_train"
   ]
  },
  {
   "cell_type": "code",
   "execution_count": null,
   "metadata": {},
   "outputs": [],
   "source": [
    "r_sq_test"
   ]
  },
  {
   "cell_type": "code",
   "execution_count": null,
   "metadata": {},
   "outputs": [],
   "source": [
    "xgb_iso_v2 = XGBRegressor()\n",
    "\n",
    "param_grid = {\n",
    "    'learning_rate' : [0.1, 0.2],\n",
    "    'max_depth': [4, 6, 8],\n",
    "    'min_child_weight': [1, 2],\n",
    "    'sub_sample': [0.5, 0.7],\n",
    "    \n",
    "}\n",
    "\n",
    "xgb_iso_v2_model = GridSearchCV(estimator = xgb_iso_v2, param_grid=param_grid, cv=3)\n",
    "xgb_iso_v2_model.fit(X2_train_scaled, y2_train)"
   ]
  },
  {
   "cell_type": "code",
   "execution_count": null,
   "metadata": {},
   "outputs": [],
   "source": [
    "r_sq_train = r2_score(y2_train, xgb_iso_v2_model.predict(X2_train_scaled))\n",
    "r_sq_test = r2_score(y2_test, xgb_iso_v2_model.predict(X2_test_scaled))"
   ]
  },
  {
   "cell_type": "code",
   "execution_count": null,
   "metadata": {},
   "outputs": [],
   "source": [
    "print(r_sq_train)\n",
    "print(r_sq_test)"
   ]
  },
  {
   "cell_type": "code",
   "execution_count": null,
   "metadata": {},
   "outputs": [],
   "source": []
  },
  {
   "cell_type": "code",
   "execution_count": null,
   "metadata": {},
   "outputs": [],
   "source": [
    "model_df"
   ]
  },
  {
   "cell_type": "code",
   "execution_count": null,
   "metadata": {},
   "outputs": [],
   "source": [
    "isoforest = IsolationForest(contamination =0.075, n_estimators=model_df.shape[1], random_state=42)\n",
    "isoforest_model =isoforest.fit(X)\n",
    "\n",
    "eviction_rate_outliers = pd.Series(isoforest_model.predict(X))"
   ]
  },
  {
   "cell_type": "code",
   "execution_count": null,
   "metadata": {},
   "outputs": [],
   "source": [
    "iso_tracts = model_df\n",
    "iso_tracts.reset_index(inplace=True)\n",
    "iso_tracts.drop('index', axis=1, inplace=True)"
   ]
  },
  {
   "cell_type": "code",
   "execution_count": null,
   "metadata": {},
   "outputs": [],
   "source": [
    "for i in range(len(eviction_rate_outliers)):\n",
    "    if eviction_rate_outliers[i] == -1:\n",
    "        iso_tracts.drop(i, inplace=True)        \n",
    "# https://stackoverflow.com/questions/56082166/delete-outliers-found-by-isolationforest-with-pandas-drop-rows"
   ]
  },
  {
   "cell_type": "code",
   "execution_count": null,
   "metadata": {},
   "outputs": [],
   "source": [
    "X2 = iso_tracts.drop(\"eviction_rate\", axis = 1)\n",
    "y2 = iso_tracts['eviction_rate']\n",
    "\n",
    "X2_train, X2_test, y2_train, y2_test = train_test_split(X2, y2, test_size = 0.25, random_state = 25)\n",
    "\n",
    "scaler = StandardScaler()\n",
    "\n",
    "X2_train_scaled = scaler.fit_transform(X2_train)\n",
    "X2_test_scaled = scaler.transform(X2_test)"
   ]
  },
  {
   "cell_type": "code",
   "execution_count": null,
   "metadata": {},
   "outputs": [],
   "source": [
    "xgb_iso_base = XGBRegressor()\n",
    "xgb_iso_base_model = xgb_iso_base.fit(X2_train_scaled, y2_train)"
   ]
  },
  {
   "cell_type": "code",
   "execution_count": null,
   "metadata": {},
   "outputs": [],
   "source": [
    "r_sq_train = r2_score(y2_train, xgb_iso_base_model.predict(X2_train_scaled))\n",
    "r_sq_test = r2_score(y2_test, xgb_iso_base_model.predict(X2_test_scaled))"
   ]
  },
  {
   "cell_type": "code",
   "execution_count": null,
   "metadata": {},
   "outputs": [],
   "source": [
    "r_sq_train"
   ]
  },
  {
   "cell_type": "code",
   "execution_count": null,
   "metadata": {},
   "outputs": [],
   "source": [
    "r_sq_test"
   ]
  },
  {
   "cell_type": "code",
   "execution_count": null,
   "metadata": {},
   "outputs": [],
   "source": []
  },
  {
   "cell_type": "code",
   "execution_count": null,
   "metadata": {},
   "outputs": [],
   "source": [
    "xgb_iso_v2 = XGBRegressor()\n",
    "\n",
    "param_grid = {\n",
    "    'learning_rate' : [0.1, 0.2],\n",
    "    'max_depth': [4, 6, 8],\n",
    "    'min_child_weight': [1, 2],\n",
    "    'sub_sample': [0.5, 0.7],\n",
    "    \n",
    "}\n",
    "\n",
    "xgb_iso_v2_model = GridSearchCV(estimator = xgb_iso_v2, param_grid=param_grid, cv=3)\n",
    "xgb_iso_v2_model.fit(X2_train_scaled, y2_train)"
   ]
  },
  {
   "cell_type": "code",
   "execution_count": null,
   "metadata": {},
   "outputs": [],
   "source": [
    "r_sq_train = r2_score(y2_train, xgb_iso_v2_model.predict(X2_train_scaled))\n",
    "r_sq_test = r2_score(y2_test, xgb_iso_v2_model.predict(X2_test_scaled))"
   ]
  },
  {
   "cell_type": "code",
   "execution_count": null,
   "metadata": {},
   "outputs": [],
   "source": [
    "print(r_sq_train)\n",
    "print(r_sq_test)"
   ]
  },
  {
   "cell_type": "code",
   "execution_count": null,
   "metadata": {},
   "outputs": [],
   "source": [
    "n_features = X2_train.shape[1]\n",
    "plt.figure(figsize=(20,20))\n",
    "plt.barh(range(n_features), xgb_iso_v2_model.best_estimator_.feature_importances_, align='center') \n",
    "plt.yticks(np.arange(n_features), X2_train.columns.values) \n",
    "plt.xlabel('Feature importance')\n",
    "plt.ylabel('Feature')"
   ]
  },
  {
   "cell_type": "code",
   "execution_count": null,
   "metadata": {},
   "outputs": [],
   "source": []
  },
  {
   "cell_type": "code",
   "execution_count": null,
   "metadata": {},
   "outputs": [],
   "source": []
  },
  {
   "cell_type": "code",
   "execution_count": null,
   "metadata": {},
   "outputs": [],
   "source": []
  },
  {
   "cell_type": "code",
   "execution_count": null,
   "metadata": {},
   "outputs": [],
   "source": []
  },
  {
   "cell_type": "code",
   "execution_count": null,
   "metadata": {},
   "outputs": [],
   "source": [
    "forest_base = RandomForestRegressor()\n",
    "forest_base_model = forest_base.fit(X_train_scaled, y_train)"
   ]
  },
  {
   "cell_type": "code",
   "execution_count": null,
   "metadata": {},
   "outputs": [],
   "source": [
    "rf_report(forest_base)"
   ]
  },
  {
   "cell_type": "code",
   "execution_count": null,
   "metadata": {},
   "outputs": [],
   "source": [
    "max_depth = []\n",
    "for classifier in forest_base_model:\n",
    "    max_depth.append(classifier.tree_.max_depth)"
   ]
  },
  {
   "cell_type": "code",
   "execution_count": null,
   "metadata": {},
   "outputs": [],
   "source": [
    "stat.median(max_depth)"
   ]
  },
  {
   "cell_type": "code",
   "execution_count": null,
   "metadata": {},
   "outputs": [],
   "source": [
    "plot_feature_importances_base(forest_base_model)"
   ]
  },
  {
   "cell_type": "markdown",
   "metadata": {},
   "source": [
    "# Permutation Importance"
   ]
  },
  {
   "cell_type": "code",
   "execution_count": 87,
   "metadata": {},
   "outputs": [
    {
     "name": "stdout",
     "output_type": "stream",
     "text": [
      "[15:17:37] WARNING: /Users/runner/miniforge3/conda-bld/xgboost_1598185652448/work/src/learner.cc:516: \n",
      "Parameters: { sub_sample } might not be used.\n",
      "\n",
      "  This may not be accurate due to some parameters are only used in language bindings but\n",
      "  passed down to XGBoost core.  Or some parameters are not used but slip through this\n",
      "  verification. Please open an issue if you find above cases.\n",
      "\n",
      "\n"
     ]
    }
   ],
   "source": [
    "from sklearn.inspection import permutation_importance\n",
    "clf = XGBRegressor(learning_rate=0.2,\n",
    "                                max_depth=6,\n",
    "                                min_child_weight=2,\n",
    "                                sub_sample=0.5).fit(X_train_scaled, y_train)\n",
    "\n",
    "result = permutation_importance(clf, X_test_scaled, y_test, n_repeats=10, random_state=0)"
   ]
  },
  {
   "cell_type": "code",
   "execution_count": 88,
   "metadata": {},
   "outputs": [
    {
     "data": {
      "text/plain": [
       "array([3.32116085e-03, 9.02014752e-04, 1.31310746e-03, 2.11214134e-03,\n",
       "       3.65830451e-03, 2.15940300e-03, 3.95051425e-03, 1.03146350e-03,\n",
       "       3.99915274e-04, 5.24567716e-04, 1.44194373e-04, 5.88939741e-04,\n",
       "       3.39687271e-04, 5.81309807e-03, 1.64358278e-02, 3.93402431e-04,\n",
       "       5.49784123e-05, 9.32643959e-04, 8.37426767e-04, 1.41791069e-04,\n",
       "       4.37400773e-06, 5.01862023e-04, 5.35668981e-04, 1.79262640e-04])"
      ]
     },
     "execution_count": 88,
     "metadata": {},
     "output_type": "execute_result"
    }
   ],
   "source": [
    "result.importances_std"
   ]
  },
  {
   "cell_type": "code",
   "execution_count": 105,
   "metadata": {},
   "outputs": [
    {
     "data": {
      "image/png": "[encoded data removed]",
      "text/plain": [
       "<Figure size 1296x720 with 1 Axes>"
      ]
     },
     "metadata": {
      "needs_background": "light"
     },
     "output_type": "display_data"
    }
   ],
   "source": [
    "plt.subplots(figsize=(18,10))\n",
    "feature_importance = clf.feature_importances_\n",
    "sorted_idx = result.importances_mean.argsort()\n",
    "\n",
    "plt.boxplot(result.importances[sorted_idx].T,\n",
    "            vert=False, labels=np.array(X_train.columns)[sorted_idx])\n",
    "plt.title(\"Permutation Importance (test set)\")\n",
    "\n",
    "plt.show()"
   ]
  },
  {
   "cell_type": "code",
   "execution_count": 98,
   "metadata": {},
   "outputs": [
    {
     "data": {
      "text/plain": [
       "array([0.01306199, 0.00575648, 0.0112601 , 0.00953688, 0.0253123 ,\n",
       "       0.01217786, 0.01987485, 0.01565841, 0.01031583, 0.01294729,\n",
       "       0.00425341, 0.00722492, 0.00563485, 0.02792471, 0.34928134,\n",
       "       0.01153402, 0.00285247, 0.3126603 , 0.06158583, 0.00657343,\n",
       "       0.00354482, 0.03107086, 0.01955521, 0.02040187], dtype=float32)"
      ]
     },
     "execution_count": 98,
     "metadata": {},
     "output_type": "execute_result"
    }
   ],
   "source": [
    "feature_importance"
   ]
  },
  {
   "cell_type": "markdown",
   "metadata": {},
   "source": [
    "### Variance Threshold"
   ]
  },
  {
   "cell_type": "code",
   "execution_count": 60,
   "metadata": {},
   "outputs": [],
   "source": [
    "from sklearn.feature_selection import SelectFromModel\n"
   ]
  },
  {
   "cell_type": "code",
   "execution_count": null,
   "metadata": {},
   "outputs": [],
   "source": [
    "m = SelectFromModel(XGBRegressor(learning_rate=0.2,\n",
    "                                max_depth=6,\n",
    "                                min_child_weight=2,\n",
    "                                sub_sample=0.5))\n",
    "\n",
    "m.fit(X_train_scaled, y_train)"
   ]
  },
  {
   "cell_type": "code",
   "execution_count": null,
   "metadata": {},
   "outputs": [],
   "source": [
    "m.transform(X_train_scaled).shape"
   ]
  },
  {
   "cell_type": "code",
   "execution_count": null,
   "metadata": {},
   "outputs": [],
   "source": [
    "m.score(X_test_scaled, y_test)"
   ]
  },
  {
   "cell_type": "code",
   "execution_count": null,
   "metadata": {},
   "outputs": [],
   "source": [
    "from sklearn.feature_selection import VarianceThreshold"
   ]
  },
  {
   "cell_type": "code",
   "execution_count": null,
   "metadata": {},
   "outputs": [],
   "source": [
    "var_thresh=VarianceThreshold(threshold=0.4)\n",
    "var_thresh.fit(X_train_scaled)\n",
    "sum(var_thresh.get_support())"
   ]
  },
  {
   "cell_type": "code",
   "execution_count": null,
   "metadata": {},
   "outputs": [],
   "source": [
    "var_thresh.get_support()"
   ]
  },
  {
   "cell_type": "code",
   "execution_count": null,
   "metadata": {},
   "outputs": [],
   "source": [
    "constant_columns = [column for column in X.columns\n",
    "                   if column not in X.columns[var_thresh.get_support()]]\n"
   ]
  },
  {
   "cell_type": "code",
   "execution_count": null,
   "metadata": {},
   "outputs": [],
   "source": [
    "constant_columns"
   ]
  },
  {
   "cell_type": "code",
   "execution_count": null,
   "metadata": {},
   "outputs": [],
   "source": [
    "feature_select_df = drop_pop_df\n",
    "for col in constant_columns:\n",
    "    feature_select_df.drop(col, axis=1, inplace=True)"
   ]
  },
  {
   "cell_type": "code",
   "execution_count": null,
   "metadata": {},
   "outputs": [],
   "source": [
    "X = feature_select_df.drop(\"eviction.rate\", axis = 1)\n",
    "y = feature_select_df['eviction.rate']\n",
    "\n",
    "X_train, X_test, y_train, y_test = train_test_split(X, y, test_size = 0.25, random_state = 25)\n",
    "\n",
    "scaler = StandardScaler()\n",
    "\n",
    "X_train_scaled = scaler.fit_transform(X_train)\n",
    "X_test_scaled = scaler.transform(X_test)"
   ]
  },
  {
   "cell_type": "code",
   "execution_count": null,
   "metadata": {},
   "outputs": [],
   "source": [
    "xgb_base = XGBRegressor()\n",
    "xgb_base_model = xgb_base.fit(X_train_scaled, y_train)"
   ]
  },
  {
   "cell_type": "code",
   "execution_count": null,
   "metadata": {},
   "outputs": [],
   "source": [
    "rf_report(xgb_base_model)"
   ]
  },
  {
   "cell_type": "code",
   "execution_count": null,
   "metadata": {},
   "outputs": [],
   "source": [
    "xgb_v2 = XGBRegressor()\n",
    "\n",
    "param_grid = {\n",
    "    'learning_rate' : [0.1, 0.2],\n",
    "    'max_depth': [4, 6, 8],\n",
    "    'min_child_weight': [1, 2],\n",
    "    'sub_sample': [0.5, 0.7],\n",
    "    \n",
    "}\n",
    "\n",
    "xgb_v2_model = GridSearchCV(estimator = xgb_v2, param_grid=param_grid, cv=3)\n",
    "xgb_v2_model.fit(X_train_scaled, y_train)"
   ]
  },
  {
   "cell_type": "code",
   "execution_count": null,
   "metadata": {},
   "outputs": [],
   "source": [
    "report_grid(xgb_v2_model)"
   ]
  },
  {
   "cell_type": "markdown",
   "metadata": {},
   "source": [
    "### RFE"
   ]
  },
  {
   "cell_type": "code",
   "execution_count": 62,
   "metadata": {},
   "outputs": [
    {
     "name": "stdout",
     "output_type": "stream",
     "text": [
      "[14:17:18] WARNING: /Users/runner/miniforge3/conda-bld/xgboost_1598185652448/work/src/learner.cc:516: \n",
      "Parameters: { sub_sample } might not be used.\n",
      "\n",
      "  This may not be accurate due to some parameters are only used in language bindings but\n",
      "  passed down to XGBoost core.  Or some parameters are not used but slip through this\n",
      "  verification. Please open an issue if you find above cases.\n",
      "\n",
      "\n"
     ]
    },
    {
     "data": {
      "text/plain": [
       "SelectFromModel(estimator=XGBRegressor(base_score=0.5, booster='gbtree',\n",
       "                                       colsample_bylevel=1, colsample_bynode=1,\n",
       "                                       colsample_bytree=1, gamma=0, gpu_id=-1,\n",
       "                                       importance_type='gain',\n",
       "                                       interaction_constraints='',\n",
       "                                       learning_rate=0.2, max_delta_step=0,\n",
       "                                       max_depth=6, min_child_weight=2,\n",
       "                                       missing=nan, monotone_constraints='()',\n",
       "                                       n_estimators=100, n_jobs=0,\n",
       "                                       num_parallel_tree=1, random_state=0,\n",
       "                                       reg_alpha=0, reg_lambda=1,\n",
       "                                       scale_pos_weight=1, sub_sample=0.5,\n",
       "                                       subsample=1, tree_method='exact',\n",
       "                                       validate_parameters=1, verbosity=None))"
      ]
     },
     "execution_count": 62,
     "metadata": {},
     "output_type": "execute_result"
    }
   ],
   "source": [
    "sel = SelectFromModel(xgb_perm)\n",
    "sel.fit(X_train_scaled, y_train)"
   ]
  },
  {
   "cell_type": "code",
   "execution_count": 65,
   "metadata": {},
   "outputs": [],
   "source": [
    "constant_columns = [column for column in X.columns\n",
    "                   if column not in X.columns[sel.get_support()]]\n"
   ]
  },
  {
   "cell_type": "code",
   "execution_count": 66,
   "metadata": {},
   "outputs": [
    {
     "data": {
      "text/plain": [
       "['population',\n",
       " 'poverty.rate',\n",
       " 'median.gross.rent',\n",
       " 'median.household.income',\n",
       " 'median.property.value',\n",
       " 'rent.burden',\n",
       " 'pct.af.am',\n",
       " 'pct.hispanic',\n",
       " 'pct.am.ind',\n",
       " 'pct.asian',\n",
       " 'pct.nh.pi',\n",
       " 'pct.multiple',\n",
       " 'pct.other',\n",
       " 'evictions',\n",
       " 'female',\n",
       " 'esc',\n",
       " 'ne',\n",
       " 'pcf',\n",
       " 'sa',\n",
       " 'wnc',\n",
       " 'wsc']"
      ]
     },
     "execution_count": 66,
     "metadata": {},
     "output_type": "execute_result"
    }
   ],
   "source": [
    "constant_columns"
   ]
  },
  {
   "cell_type": "code",
   "execution_count": 67,
   "metadata": {},
   "outputs": [],
   "source": [
    "feature_select_df = drop_pop_df\n",
    "for col in constant_columns:\n",
    "    feature_select_df.drop(col, axis=1, inplace=True)"
   ]
  },
  {
   "cell_type": "code",
   "execution_count": 68,
   "metadata": {},
   "outputs": [],
   "source": [
    "X1 = feature_select_df.drop(\"eviction.rate\", axis = 1)\n",
    "y1 = feature_select_df['eviction.rate']\n",
    "\n",
    "X1_train, X1_test, y1_train, y1_test = train_test_split(X1, y1, test_size = 0.25, random_state = 25)\n",
    "\n",
    "scaler = StandardScaler()\n",
    "\n",
    "X1_train_scaled = scaler.fit_transform(X1_train)\n",
    "X1_test_scaled = scaler.transform(X1_test)"
   ]
  },
  {
   "cell_type": "code",
   "execution_count": 69,
   "metadata": {},
   "outputs": [
    {
     "name": "stdout",
     "output_type": "stream",
     "text": [
      "[14:21:13] WARNING: /Users/runner/miniforge3/conda-bld/xgboost_1598185652448/work/src/learner.cc:516: \n",
      "Parameters: { sub_sample } might not be used.\n",
      "\n",
      "  This may not be accurate due to some parameters are only used in language bindings but\n",
      "  passed down to XGBoost core.  Or some parameters are not used but slip through this\n",
      "  verification. Please open an issue if you find above cases.\n",
      "\n",
      "\n",
      "[14:21:14] WARNING: /Users/runner/miniforge3/conda-bld/xgboost_1598185652448/work/src/learner.cc:516: \n",
      "Parameters: { sub_sample } might not be used.\n",
      "\n",
      "  This may not be accurate due to some parameters are only used in language bindings but\n",
      "  passed down to XGBoost core.  Or some parameters are not used but slip through this\n",
      "  verification. Please open an issue if you find above cases.\n",
      "\n",
      "\n",
      "[14:21:14] WARNING: /Users/runner/miniforge3/conda-bld/xgboost_1598185652448/work/src/learner.cc:516: \n",
      "Parameters: { sub_sample } might not be used.\n",
      "\n",
      "  This may not be accurate due to some parameters are only used in language bindings but\n",
      "  passed down to XGBoost core.  Or some parameters are not used but slip through this\n",
      "  verification. Please open an issue if you find above cases.\n",
      "\n",
      "\n",
      "[14:21:15] WARNING: /Users/runner/miniforge3/conda-bld/xgboost_1598185652448/work/src/learner.cc:516: \n",
      "Parameters: { sub_sample } might not be used.\n",
      "\n",
      "  This may not be accurate due to some parameters are only used in language bindings but\n",
      "  passed down to XGBoost core.  Or some parameters are not used but slip through this\n",
      "  verification. Please open an issue if you find above cases.\n",
      "\n",
      "\n",
      "[14:21:16] WARNING: /Users/runner/miniforge3/conda-bld/xgboost_1598185652448/work/src/learner.cc:516: \n",
      "Parameters: { sub_sample } might not be used.\n",
      "\n",
      "  This may not be accurate due to some parameters are only used in language bindings but\n",
      "  passed down to XGBoost core.  Or some parameters are not used but slip through this\n",
      "  verification. Please open an issue if you find above cases.\n",
      "\n",
      "\n",
      "[14:21:16] WARNING: /Users/runner/miniforge3/conda-bld/xgboost_1598185652448/work/src/learner.cc:516: \n",
      "Parameters: { sub_sample } might not be used.\n",
      "\n",
      "  This may not be accurate due to some parameters are only used in language bindings but\n",
      "  passed down to XGBoost core.  Or some parameters are not used but slip through this\n",
      "  verification. Please open an issue if you find above cases.\n",
      "\n",
      "\n",
      "[14:21:17] WARNING: /Users/runner/miniforge3/conda-bld/xgboost_1598185652448/work/src/learner.cc:516: \n",
      "Parameters: { sub_sample } might not be used.\n",
      "\n",
      "  This may not be accurate due to some parameters are only used in language bindings but\n",
      "  passed down to XGBoost core.  Or some parameters are not used but slip through this\n",
      "  verification. Please open an issue if you find above cases.\n",
      "\n",
      "\n",
      "[14:21:17] WARNING: /Users/runner/miniforge3/conda-bld/xgboost_1598185652448/work/src/learner.cc:516: \n",
      "Parameters: { sub_sample } might not be used.\n",
      "\n",
      "  This may not be accurate due to some parameters are only used in language bindings but\n",
      "  passed down to XGBoost core.  Or some parameters are not used but slip through this\n",
      "  verification. Please open an issue if you find above cases.\n",
      "\n",
      "\n",
      "[14:21:18] WARNING: /Users/runner/miniforge3/conda-bld/xgboost_1598185652448/work/src/learner.cc:516: \n",
      "Parameters: { sub_sample } might not be used.\n",
      "\n",
      "  This may not be accurate due to some parameters are only used in language bindings but\n",
      "  passed down to XGBoost core.  Or some parameters are not used but slip through this\n",
      "  verification. Please open an issue if you find above cases.\n",
      "\n",
      "\n",
      "[14:21:18] WARNING: /Users/runner/miniforge3/conda-bld/xgboost_1598185652448/work/src/learner.cc:516: \n",
      "Parameters: { sub_sample } might not be used.\n",
      "\n",
      "  This may not be accurate due to some parameters are only used in language bindings but\n",
      "  passed down to XGBoost core.  Or some parameters are not used but slip through this\n",
      "  verification. Please open an issue if you find above cases.\n",
      "\n",
      "\n",
      "[14:21:19] WARNING: /Users/runner/miniforge3/conda-bld/xgboost_1598185652448/work/src/learner.cc:516: \n",
      "Parameters: { sub_sample } might not be used.\n",
      "\n",
      "  This may not be accurate due to some parameters are only used in language bindings but\n",
      "  passed down to XGBoost core.  Or some parameters are not used but slip through this\n",
      "  verification. Please open an issue if you find above cases.\n",
      "\n",
      "\n",
      "[14:21:19] WARNING: /Users/runner/miniforge3/conda-bld/xgboost_1598185652448/work/src/learner.cc:516: \n",
      "Parameters: { sub_sample } might not be used.\n",
      "\n",
      "  This may not be accurate due to some parameters are only used in language bindings but\n",
      "  passed down to XGBoost core.  Or some parameters are not used but slip through this\n",
      "  verification. Please open an issue if you find above cases.\n",
      "\n",
      "\n",
      "[14:21:19] WARNING: /Users/runner/miniforge3/conda-bld/xgboost_1598185652448/work/src/learner.cc:516: \n",
      "Parameters: { sub_sample } might not be used.\n",
      "\n",
      "  This may not be accurate due to some parameters are only used in language bindings but\n",
      "  passed down to XGBoost core.  Or some parameters are not used but slip through this\n",
      "  verification. Please open an issue if you find above cases.\n",
      "\n",
      "\n",
      "[14:21:20] WARNING: /Users/runner/miniforge3/conda-bld/xgboost_1598185652448/work/src/learner.cc:516: \n",
      "Parameters: { sub_sample } might not be used.\n",
      "\n",
      "  This may not be accurate due to some parameters are only used in language bindings but\n",
      "  passed down to XGBoost core.  Or some parameters are not used but slip through this\n",
      "  verification. Please open an issue if you find above cases.\n",
      "\n",
      "\n",
      "[14:21:21] WARNING: /Users/runner/miniforge3/conda-bld/xgboost_1598185652448/work/src/learner.cc:516: \n",
      "Parameters: { sub_sample } might not be used.\n",
      "\n",
      "  This may not be accurate due to some parameters are only used in language bindings but\n",
      "  passed down to XGBoost core.  Or some parameters are not used but slip through this\n",
      "  verification. Please open an issue if you find above cases.\n",
      "\n",
      "\n",
      "[14:21:22] WARNING: /Users/runner/miniforge3/conda-bld/xgboost_1598185652448/work/src/learner.cc:516: \n",
      "Parameters: { sub_sample } might not be used.\n",
      "\n",
      "  This may not be accurate due to some parameters are only used in language bindings but\n",
      "  passed down to XGBoost core.  Or some parameters are not used but slip through this\n",
      "  verification. Please open an issue if you find above cases.\n",
      "\n",
      "\n",
      "[14:21:22] WARNING: /Users/runner/miniforge3/conda-bld/xgboost_1598185652448/work/src/learner.cc:516: \n",
      "Parameters: { sub_sample } might not be used.\n",
      "\n",
      "  This may not be accurate due to some parameters are only used in language bindings but\n",
      "  passed down to XGBoost core.  Or some parameters are not used but slip through this\n",
      "  verification. Please open an issue if you find above cases.\n",
      "\n",
      "\n",
      "[14:21:23] WARNING: /Users/runner/miniforge3/conda-bld/xgboost_1598185652448/work/src/learner.cc:516: \n",
      "Parameters: { sub_sample } might not be used.\n",
      "\n",
      "  This may not be accurate due to some parameters are only used in language bindings but\n",
      "  passed down to XGBoost core.  Or some parameters are not used but slip through this\n",
      "  verification. Please open an issue if you find above cases.\n",
      "\n",
      "\n",
      "[14:21:23] WARNING: /Users/runner/miniforge3/conda-bld/xgboost_1598185652448/work/src/learner.cc:516: \n",
      "Parameters: { sub_sample } might not be used.\n",
      "\n",
      "  This may not be accurate due to some parameters are only used in language bindings but\n",
      "  passed down to XGBoost core.  Or some parameters are not used but slip through this\n",
      "  verification. Please open an issue if you find above cases.\n",
      "\n",
      "\n",
      "[14:21:24] WARNING: /Users/runner/miniforge3/conda-bld/xgboost_1598185652448/work/src/learner.cc:516: \n",
      "Parameters: { sub_sample } might not be used.\n",
      "\n",
      "  This may not be accurate due to some parameters are only used in language bindings but\n",
      "  passed down to XGBoost core.  Or some parameters are not used but slip through this\n",
      "  verification. Please open an issue if you find above cases.\n",
      "\n",
      "\n",
      "[14:21:25] WARNING: /Users/runner/miniforge3/conda-bld/xgboost_1598185652448/work/src/learner.cc:516: \n",
      "Parameters: { sub_sample } might not be used.\n",
      "\n",
      "  This may not be accurate due to some parameters are only used in language bindings but\n",
      "  passed down to XGBoost core.  Or some parameters are not used but slip through this\n",
      "  verification. Please open an issue if you find above cases.\n",
      "\n",
      "\n",
      "[14:21:25] WARNING: /Users/runner/miniforge3/conda-bld/xgboost_1598185652448/work/src/learner.cc:516: \n",
      "Parameters: { sub_sample } might not be used.\n",
      "\n",
      "  This may not be accurate due to some parameters are only used in language bindings but\n",
      "  passed down to XGBoost core.  Or some parameters are not used but slip through this\n",
      "  verification. Please open an issue if you find above cases.\n",
      "\n",
      "\n"
     ]
    },
    {
     "name": "stdout",
     "output_type": "stream",
     "text": [
      "[14:21:26] WARNING: /Users/runner/miniforge3/conda-bld/xgboost_1598185652448/work/src/learner.cc:516: \n",
      "Parameters: { sub_sample } might not be used.\n",
      "\n",
      "  This may not be accurate due to some parameters are only used in language bindings but\n",
      "  passed down to XGBoost core.  Or some parameters are not used but slip through this\n",
      "  verification. Please open an issue if you find above cases.\n",
      "\n",
      "\n",
      "[14:21:26] WARNING: /Users/runner/miniforge3/conda-bld/xgboost_1598185652448/work/src/learner.cc:516: \n",
      "Parameters: { sub_sample } might not be used.\n",
      "\n",
      "  This may not be accurate due to some parameters are only used in language bindings but\n",
      "  passed down to XGBoost core.  Or some parameters are not used but slip through this\n",
      "  verification. Please open an issue if you find above cases.\n",
      "\n",
      "\n",
      "[14:21:27] WARNING: /Users/runner/miniforge3/conda-bld/xgboost_1598185652448/work/src/learner.cc:516: \n",
      "Parameters: { sub_sample } might not be used.\n",
      "\n",
      "  This may not be accurate due to some parameters are only used in language bindings but\n",
      "  passed down to XGBoost core.  Or some parameters are not used but slip through this\n",
      "  verification. Please open an issue if you find above cases.\n",
      "\n",
      "\n",
      "[14:21:27] WARNING: /Users/runner/miniforge3/conda-bld/xgboost_1598185652448/work/src/learner.cc:516: \n",
      "Parameters: { sub_sample } might not be used.\n",
      "\n",
      "  This may not be accurate due to some parameters are only used in language bindings but\n",
      "  passed down to XGBoost core.  Or some parameters are not used but slip through this\n",
      "  verification. Please open an issue if you find above cases.\n",
      "\n",
      "\n",
      "[14:21:28] WARNING: /Users/runner/miniforge3/conda-bld/xgboost_1598185652448/work/src/learner.cc:516: \n",
      "Parameters: { sub_sample } might not be used.\n",
      "\n",
      "  This may not be accurate due to some parameters are only used in language bindings but\n",
      "  passed down to XGBoost core.  Or some parameters are not used but slip through this\n",
      "  verification. Please open an issue if you find above cases.\n",
      "\n",
      "\n",
      "[14:21:29] WARNING: /Users/runner/miniforge3/conda-bld/xgboost_1598185652448/work/src/learner.cc:516: \n",
      "Parameters: { sub_sample } might not be used.\n",
      "\n",
      "  This may not be accurate due to some parameters are only used in language bindings but\n",
      "  passed down to XGBoost core.  Or some parameters are not used but slip through this\n",
      "  verification. Please open an issue if you find above cases.\n",
      "\n",
      "\n",
      "[14:21:29] WARNING: /Users/runner/miniforge3/conda-bld/xgboost_1598185652448/work/src/learner.cc:516: \n",
      "Parameters: { sub_sample } might not be used.\n",
      "\n",
      "  This may not be accurate due to some parameters are only used in language bindings but\n",
      "  passed down to XGBoost core.  Or some parameters are not used but slip through this\n",
      "  verification. Please open an issue if you find above cases.\n",
      "\n",
      "\n",
      "[14:21:30] WARNING: /Users/runner/miniforge3/conda-bld/xgboost_1598185652448/work/src/learner.cc:516: \n",
      "Parameters: { sub_sample } might not be used.\n",
      "\n",
      "  This may not be accurate due to some parameters are only used in language bindings but\n",
      "  passed down to XGBoost core.  Or some parameters are not used but slip through this\n",
      "  verification. Please open an issue if you find above cases.\n",
      "\n",
      "\n",
      "[14:21:31] WARNING: /Users/runner/miniforge3/conda-bld/xgboost_1598185652448/work/src/learner.cc:516: \n",
      "Parameters: { sub_sample } might not be used.\n",
      "\n",
      "  This may not be accurate due to some parameters are only used in language bindings but\n",
      "  passed down to XGBoost core.  Or some parameters are not used but slip through this\n",
      "  verification. Please open an issue if you find above cases.\n",
      "\n",
      "\n",
      "[14:21:32] WARNING: /Users/runner/miniforge3/conda-bld/xgboost_1598185652448/work/src/learner.cc:516: \n",
      "Parameters: { sub_sample } might not be used.\n",
      "\n",
      "  This may not be accurate due to some parameters are only used in language bindings but\n",
      "  passed down to XGBoost core.  Or some parameters are not used but slip through this\n",
      "  verification. Please open an issue if you find above cases.\n",
      "\n",
      "\n",
      "[14:21:32] WARNING: /Users/runner/miniforge3/conda-bld/xgboost_1598185652448/work/src/learner.cc:516: \n",
      "Parameters: { sub_sample } might not be used.\n",
      "\n",
      "  This may not be accurate due to some parameters are only used in language bindings but\n",
      "  passed down to XGBoost core.  Or some parameters are not used but slip through this\n",
      "  verification. Please open an issue if you find above cases.\n",
      "\n",
      "\n",
      "[14:21:33] WARNING: /Users/runner/miniforge3/conda-bld/xgboost_1598185652448/work/src/learner.cc:516: \n",
      "Parameters: { sub_sample } might not be used.\n",
      "\n",
      "  This may not be accurate due to some parameters are only used in language bindings but\n",
      "  passed down to XGBoost core.  Or some parameters are not used but slip through this\n",
      "  verification. Please open an issue if you find above cases.\n",
      "\n",
      "\n",
      "[14:21:34] WARNING: /Users/runner/miniforge3/conda-bld/xgboost_1598185652448/work/src/learner.cc:516: \n",
      "Parameters: { sub_sample } might not be used.\n",
      "\n",
      "  This may not be accurate due to some parameters are only used in language bindings but\n",
      "  passed down to XGBoost core.  Or some parameters are not used but slip through this\n",
      "  verification. Please open an issue if you find above cases.\n",
      "\n",
      "\n",
      "[14:21:34] WARNING: /Users/runner/miniforge3/conda-bld/xgboost_1598185652448/work/src/learner.cc:516: \n",
      "Parameters: { sub_sample } might not be used.\n",
      "\n",
      "  This may not be accurate due to some parameters are only used in language bindings but\n",
      "  passed down to XGBoost core.  Or some parameters are not used but slip through this\n",
      "  verification. Please open an issue if you find above cases.\n",
      "\n",
      "\n",
      "[14:21:35] WARNING: /Users/runner/miniforge3/conda-bld/xgboost_1598185652448/work/src/learner.cc:516: \n",
      "Parameters: { sub_sample } might not be used.\n",
      "\n",
      "  This may not be accurate due to some parameters are only used in language bindings but\n",
      "  passed down to XGBoost core.  Or some parameters are not used but slip through this\n",
      "  verification. Please open an issue if you find above cases.\n",
      "\n",
      "\n",
      "[14:21:36] WARNING: /Users/runner/miniforge3/conda-bld/xgboost_1598185652448/work/src/learner.cc:516: \n",
      "Parameters: { sub_sample } might not be used.\n",
      "\n",
      "  This may not be accurate due to some parameters are only used in language bindings but\n",
      "  passed down to XGBoost core.  Or some parameters are not used but slip through this\n",
      "  verification. Please open an issue if you find above cases.\n",
      "\n",
      "\n",
      "[14:21:36] WARNING: /Users/runner/miniforge3/conda-bld/xgboost_1598185652448/work/src/learner.cc:516: \n",
      "Parameters: { sub_sample } might not be used.\n",
      "\n",
      "  This may not be accurate due to some parameters are only used in language bindings but\n",
      "  passed down to XGBoost core.  Or some parameters are not used but slip through this\n",
      "  verification. Please open an issue if you find above cases.\n",
      "\n",
      "\n",
      "[14:21:37] WARNING: /Users/runner/miniforge3/conda-bld/xgboost_1598185652448/work/src/learner.cc:516: \n",
      "Parameters: { sub_sample } might not be used.\n",
      "\n",
      "  This may not be accurate due to some parameters are only used in language bindings but\n",
      "  passed down to XGBoost core.  Or some parameters are not used but slip through this\n",
      "  verification. Please open an issue if you find above cases.\n",
      "\n",
      "\n",
      "[14:21:37] WARNING: /Users/runner/miniforge3/conda-bld/xgboost_1598185652448/work/src/learner.cc:516: \n",
      "Parameters: { sub_sample } might not be used.\n",
      "\n",
      "  This may not be accurate due to some parameters are only used in language bindings but\n",
      "  passed down to XGBoost core.  Or some parameters are not used but slip through this\n",
      "  verification. Please open an issue if you find above cases.\n",
      "\n",
      "\n",
      "[14:21:37] WARNING: /Users/runner/miniforge3/conda-bld/xgboost_1598185652448/work/src/learner.cc:516: \n",
      "Parameters: { sub_sample } might not be used.\n",
      "\n",
      "  This may not be accurate due to some parameters are only used in language bindings but\n",
      "  passed down to XGBoost core.  Or some parameters are not used but slip through this\n",
      "  verification. Please open an issue if you find above cases.\n",
      "\n",
      "\n",
      "[14:21:38] WARNING: /Users/runner/miniforge3/conda-bld/xgboost_1598185652448/work/src/learner.cc:516: \n",
      "Parameters: { sub_sample } might not be used.\n",
      "\n",
      "  This may not be accurate due to some parameters are only used in language bindings but\n",
      "  passed down to XGBoost core.  Or some parameters are not used but slip through this\n",
      "  verification. Please open an issue if you find above cases.\n",
      "\n",
      "\n",
      "[14:21:38] WARNING: /Users/runner/miniforge3/conda-bld/xgboost_1598185652448/work/src/learner.cc:516: \n",
      "Parameters: { sub_sample } might not be used.\n",
      "\n",
      "  This may not be accurate due to some parameters are only used in language bindings but\n",
      "  passed down to XGBoost core.  Or some parameters are not used but slip through this\n",
      "  verification. Please open an issue if you find above cases.\n",
      "\n",
      "\n"
     ]
    },
    {
     "name": "stdout",
     "output_type": "stream",
     "text": [
      "[14:21:38] WARNING: /Users/runner/miniforge3/conda-bld/xgboost_1598185652448/work/src/learner.cc:516: \n",
      "Parameters: { sub_sample } might not be used.\n",
      "\n",
      "  This may not be accurate due to some parameters are only used in language bindings but\n",
      "  passed down to XGBoost core.  Or some parameters are not used but slip through this\n",
      "  verification. Please open an issue if you find above cases.\n",
      "\n",
      "\n",
      "[14:21:39] WARNING: /Users/runner/miniforge3/conda-bld/xgboost_1598185652448/work/src/learner.cc:516: \n",
      "Parameters: { sub_sample } might not be used.\n",
      "\n",
      "  This may not be accurate due to some parameters are only used in language bindings but\n",
      "  passed down to XGBoost core.  Or some parameters are not used but slip through this\n",
      "  verification. Please open an issue if you find above cases.\n",
      "\n",
      "\n",
      "[14:21:39] WARNING: /Users/runner/miniforge3/conda-bld/xgboost_1598185652448/work/src/learner.cc:516: \n",
      "Parameters: { sub_sample } might not be used.\n",
      "\n",
      "  This may not be accurate due to some parameters are only used in language bindings but\n",
      "  passed down to XGBoost core.  Or some parameters are not used but slip through this\n",
      "  verification. Please open an issue if you find above cases.\n",
      "\n",
      "\n",
      "[14:21:40] WARNING: /Users/runner/miniforge3/conda-bld/xgboost_1598185652448/work/src/learner.cc:516: \n",
      "Parameters: { sub_sample } might not be used.\n",
      "\n",
      "  This may not be accurate due to some parameters are only used in language bindings but\n",
      "  passed down to XGBoost core.  Or some parameters are not used but slip through this\n",
      "  verification. Please open an issue if you find above cases.\n",
      "\n",
      "\n",
      "[14:21:40] WARNING: /Users/runner/miniforge3/conda-bld/xgboost_1598185652448/work/src/learner.cc:516: \n",
      "Parameters: { sub_sample } might not be used.\n",
      "\n",
      "  This may not be accurate due to some parameters are only used in language bindings but\n",
      "  passed down to XGBoost core.  Or some parameters are not used but slip through this\n",
      "  verification. Please open an issue if you find above cases.\n",
      "\n",
      "\n",
      "[14:21:41] WARNING: /Users/runner/miniforge3/conda-bld/xgboost_1598185652448/work/src/learner.cc:516: \n",
      "Parameters: { sub_sample } might not be used.\n",
      "\n",
      "  This may not be accurate due to some parameters are only used in language bindings but\n",
      "  passed down to XGBoost core.  Or some parameters are not used but slip through this\n",
      "  verification. Please open an issue if you find above cases.\n",
      "\n",
      "\n",
      "[14:21:41] WARNING: /Users/runner/miniforge3/conda-bld/xgboost_1598185652448/work/src/learner.cc:516: \n",
      "Parameters: { sub_sample } might not be used.\n",
      "\n",
      "  This may not be accurate due to some parameters are only used in language bindings but\n",
      "  passed down to XGBoost core.  Or some parameters are not used but slip through this\n",
      "  verification. Please open an issue if you find above cases.\n",
      "\n",
      "\n",
      "[14:21:42] WARNING: /Users/runner/miniforge3/conda-bld/xgboost_1598185652448/work/src/learner.cc:516: \n",
      "Parameters: { sub_sample } might not be used.\n",
      "\n",
      "  This may not be accurate due to some parameters are only used in language bindings but\n",
      "  passed down to XGBoost core.  Or some parameters are not used but slip through this\n",
      "  verification. Please open an issue if you find above cases.\n",
      "\n",
      "\n",
      "[14:21:42] WARNING: /Users/runner/miniforge3/conda-bld/xgboost_1598185652448/work/src/learner.cc:516: \n",
      "Parameters: { sub_sample } might not be used.\n",
      "\n",
      "  This may not be accurate due to some parameters are only used in language bindings but\n",
      "  passed down to XGBoost core.  Or some parameters are not used but slip through this\n",
      "  verification. Please open an issue if you find above cases.\n",
      "\n",
      "\n",
      "[14:21:43] WARNING: /Users/runner/miniforge3/conda-bld/xgboost_1598185652448/work/src/learner.cc:516: \n",
      "Parameters: { sub_sample } might not be used.\n",
      "\n",
      "  This may not be accurate due to some parameters are only used in language bindings but\n",
      "  passed down to XGBoost core.  Or some parameters are not used but slip through this\n",
      "  verification. Please open an issue if you find above cases.\n",
      "\n",
      "\n",
      "[14:21:44] WARNING: /Users/runner/miniforge3/conda-bld/xgboost_1598185652448/work/src/learner.cc:516: \n",
      "Parameters: { sub_sample } might not be used.\n",
      "\n",
      "  This may not be accurate due to some parameters are only used in language bindings but\n",
      "  passed down to XGBoost core.  Or some parameters are not used but slip through this\n",
      "  verification. Please open an issue if you find above cases.\n",
      "\n",
      "\n",
      "[14:21:44] WARNING: /Users/runner/miniforge3/conda-bld/xgboost_1598185652448/work/src/learner.cc:516: \n",
      "Parameters: { sub_sample } might not be used.\n",
      "\n",
      "  This may not be accurate due to some parameters are only used in language bindings but\n",
      "  passed down to XGBoost core.  Or some parameters are not used but slip through this\n",
      "  verification. Please open an issue if you find above cases.\n",
      "\n",
      "\n",
      "[14:21:45] WARNING: /Users/runner/miniforge3/conda-bld/xgboost_1598185652448/work/src/learner.cc:516: \n",
      "Parameters: { sub_sample } might not be used.\n",
      "\n",
      "  This may not be accurate due to some parameters are only used in language bindings but\n",
      "  passed down to XGBoost core.  Or some parameters are not used but slip through this\n",
      "  verification. Please open an issue if you find above cases.\n",
      "\n",
      "\n",
      "[14:21:45] WARNING: /Users/runner/miniforge3/conda-bld/xgboost_1598185652448/work/src/learner.cc:516: \n",
      "Parameters: { sub_sample } might not be used.\n",
      "\n",
      "  This may not be accurate due to some parameters are only used in language bindings but\n",
      "  passed down to XGBoost core.  Or some parameters are not used but slip through this\n",
      "  verification. Please open an issue if you find above cases.\n",
      "\n",
      "\n",
      "[14:21:46] WARNING: /Users/runner/miniforge3/conda-bld/xgboost_1598185652448/work/src/learner.cc:516: \n",
      "Parameters: { sub_sample } might not be used.\n",
      "\n",
      "  This may not be accurate due to some parameters are only used in language bindings but\n",
      "  passed down to XGBoost core.  Or some parameters are not used but slip through this\n",
      "  verification. Please open an issue if you find above cases.\n",
      "\n",
      "\n",
      "[14:21:46] WARNING: /Users/runner/miniforge3/conda-bld/xgboost_1598185652448/work/src/learner.cc:516: \n",
      "Parameters: { sub_sample } might not be used.\n",
      "\n",
      "  This may not be accurate due to some parameters are only used in language bindings but\n",
      "  passed down to XGBoost core.  Or some parameters are not used but slip through this\n",
      "  verification. Please open an issue if you find above cases.\n",
      "\n",
      "\n",
      "[14:21:47] WARNING: /Users/runner/miniforge3/conda-bld/xgboost_1598185652448/work/src/learner.cc:516: \n",
      "Parameters: { sub_sample } might not be used.\n",
      "\n",
      "  This may not be accurate due to some parameters are only used in language bindings but\n",
      "  passed down to XGBoost core.  Or some parameters are not used but slip through this\n",
      "  verification. Please open an issue if you find above cases.\n",
      "\n",
      "\n",
      "[14:21:47] WARNING: /Users/runner/miniforge3/conda-bld/xgboost_1598185652448/work/src/learner.cc:516: \n",
      "Parameters: { sub_sample } might not be used.\n",
      "\n",
      "  This may not be accurate due to some parameters are only used in language bindings but\n",
      "  passed down to XGBoost core.  Or some parameters are not used but slip through this\n",
      "  verification. Please open an issue if you find above cases.\n",
      "\n",
      "\n",
      "[14:21:48] WARNING: /Users/runner/miniforge3/conda-bld/xgboost_1598185652448/work/src/learner.cc:516: \n",
      "Parameters: { sub_sample } might not be used.\n",
      "\n",
      "  This may not be accurate due to some parameters are only used in language bindings but\n",
      "  passed down to XGBoost core.  Or some parameters are not used but slip through this\n",
      "  verification. Please open an issue if you find above cases.\n",
      "\n",
      "\n",
      "[14:21:49] WARNING: /Users/runner/miniforge3/conda-bld/xgboost_1598185652448/work/src/learner.cc:516: \n",
      "Parameters: { sub_sample } might not be used.\n",
      "\n",
      "  This may not be accurate due to some parameters are only used in language bindings but\n",
      "  passed down to XGBoost core.  Or some parameters are not used but slip through this\n",
      "  verification. Please open an issue if you find above cases.\n",
      "\n",
      "\n",
      "[14:21:50] WARNING: /Users/runner/miniforge3/conda-bld/xgboost_1598185652448/work/src/learner.cc:516: \n",
      "Parameters: { sub_sample } might not be used.\n",
      "\n",
      "  This may not be accurate due to some parameters are only used in language bindings but\n",
      "  passed down to XGBoost core.  Or some parameters are not used but slip through this\n",
      "  verification. Please open an issue if you find above cases.\n",
      "\n",
      "\n",
      "[14:21:50] WARNING: /Users/runner/miniforge3/conda-bld/xgboost_1598185652448/work/src/learner.cc:516: \n",
      "Parameters: { sub_sample } might not be used.\n",
      "\n",
      "  This may not be accurate due to some parameters are only used in language bindings but\n",
      "  passed down to XGBoost core.  Or some parameters are not used but slip through this\n",
      "  verification. Please open an issue if you find above cases.\n",
      "\n",
      "\n"
     ]
    },
    {
     "name": "stdout",
     "output_type": "stream",
     "text": [
      "[14:21:51] WARNING: /Users/runner/miniforge3/conda-bld/xgboost_1598185652448/work/src/learner.cc:516: \n",
      "Parameters: { sub_sample } might not be used.\n",
      "\n",
      "  This may not be accurate due to some parameters are only used in language bindings but\n",
      "  passed down to XGBoost core.  Or some parameters are not used but slip through this\n",
      "  verification. Please open an issue if you find above cases.\n",
      "\n",
      "\n",
      "[14:21:51] WARNING: /Users/runner/miniforge3/conda-bld/xgboost_1598185652448/work/src/learner.cc:516: \n",
      "Parameters: { sub_sample } might not be used.\n",
      "\n",
      "  This may not be accurate due to some parameters are only used in language bindings but\n",
      "  passed down to XGBoost core.  Or some parameters are not used but slip through this\n",
      "  verification. Please open an issue if you find above cases.\n",
      "\n",
      "\n",
      "[14:21:52] WARNING: /Users/runner/miniforge3/conda-bld/xgboost_1598185652448/work/src/learner.cc:516: \n",
      "Parameters: { sub_sample } might not be used.\n",
      "\n",
      "  This may not be accurate due to some parameters are only used in language bindings but\n",
      "  passed down to XGBoost core.  Or some parameters are not used but slip through this\n",
      "  verification. Please open an issue if you find above cases.\n",
      "\n",
      "\n",
      "[14:21:53] WARNING: /Users/runner/miniforge3/conda-bld/xgboost_1598185652448/work/src/learner.cc:516: \n",
      "Parameters: { sub_sample } might not be used.\n",
      "\n",
      "  This may not be accurate due to some parameters are only used in language bindings but\n",
      "  passed down to XGBoost core.  Or some parameters are not used but slip through this\n",
      "  verification. Please open an issue if you find above cases.\n",
      "\n",
      "\n",
      "[14:21:54] WARNING: /Users/runner/miniforge3/conda-bld/xgboost_1598185652448/work/src/learner.cc:516: \n",
      "Parameters: { sub_sample } might not be used.\n",
      "\n",
      "  This may not be accurate due to some parameters are only used in language bindings but\n",
      "  passed down to XGBoost core.  Or some parameters are not used but slip through this\n",
      "  verification. Please open an issue if you find above cases.\n",
      "\n",
      "\n",
      "[14:21:54] WARNING: /Users/runner/miniforge3/conda-bld/xgboost_1598185652448/work/src/learner.cc:516: \n",
      "Parameters: { sub_sample } might not be used.\n",
      "\n",
      "  This may not be accurate due to some parameters are only used in language bindings but\n",
      "  passed down to XGBoost core.  Or some parameters are not used but slip through this\n",
      "  verification. Please open an issue if you find above cases.\n",
      "\n",
      "\n",
      "[14:21:55] WARNING: /Users/runner/miniforge3/conda-bld/xgboost_1598185652448/work/src/learner.cc:516: \n",
      "Parameters: { sub_sample } might not be used.\n",
      "\n",
      "  This may not be accurate due to some parameters are only used in language bindings but\n",
      "  passed down to XGBoost core.  Or some parameters are not used but slip through this\n",
      "  verification. Please open an issue if you find above cases.\n",
      "\n",
      "\n"
     ]
    },
    {
     "data": {
      "text/plain": [
       "GridSearchCV(cv=3,\n",
       "             estimator=XGBRegressor(base_score=None, booster=None,\n",
       "                                    colsample_bylevel=None,\n",
       "                                    colsample_bynode=None,\n",
       "                                    colsample_bytree=None, gamma=None,\n",
       "                                    gpu_id=None, importance_type='gain',\n",
       "                                    interaction_constraints=None,\n",
       "                                    learning_rate=None, max_delta_step=None,\n",
       "                                    max_depth=None, min_child_weight=None,\n",
       "                                    missing=nan, monotone_constraints=None,\n",
       "                                    n_estimators=100, n_jobs=None,\n",
       "                                    num_parallel_tree=None, random_state=None,\n",
       "                                    reg_alpha=None, reg_lambda=None,\n",
       "                                    scale_pos_weight=None, subsample=None,\n",
       "                                    tree_method=None, validate_parameters=None,\n",
       "                                    verbosity=None),\n",
       "             param_grid={'learning_rate': [0.1, 0.2], 'max_depth': [4, 6, 8],\n",
       "                         'min_child_weight': [1, 2], 'sub_sample': [0.5, 0.7]})"
      ]
     },
     "execution_count": 69,
     "metadata": {},
     "output_type": "execute_result"
    }
   ],
   "source": [
    "xgb_v2 = XGBRegressor()\n",
    "\n",
    "param_grid = {\n",
    "    'learning_rate' : [0.1, 0.2],\n",
    "    'max_depth': [4, 6, 8],\n",
    "    'min_child_weight': [1, 2],\n",
    "    'sub_sample': [0.5, 0.7],\n",
    "    \n",
    "}\n",
    "\n",
    "xgb_v2_model = GridSearchCV(estimator = xgb_v2, param_grid=param_grid, cv=3)\n",
    "xgb_v2_model.fit(X1_train_scaled, y1_train)"
   ]
  },
  {
   "cell_type": "code",
   "execution_count": 72,
   "metadata": {},
   "outputs": [
    {
     "name": "stdout",
     "output_type": "stream",
     "text": [
      "1.4166365423717366\n",
      "1.5921519834148006\n",
      "0.8336037644461947\n",
      "0.7938966019783038\n"
     ]
    }
   ],
   "source": [
    "rmse_train = math.sqrt(mean_squared_error(y1_train, xgb_v2_model.predict(X1_train_scaled)))\n",
    "rmse_test = math.sqrt(mean_squared_error(y1_test, xgb_v2_model.predict(X1_test_scaled)))\n",
    "    \n",
    "    #calculating R2\n",
    "r_sq_train = r2_score(y1_train, xgb_v2_model.predict(X1_train_scaled))\n",
    "r_sq_test = r2_score(y1_test, xgb_v2_model.predict(X1_test_scaled))\n",
    "\n",
    "print(rmse_train)\n",
    "print(rmse_test)\n",
    "print(r_sq_train)\n",
    "print(r_sq_test)"
   ]
  },
  {
   "cell_type": "markdown",
   "metadata": {},
   "source": [
    "# Counterfactuals"
   ]
  },
  {
   "cell_type": "code",
   "execution_count": 35,
   "metadata": {},
   "outputs": [
    {
     "name": "stdout",
     "output_type": "stream",
     "text": [
      "Collecting ceml\n",
      "  Using cached ceml-0.6-py3-none-any.whl (90 kB)\n",
      "Collecting sklearn-lvq==1.1.1\n",
      "  Using cached sklearn_lvq-1.1.1-py3-none-any.whl (38 kB)\n",
      "Requirement already satisfied: numpy==1.19.5 in /Users/Jack/opt/anaconda3/envs/learn-env/lib/python3.8/site-packages (from ceml) (1.19.5)\n",
      "Collecting tensorflow==2.4.0\n",
      "  Using cached tensorflow-2.4.0-cp38-cp38-macosx_10_11_x86_64.whl (175.5 MB)\n",
      "Collecting scipy==1.4.1\n",
      "  Using cached scipy-1.4.1-cp38-cp38-macosx_10_9_x86_64.whl (28.8 MB)\n",
      "Collecting cvxpy==1.1.0\n",
      "  Using cached cvxpy-1.1.0.tar.gz (990 kB)\n",
      "  Installing build dependencies ... \u001b[?25ldone\n",
      "\u001b[?25h  Getting requirements to build wheel ... \u001b[?25ldone\n",
      "\u001b[?25h    Preparing wheel metadata ... \u001b[?25ldone\n",
      "\u001b[?25hCollecting scikit-learn==0.24.0\n",
      "  Using cached scikit_learn-0.24.0-cp38-cp38-macosx_10_9_x86_64.whl (7.2 MB)\n",
      "Collecting torch==1.7.1\n",
      "  Using cached torch-1.7.1-cp38-none-macosx_10_9_x86_64.whl (108.9 MB)\n",
      "Collecting jaxlib==0.1.55\n",
      "  Using cached jaxlib-0.1.55-cp38-none-macosx_10_9_x86_64.whl (41.7 MB)\n",
      "Processing /Users/Jack/Library/Caches/pip/wheels/05/7a/4e/d06ceec983fcff6ee886eb08ad6394d9ca1535280fdecead22/jax-0.2.0-py3-none-any.whl\n",
      "Requirement already satisfied: astunparse~=1.6.3 in /Users/Jack/opt/anaconda3/envs/learn-env/lib/python3.8/site-packages (from tensorflow==2.4.0->ceml) (1.6.3)\n",
      "Requirement already satisfied: termcolor~=1.1.0 in /Users/Jack/opt/anaconda3/envs/learn-env/lib/python3.8/site-packages (from tensorflow==2.4.0->ceml) (1.1.0)\n",
      "Collecting typing-extensions~=3.7.4\n",
      "  Using cached typing_extensions-3.7.4.3-py3-none-any.whl (22 kB)\n",
      "Collecting tensorflow-estimator<2.5.0,>=2.4.0rc0\n",
      "  Using cached tensorflow_estimator-2.4.0-py2.py3-none-any.whl (462 kB)\n",
      "Collecting grpcio~=1.32.0\n",
      "  Using cached grpcio-1.32.0-cp38-cp38-macosx_10_9_x86_64.whl (3.3 MB)\n",
      "Requirement already satisfied: absl-py~=0.10 in /Users/Jack/opt/anaconda3/envs/learn-env/lib/python3.8/site-packages (from tensorflow==2.4.0->ceml) (0.10.0)\n",
      "Requirement already satisfied: google-pasta~=0.2 in /Users/Jack/opt/anaconda3/envs/learn-env/lib/python3.8/site-packages (from tensorflow==2.4.0->ceml) (0.2.0)\n",
      "Requirement already satisfied: wheel~=0.35 in /Users/Jack/opt/anaconda3/envs/learn-env/lib/python3.8/site-packages (from tensorflow==2.4.0->ceml) (0.35.1)\n",
      "Collecting flatbuffers~=1.12.0\n",
      "  Using cached flatbuffers-1.12-py2.py3-none-any.whl (15 kB)\n",
      "Collecting tensorboard~=2.4\n",
      "  Using cached tensorboard-2.6.0-py3-none-any.whl (5.6 MB)\n",
      "Requirement already satisfied: six~=1.15.0 in /Users/Jack/opt/anaconda3/envs/learn-env/lib/python3.8/site-packages (from tensorflow==2.4.0->ceml) (1.15.0)\n",
      "Requirement already satisfied: wrapt~=1.12.1 in /Users/Jack/opt/anaconda3/envs/learn-env/lib/python3.8/site-packages (from tensorflow==2.4.0->ceml) (1.12.1)\n",
      "Requirement already satisfied: protobuf>=3.9.2 in /Users/Jack/opt/anaconda3/envs/learn-env/lib/python3.8/site-packages (from tensorflow==2.4.0->ceml) (3.13.0)\n",
      "Requirement already satisfied: gast==0.3.3 in /Users/Jack/opt/anaconda3/envs/learn-env/lib/python3.8/site-packages (from tensorflow==2.4.0->ceml) (0.3.3)\n",
      "Requirement already satisfied: keras-preprocessing~=1.1.2 in /Users/Jack/opt/anaconda3/envs/learn-env/lib/python3.8/site-packages (from tensorflow==2.4.0->ceml) (1.1.2)\n",
      "Requirement already satisfied: opt-einsum~=3.3.0 in /Users/Jack/opt/anaconda3/envs/learn-env/lib/python3.8/site-packages (from tensorflow==2.4.0->ceml) (3.3.0)\n",
      "Requirement already satisfied: h5py~=2.10.0 in /Users/Jack/opt/anaconda3/envs/learn-env/lib/python3.8/site-packages (from tensorflow==2.4.0->ceml) (2.10.0)\n",
      "Requirement already satisfied: scs>=1.1.3 in /Users/Jack/opt/anaconda3/envs/learn-env/lib/python3.8/site-packages (from cvxpy==1.1.0->ceml) (2.1.2)\n",
      "Requirement already satisfied: ecos>=2 in /Users/Jack/opt/anaconda3/envs/learn-env/lib/python3.8/site-packages (from cvxpy==1.1.0->ceml) (2.0.7.post1)\n",
      "Requirement already satisfied: osqp>=0.4.1 in /Users/Jack/opt/anaconda3/envs/learn-env/lib/python3.8/site-packages (from cvxpy==1.1.0->ceml) (0.6.1)\n",
      "Requirement already satisfied: joblib>=0.11 in /Users/Jack/opt/anaconda3/envs/learn-env/lib/python3.8/site-packages (from scikit-learn==0.24.0->ceml) (0.17.0)\n",
      "Requirement already satisfied: threadpoolctl>=2.0.0 in /Users/Jack/opt/anaconda3/envs/learn-env/lib/python3.8/site-packages (from scikit-learn==0.24.0->ceml) (2.1.0)\n",
      "Requirement already satisfied: setuptools>=41.0.0 in /Users/Jack/opt/anaconda3/envs/learn-env/lib/python3.8/site-packages (from tensorboard~=2.4->tensorflow==2.4.0->ceml) (50.3.0.post20201103)\n",
      "Collecting tensorboard-data-server<0.7.0,>=0.6.0\n",
      "  Using cached tensorboard_data_server-0.6.1-py3-none-macosx_10_9_x86_64.whl (3.5 MB)\n",
      "Requirement already satisfied: werkzeug>=0.11.15 in /Users/Jack/opt/anaconda3/envs/learn-env/lib/python3.8/site-packages (from tensorboard~=2.4->tensorflow==2.4.0->ceml) (1.0.1)\n",
      "Requirement already satisfied: tensorboard-plugin-wit>=1.6.0 in /Users/Jack/opt/anaconda3/envs/learn-env/lib/python3.8/site-packages (from tensorboard~=2.4->tensorflow==2.4.0->ceml) (1.7.0)\n",
      "Requirement already satisfied: google-auth-oauthlib<0.5,>=0.4.1 in /Users/Jack/opt/anaconda3/envs/learn-env/lib/python3.8/site-packages (from tensorboard~=2.4->tensorflow==2.4.0->ceml) (0.4.1)\n",
      "Requirement already satisfied: markdown>=2.6.8 in /Users/Jack/opt/anaconda3/envs/learn-env/lib/python3.8/site-packages (from tensorboard~=2.4->tensorflow==2.4.0->ceml) (3.3.1)\n",
      "Requirement already satisfied: google-auth<2,>=1.6.3 in /Users/Jack/opt/anaconda3/envs/learn-env/lib/python3.8/site-packages (from tensorboard~=2.4->tensorflow==2.4.0->ceml) (1.22.0)\n",
      "Requirement already satisfied: requests<3,>=2.21.0 in /Users/Jack/opt/anaconda3/envs/learn-env/lib/python3.8/site-packages (from tensorboard~=2.4->tensorflow==2.4.0->ceml) (2.24.0)\n",
      "Requirement already satisfied: future in /Users/Jack/opt/anaconda3/envs/learn-env/lib/python3.8/site-packages (from osqp>=0.4.1->cvxpy==1.1.0->ceml) (0.18.2)\n",
      "Requirement already satisfied: requests-oauthlib>=0.7.0 in /Users/Jack/opt/anaconda3/envs/learn-env/lib/python3.8/site-packages (from google-auth-oauthlib<0.5,>=0.4.1->tensorboard~=2.4->tensorflow==2.4.0->ceml) (1.3.0)\n",
      "Requirement already satisfied: cachetools<5.0,>=2.0.0 in /Users/Jack/opt/anaconda3/envs/learn-env/lib/python3.8/site-packages (from google-auth<2,>=1.6.3->tensorboard~=2.4->tensorflow==2.4.0->ceml) (4.1.1)\n",
      "Requirement already satisfied: rsa<5,>=3.1.4; python_version >= \"3.5\" in /Users/Jack/opt/anaconda3/envs/learn-env/lib/python3.8/site-packages (from google-auth<2,>=1.6.3->tensorboard~=2.4->tensorflow==2.4.0->ceml) (4.6)\n",
      "Requirement already satisfied: aiohttp<4.0.0dev,>=3.6.2; python_version >= \"3.6\" in /Users/Jack/opt/anaconda3/envs/learn-env/lib/python3.8/site-packages (from google-auth<2,>=1.6.3->tensorboard~=2.4->tensorflow==2.4.0->ceml) (3.6.2)\n",
      "Requirement already satisfied: pyasn1-modules>=0.2.1 in /Users/Jack/opt/anaconda3/envs/learn-env/lib/python3.8/site-packages (from google-auth<2,>=1.6.3->tensorboard~=2.4->tensorflow==2.4.0->ceml) (0.2.7)\n",
      "Requirement already satisfied: certifi>=2017.4.17 in /Users/Jack/opt/anaconda3/envs/learn-env/lib/python3.8/site-packages (from requests<3,>=2.21.0->tensorboard~=2.4->tensorflow==2.4.0->ceml) (2021.5.30)\n",
      "Requirement already satisfied: urllib3!=1.25.0,!=1.25.1,<1.26,>=1.21.1 in /Users/Jack/opt/anaconda3/envs/learn-env/lib/python3.8/site-packages (from requests<3,>=2.21.0->tensorboard~=2.4->tensorflow==2.4.0->ceml) (1.25.10)\n",
      "Requirement already satisfied: chardet<4,>=3.0.2 in /Users/Jack/opt/anaconda3/envs/learn-env/lib/python3.8/site-packages (from requests<3,>=2.21.0->tensorboard~=2.4->tensorflow==2.4.0->ceml) (3.0.4)\n",
      "Requirement already satisfied: idna<3,>=2.5 in /Users/Jack/opt/anaconda3/envs/learn-env/lib/python3.8/site-packages (from requests<3,>=2.21.0->tensorboard~=2.4->tensorflow==2.4.0->ceml) (2.10)\n",
      "Requirement already satisfied: oauthlib>=3.0.0 in /Users/Jack/opt/anaconda3/envs/learn-env/lib/python3.8/site-packages (from requests-oauthlib>=0.7.0->google-auth-oauthlib<0.5,>=0.4.1->tensorboard~=2.4->tensorflow==2.4.0->ceml) (3.1.0)\n",
      "Requirement already satisfied: pyasn1>=0.1.3 in /Users/Jack/opt/anaconda3/envs/learn-env/lib/python3.8/site-packages (from rsa<5,>=3.1.4; python_version >= \"3.5\"->google-auth<2,>=1.6.3->tensorboard~=2.4->tensorflow==2.4.0->ceml) (0.4.8)\n",
      "Requirement already satisfied: yarl<2.0,>=1.0 in /Users/Jack/opt/anaconda3/envs/learn-env/lib/python3.8/site-packages (from aiohttp<4.0.0dev,>=3.6.2; python_version >= \"3.6\"->google-auth<2,>=1.6.3->tensorboard~=2.4->tensorflow==2.4.0->ceml) (1.6.2)\n",
      "Requirement already satisfied: attrs>=17.3.0 in /Users/Jack/opt/anaconda3/envs/learn-env/lib/python3.8/site-packages (from aiohttp<4.0.0dev,>=3.6.2; python_version >= \"3.6\"->google-auth<2,>=1.6.3->tensorboard~=2.4->tensorflow==2.4.0->ceml) (20.2.0)\n"
     ]
    },
    {
     "name": "stdout",
     "output_type": "stream",
     "text": [
      "Requirement already satisfied: async-timeout<4.0,>=3.0 in /Users/Jack/opt/anaconda3/envs/learn-env/lib/python3.8/site-packages (from aiohttp<4.0.0dev,>=3.6.2; python_version >= \"3.6\"->google-auth<2,>=1.6.3->tensorboard~=2.4->tensorflow==2.4.0->ceml) (3.0.1)\n",
      "Requirement already satisfied: multidict<5.0,>=4.5 in /Users/Jack/opt/anaconda3/envs/learn-env/lib/python3.8/site-packages (from aiohttp<4.0.0dev,>=3.6.2; python_version >= \"3.6\"->google-auth<2,>=1.6.3->tensorboard~=2.4->tensorflow==2.4.0->ceml) (4.7.5)\n",
      "Building wheels for collected packages: cvxpy\n",
      "  Building wheel for cvxpy (PEP 517) ... \u001b[?25lerror\n",
      "\u001b[31m  ERROR: Command errored out with exit status 1:\n",
      "   command: /Users/Jack/opt/anaconda3/envs/learn-env/bin/python /Users/Jack/opt/anaconda3/envs/learn-env/lib/python3.8/site-packages/pip/_vendor/pep517/_in_process.py build_wheel /var/folders/zy/c4nnbj150klf3b005qvxjbbr0000gn/T/tmpx0lss6ud\n",
      "       cwd: /private/var/folders/zy/c4nnbj150klf3b005qvxjbbr0000gn/T/pip-install-nx1f9bh7/cvxpy\n",
      "  Complete output (428 lines):\n",
      "  running bdist_wheel\n",
      "  running build\n",
      "  running build_py\n",
      "  creating build\n",
      "  creating build/lib.macosx-10.9-x86_64-3.8\n",
      "  creating build/lib.macosx-10.9-x86_64-3.8/cvxpy\n",
      "  copying cvxpy/error.py -> build/lib.macosx-10.9-x86_64-3.8/cvxpy\n",
      "  copying cvxpy/__init__.py -> build/lib.macosx-10.9-x86_64-3.8/cvxpy\n",
      "  copying cvxpy/settings.py -> build/lib.macosx-10.9-x86_64-3.8/cvxpy\n",
      "  creating build/lib.macosx-10.9-x86_64-3.8/examples\n",
      "  copying examples/ex_5_1.py -> build/lib.macosx-10.9-x86_64-3.8/examples\n",
      "  copying examples/matrix_games_LP.py -> build/lib.macosx-10.9-x86_64-3.8/examples\n",
      "  copying examples/deadzone.py -> build/lib.macosx-10.9-x86_64-3.8/examples\n",
      "  copying examples/ex_5_33.py -> build/lib.macosx-10.9-x86_64-3.8/examples\n",
      "  copying examples/floor_packing.py -> build/lib.macosx-10.9-x86_64-3.8/examples\n",
      "  copying examples/qcqp.py -> build/lib.macosx-10.9-x86_64-3.8/examples\n",
      "  copying examples/admm_example.py -> build/lib.macosx-10.9-x86_64-3.8/examples\n",
      "  copying examples/__init__.py -> build/lib.macosx-10.9-x86_64-3.8/examples\n",
      "  copying examples/tsp_mip.py -> build/lib.macosx-10.9-x86_64-3.8/examples\n",
      "  copying examples/mpi_consensus_admm.py -> build/lib.macosx-10.9-x86_64-3.8/examples\n",
      "  copying examples/relax_and_round.py -> build/lib.macosx-10.9-x86_64-3.8/examples\n",
      "  copying examples/fig6_9.py -> build/lib.macosx-10.9-x86_64-3.8/examples\n",
      "  copying examples/admm_svm_pool.py -> build/lib.macosx-10.9-x86_64-3.8/examples\n",
      "  copying examples/chebyshev.py -> build/lib.macosx-10.9-x86_64-3.8/examples\n",
      "  copying examples/penalty_comp_cvx.py -> build/lib.macosx-10.9-x86_64-3.8/examples\n",
      "  copying examples/fmmc.py -> build/lib.macosx-10.9-x86_64-3.8/examples\n",
      "  copying examples/sdp.py -> build/lib.macosx-10.9-x86_64-3.8/examples\n",
      "  copying examples/branch_and_bound.py -> build/lib.macosx-10.9-x86_64-3.8/examples\n",
      "  copying examples/lasso.py -> build/lib.macosx-10.9-x86_64-3.8/examples\n",
      "  copying examples/norm_approx.py -> build/lib.macosx-10.9-x86_64-3.8/examples\n",
      "  copying examples/ex_4_3.py -> build/lib.macosx-10.9-x86_64-3.8/examples\n",
      "  copying examples/consensus_admm.py -> build/lib.macosx-10.9-x86_64-3.8/examples\n",
      "  copying examples/admm_svm_procs.py -> build/lib.macosx-10.9-x86_64-3.8/examples\n",
      "  copying examples/admm_lasso.py -> build/lib.macosx-10.9-x86_64-3.8/examples\n",
      "  creating build/lib.macosx-10.9-x86_64-3.8/cvxpy/interface\n",
      "  copying cvxpy/interface/base_matrix_interface.py -> build/lib.macosx-10.9-x86_64-3.8/cvxpy/interface\n",
      "  copying cvxpy/interface/__init__.py -> build/lib.macosx-10.9-x86_64-3.8/cvxpy/interface\n",
      "  copying cvxpy/interface/scipy_wrapper.py -> build/lib.macosx-10.9-x86_64-3.8/cvxpy/interface\n",
      "  copying cvxpy/interface/matrix_utilities.py -> build/lib.macosx-10.9-x86_64-3.8/cvxpy/interface\n",
      "  creating build/lib.macosx-10.9-x86_64-3.8/cvxpy/atoms\n",
      "  copying cvxpy/atoms/max.py -> build/lib.macosx-10.9-x86_64-3.8/cvxpy/atoms\n",
      "  copying cvxpy/atoms/cummax.py -> build/lib.macosx-10.9-x86_64-3.8/cvxpy/atoms\n",
      "  copying cvxpy/atoms/matrix_frac.py -> build/lib.macosx-10.9-x86_64-3.8/cvxpy/atoms\n",
      "  copying cvxpy/atoms/lambda_max.py -> build/lib.macosx-10.9-x86_64-3.8/cvxpy/atoms\n",
      "  copying cvxpy/atoms/sigma_max.py -> build/lib.macosx-10.9-x86_64-3.8/cvxpy/atoms\n",
      "  copying cvxpy/atoms/total_variation.py -> build/lib.macosx-10.9-x86_64-3.8/cvxpy/atoms\n",
      "  copying cvxpy/atoms/eye_minus_inv.py -> build/lib.macosx-10.9-x86_64-3.8/cvxpy/atoms\n",
      "  copying cvxpy/atoms/length.py -> build/lib.macosx-10.9-x86_64-3.8/cvxpy/atoms\n",
      "  copying cvxpy/atoms/sum_smallest.py -> build/lib.macosx-10.9-x86_64-3.8/cvxpy/atoms\n",
      "  copying cvxpy/atoms/norm1.py -> build/lib.macosx-10.9-x86_64-3.8/cvxpy/atoms\n",
      "  copying cvxpy/atoms/lambda_sum_smallest.py -> build/lib.macosx-10.9-x86_64-3.8/cvxpy/atoms\n",
      "  copying cvxpy/atoms/norm.py -> build/lib.macosx-10.9-x86_64-3.8/cvxpy/atoms\n",
      "  copying cvxpy/atoms/pf_eigenvalue.py -> build/lib.macosx-10.9-x86_64-3.8/cvxpy/atoms\n",
      "  copying cvxpy/atoms/pnorm.py -> build/lib.macosx-10.9-x86_64-3.8/cvxpy/atoms\n",
      "  copying cvxpy/atoms/__init__.py -> build/lib.macosx-10.9-x86_64-3.8/cvxpy/atoms\n",
      "  copying cvxpy/atoms/sum_largest.py -> build/lib.macosx-10.9-x86_64-3.8/cvxpy/atoms\n",
      "  copying cvxpy/atoms/lambda_sum_largest.py -> build/lib.macosx-10.9-x86_64-3.8/cvxpy/atoms\n",
      "  copying cvxpy/atoms/sum_squares.py -> build/lib.macosx-10.9-x86_64-3.8/cvxpy/atoms\n",
      "  copying cvxpy/atoms/log_sum_exp.py -> build/lib.macosx-10.9-x86_64-3.8/cvxpy/atoms\n",
      "  copying cvxpy/atoms/norm_nuc.py -> build/lib.macosx-10.9-x86_64-3.8/cvxpy/atoms\n",
      "  copying cvxpy/atoms/dist_ratio.py -> build/lib.macosx-10.9-x86_64-3.8/cvxpy/atoms\n",
      "  copying cvxpy/atoms/mixed_norm.py -> build/lib.macosx-10.9-x86_64-3.8/cvxpy/atoms\n",
      "  copying cvxpy/atoms/min.py -> build/lib.macosx-10.9-x86_64-3.8/cvxpy/atoms\n",
      "  copying cvxpy/atoms/quad_over_lin.py -> build/lib.macosx-10.9-x86_64-3.8/cvxpy/atoms\n",
      "  copying cvxpy/atoms/geo_mean.py -> build/lib.macosx-10.9-x86_64-3.8/cvxpy/atoms\n",
      "  copying cvxpy/atoms/axis_atom.py -> build/lib.macosx-10.9-x86_64-3.8/cvxpy/atoms\n",
      "  copying cvxpy/atoms/lambda_min.py -> build/lib.macosx-10.9-x86_64-3.8/cvxpy/atoms\n",
      "  copying cvxpy/atoms/norm_inf.py -> build/lib.macosx-10.9-x86_64-3.8/cvxpy/atoms\n",
      "  copying cvxpy/atoms/one_minus_pos.py -> build/lib.macosx-10.9-x86_64-3.8/cvxpy/atoms\n",
      "  copying cvxpy/atoms/quad_form.py -> build/lib.macosx-10.9-x86_64-3.8/cvxpy/atoms\n",
      "  copying cvxpy/atoms/prod.py -> build/lib.macosx-10.9-x86_64-3.8/cvxpy/atoms\n",
      "  copying cvxpy/atoms/log_det.py -> build/lib.macosx-10.9-x86_64-3.8/cvxpy/atoms\n",
      "  copying cvxpy/atoms/suppfunc.py -> build/lib.macosx-10.9-x86_64-3.8/cvxpy/atoms\n",
      "  copying cvxpy/atoms/harmonic_mean.py -> build/lib.macosx-10.9-x86_64-3.8/cvxpy/atoms\n",
      "  copying cvxpy/atoms/gen_lambda_max.py -> build/lib.macosx-10.9-x86_64-3.8/cvxpy/atoms\n",
      "  copying cvxpy/atoms/sign.py -> build/lib.macosx-10.9-x86_64-3.8/cvxpy/atoms\n",
      "  copying cvxpy/atoms/atom.py -> build/lib.macosx-10.9-x86_64-3.8/cvxpy/atoms\n",
      "  copying cvxpy/atoms/gmatmul.py -> build/lib.macosx-10.9-x86_64-3.8/cvxpy/atoms\n",
      "  creating build/lib.macosx-10.9-x86_64-3.8/cvxpy/constraints\n",
      "  copying cvxpy/constraints/constraint.py -> build/lib.macosx-10.9-x86_64-3.8/cvxpy/constraints\n",
      "  copying cvxpy/constraints/__init__.py -> build/lib.macosx-10.9-x86_64-3.8/cvxpy/constraints\n",
      "  copying cvxpy/constraints/second_order.py -> build/lib.macosx-10.9-x86_64-3.8/cvxpy/constraints\n",
      "  copying cvxpy/constraints/exponential.py -> build/lib.macosx-10.9-x86_64-3.8/cvxpy/constraints\n",
      "  copying cvxpy/constraints/zero.py -> build/lib.macosx-10.9-x86_64-3.8/cvxpy/constraints\n",
      "  copying cvxpy/constraints/nonpos.py -> build/lib.macosx-10.9-x86_64-3.8/cvxpy/constraints\n",
      "  copying cvxpy/constraints/psd.py -> build/lib.macosx-10.9-x86_64-3.8/cvxpy/constraints\n",
      "  copying cvxpy/constraints/utilities.py -> build/lib.macosx-10.9-x86_64-3.8/cvxpy/constraints\n",
      "  creating build/lib.macosx-10.9-x86_64-3.8/cvxpy/tests\n",
      "  copying cvxpy/tests/base_test.py -> build/lib.macosx-10.9-x86_64-3.8/cvxpy/tests\n",
      "  copying cvxpy/tests/test_mip_vars.py -> build/lib.macosx-10.9-x86_64-3.8/cvxpy/tests\n",
      "  copying cvxpy/tests/test_derivative.py -> build/lib.macosx-10.9-x86_64-3.8/cvxpy/tests\n",
      "  copying cvxpy/tests/test_nonlinear_atoms.py -> build/lib.macosx-10.9-x86_64-3.8/cvxpy/tests\n",
      "  copying cvxpy/tests/test_expressions.py -> build/lib.macosx-10.9-x86_64-3.8/cvxpy/tests\n",
      "  copying cvxpy/tests/test_constant_atoms.py -> build/lib.macosx-10.9-x86_64-3.8/cvxpy/tests\n",
      "  copying cvxpy/tests/test_param_quad_prog.py -> build/lib.macosx-10.9-x86_64-3.8/cvxpy/tests\n",
      "  copying cvxpy/tests/test_semidefinite_vars.py -> build/lib.macosx-10.9-x86_64-3.8/cvxpy/tests\n",
      "  copying cvxpy/tests/test_shape.py -> build/lib.macosx-10.9-x86_64-3.8/cvxpy/tests\n",
      "  copying cvxpy/tests/test_lin_ops.py -> build/lib.macosx-10.9-x86_64-3.8/cvxpy/tests\n",
      "  copying cvxpy/tests/test_benchmarks.py -> build/lib.macosx-10.9-x86_64-3.8/cvxpy/tests\n",
      "  copying cvxpy/tests/test_atoms.py -> build/lib.macosx-10.9-x86_64-3.8/cvxpy/tests\n",
      "  copying cvxpy/tests/test_objectives.py -> build/lib.macosx-10.9-x86_64-3.8/cvxpy/tests\n",
      "  copying cvxpy/tests/test_dgp.py -> build/lib.macosx-10.9-x86_64-3.8/cvxpy/tests\n",
      "  copying cvxpy/tests/test_dpp.py -> build/lib.macosx-10.9-x86_64-3.8/cvxpy/tests\n",
      "  copying cvxpy/tests/test_convolution.py -> build/lib.macosx-10.9-x86_64-3.8/cvxpy/tests\n",
      "  copying cvxpy/tests/__init__.py -> build/lib.macosx-10.9-x86_64-3.8/cvxpy/tests\n",
      "  copying cvxpy/tests/test_dgp2dcp.py -> build/lib.macosx-10.9-x86_64-3.8/cvxpy/tests\n",
      "  copying cvxpy/tests/test_matrices.py -> build/lib.macosx-10.9-x86_64-3.8/cvxpy/tests\n",
      "  copying cvxpy/tests/test_quad_form.py -> build/lib.macosx-10.9-x86_64-3.8/cvxpy/tests\n",
      "  copying cvxpy/tests/test_constraints.py -> build/lib.macosx-10.9-x86_64-3.8/cvxpy/tests\n",
      "  copying cvxpy/tests/test_qp_solvers.py -> build/lib.macosx-10.9-x86_64-3.8/cvxpy/tests\n",
      "  copying cvxpy/tests/test_monotonicity.py -> build/lib.macosx-10.9-x86_64-3.8/cvxpy/tests\n",
      "  copying cvxpy/tests/ram_limited.py -> build/lib.macosx-10.9-x86_64-3.8/cvxpy/tests\n",
      "  copying cvxpy/tests/test_quadratic.py -> build/lib.macosx-10.9-x86_64-3.8/cvxpy/tests\n",
      "  copying cvxpy/tests/test_suppfunc.py -> build/lib.macosx-10.9-x86_64-3.8/cvxpy/tests\n",
      "  copying cvxpy/tests/test_domain.py -> build/lib.macosx-10.9-x86_64-3.8/cvxpy/tests\n",
      "  copying cvxpy/tests/solver_test_helpers.py -> build/lib.macosx-10.9-x86_64-3.8/cvxpy/tests\n",
      "  copying cvxpy/tests/test_problem.py -> build/lib.macosx-10.9-x86_64-3.8/cvxpy/tests\n",
      "  copying cvxpy/tests/test_dqcp.py -> build/lib.macosx-10.9-x86_64-3.8/cvxpy/tests\n",
      "  copying cvxpy/tests/test_param_cone_prog.py -> build/lib.macosx-10.9-x86_64-3.8/cvxpy/tests\n",
      "  copying cvxpy/tests/test_complex.py -> build/lib.macosx-10.9-x86_64-3.8/cvxpy/tests\n",
      "  copying cvxpy/tests/test_linear_cone.py -> build/lib.macosx-10.9-x86_64-3.8/cvxpy/tests\n",
      "  copying cvxpy/tests/test_interfaces.py -> build/lib.macosx-10.9-x86_64-3.8/cvxpy/tests\n",
      "  copying cvxpy/tests/test_curvature.py -> build/lib.macosx-10.9-x86_64-3.8/cvxpy/tests\n",
      "  copying cvxpy/tests/test_conic_solvers.py -> build/lib.macosx-10.9-x86_64-3.8/cvxpy/tests\n",
      "  copying cvxpy/tests/test_examples.py -> build/lib.macosx-10.9-x86_64-3.8/cvxpy/tests\n",
      "  copying cvxpy/tests/test_sign.py -> build/lib.macosx-10.9-x86_64-3.8/cvxpy/tests\n",
      "  copying cvxpy/tests/test_grad.py -> build/lib.macosx-10.9-x86_64-3.8/cvxpy/tests\n",
      "  creating build/lib.macosx-10.9-x86_64-3.8/cvxpy/problems\n",
      "  copying cvxpy/problems/objective.py -> build/lib.macosx-10.9-x86_64-3.8/cvxpy/problems\n",
      "  copying cvxpy/problems/xpress_problem.py -> build/lib.macosx-10.9-x86_64-3.8/cvxpy/problems\n",
      "  copying cvxpy/problems/__init__.py -> build/lib.macosx-10.9-x86_64-3.8/cvxpy/problems\n",
      "  copying cvxpy/problems/param_prob.py -> build/lib.macosx-10.9-x86_64-3.8/cvxpy/problems\n",
      "  copying cvxpy/problems/problem.py -> build/lib.macosx-10.9-x86_64-3.8/cvxpy/problems\n",
      "  copying cvxpy/problems/iterative.py -> build/lib.macosx-10.9-x86_64-3.8/cvxpy/problems\n",
      "  creating build/lib.macosx-10.9-x86_64-3.8/cvxpy/lin_ops\n",
      "  copying cvxpy/lin_ops/__init__.py -> build/lib.macosx-10.9-x86_64-3.8/cvxpy/lin_ops\n",
      "  copying cvxpy/lin_ops/lin_op.py -> build/lib.macosx-10.9-x86_64-3.8/cvxpy/lin_ops\n",
      "  copying cvxpy/lin_ops/lin_constraints.py -> build/lib.macosx-10.9-x86_64-3.8/cvxpy/lin_ops\n",
      "  copying cvxpy/lin_ops/lin_utils.py -> build/lib.macosx-10.9-x86_64-3.8/cvxpy/lin_ops\n",
      "  copying cvxpy/lin_ops/tree_mat.py -> build/lib.macosx-10.9-x86_64-3.8/cvxpy/lin_ops\n",
      "  creating build/lib.macosx-10.9-x86_64-3.8/cvxpy/utilities\n",
      "  copying cvxpy/utilities/scopes.py -> build/lib.macosx-10.9-x86_64-3.8/cvxpy/utilities\n",
      "  copying cvxpy/utilities/cvxpy_upgrade.py -> build/lib.macosx-10.9-x86_64-3.8/cvxpy/utilities\n",
      "  copying cvxpy/utilities/replace_quad_forms.py -> build/lib.macosx-10.9-x86_64-3.8/cvxpy/utilities\n",
      "  copying cvxpy/utilities/power_tools.py -> build/lib.macosx-10.9-x86_64-3.8/cvxpy/utilities\n",
      "  copying cvxpy/utilities/debug_tools.py -> build/lib.macosx-10.9-x86_64-3.8/cvxpy/utilities\n",
      "  copying cvxpy/utilities/deterministic.py -> build/lib.macosx-10.9-x86_64-3.8/cvxpy/utilities\n",
      "  copying cvxpy/utilities/performance_utils.py -> build/lib.macosx-10.9-x86_64-3.8/cvxpy/utilities\n",
      "  copying cvxpy/utilities/__init__.py -> build/lib.macosx-10.9-x86_64-3.8/cvxpy/utilities\n",
      "  copying cvxpy/utilities/key_utils.py -> build/lib.macosx-10.9-x86_64-3.8/cvxpy/utilities\n",
      "  copying cvxpy/utilities/canonical.py -> build/lib.macosx-10.9-x86_64-3.8/cvxpy/utilities\n",
      "  copying cvxpy/utilities/shape.py -> build/lib.macosx-10.9-x86_64-3.8/cvxpy/utilities\n",
      "  copying cvxpy/utilities/sign.py -> build/lib.macosx-10.9-x86_64-3.8/cvxpy/utilities\n",
      "  copying cvxpy/utilities/grad.py -> build/lib.macosx-10.9-x86_64-3.8/cvxpy/utilities\n",
      "  copying cvxpy/utilities/coeff_extractor.py -> build/lib.macosx-10.9-x86_64-3.8/cvxpy/utilities\n",
      "  creating build/lib.macosx-10.9-x86_64-3.8/cvxpy/transforms\n",
      "  copying cvxpy/transforms/indicator.py -> build/lib.macosx-10.9-x86_64-3.8/cvxpy/transforms\n",
      "  copying cvxpy/transforms/__init__.py -> build/lib.macosx-10.9-x86_64-3.8/cvxpy/transforms\n",
      "  copying cvxpy/transforms/suppfunc.py -> build/lib.macosx-10.9-x86_64-3.8/cvxpy/transforms\n",
      "  copying cvxpy/transforms/partial_optimize.py -> build/lib.macosx-10.9-x86_64-3.8/cvxpy/transforms\n",
      "  copying cvxpy/transforms/linearize.py -> build/lib.macosx-10.9-x86_64-3.8/cvxpy/transforms\n",
      "  copying cvxpy/transforms/scalarize.py -> build/lib.macosx-10.9-x86_64-3.8/cvxpy/transforms\n",
      "  creating build/lib.macosx-10.9-x86_64-3.8/cvxpy/expressions\n",
      "  copying cvxpy/expressions/cvxtypes.py -> build/lib.macosx-10.9-x86_64-3.8/cvxpy/expressions\n",
      "  copying cvxpy/expressions/leaf.py -> build/lib.macosx-10.9-x86_64-3.8/cvxpy/expressions\n",
      "  copying cvxpy/expressions/__init__.py -> build/lib.macosx-10.9-x86_64-3.8/cvxpy/expressions\n",
      "  copying cvxpy/expressions/variable.py -> build/lib.macosx-10.9-x86_64-3.8/cvxpy/expressions\n",
      "  copying cvxpy/expressions/expression.py -> build/lib.macosx-10.9-x86_64-3.8/cvxpy/expressions\n",
      "  creating build/lib.macosx-10.9-x86_64-3.8/cvxpy/cvxcore\n",
      "  copying cvxpy/cvxcore/__init__.py -> build/lib.macosx-10.9-x86_64-3.8/cvxpy/cvxcore\n",
      "  creating build/lib.macosx-10.9-x86_64-3.8/cvxpy/reductions\n",
      "  copying cvxpy/reductions/cvx_attr2constr.py -> build/lib.macosx-10.9-x86_64-3.8/cvxpy/reductions\n",
      "  copying cvxpy/reductions/canonicalization.py -> build/lib.macosx-10.9-x86_64-3.8/cvxpy/reductions\n",
      "  copying cvxpy/reductions/reduction.py -> build/lib.macosx-10.9-x86_64-3.8/cvxpy/reductions\n",
      "  copying cvxpy/reductions/chain.py -> build/lib.macosx-10.9-x86_64-3.8/cvxpy/reductions\n",
      "  copying cvxpy/reductions/solution.py -> build/lib.macosx-10.9-x86_64-3.8/cvxpy/reductions\n",
      "  copying cvxpy/reductions/__init__.py -> build/lib.macosx-10.9-x86_64-3.8/cvxpy/reductions\n",
      "  copying cvxpy/reductions/inverse_data.py -> build/lib.macosx-10.9-x86_64-3.8/cvxpy/reductions\n",
      "  copying cvxpy/reductions/eval_params.py -> build/lib.macosx-10.9-x86_64-3.8/cvxpy/reductions\n",
      "  copying cvxpy/reductions/matrix_stuffing.py -> build/lib.macosx-10.9-x86_64-3.8/cvxpy/reductions\n",
      "  copying cvxpy/reductions/utilities.py -> build/lib.macosx-10.9-x86_64-3.8/cvxpy/reductions\n",
      "  copying cvxpy/reductions/flip_objective.py -> build/lib.macosx-10.9-x86_64-3.8/cvxpy/reductions\n",
      "  creating build/lib.macosx-10.9-x86_64-3.8/cvxpy/interface/numpy_interface\n",
      "  copying cvxpy/interface/numpy_interface/matrix_interface.py -> build/lib.macosx-10.9-x86_64-3.8/cvxpy/interface/numpy_interface\n",
      "  copying cvxpy/interface/numpy_interface/sparse_matrix_interface.py -> build/lib.macosx-10.9-x86_64-3.8/cvxpy/interface/numpy_interface\n",
      "  copying cvxpy/interface/numpy_interface/__init__.py -> build/lib.macosx-10.9-x86_64-3.8/cvxpy/interface/numpy_interface\n",
      "  copying cvxpy/interface/numpy_interface/ndarray_interface.py -> build/lib.macosx-10.9-x86_64-3.8/cvxpy/interface/numpy_interface\n",
      "  creating build/lib.macosx-10.9-x86_64-3.8/cvxpy/atoms/affine\n",
      "  copying cvxpy/atoms/affine/vec.py -> build/lib.macosx-10.9-x86_64-3.8/cvxpy/atoms/affine\n",
      "  copying cvxpy/atoms/affine/trace.py -> build/lib.macosx-10.9-x86_64-3.8/cvxpy/atoms/affine\n",
      "  copying cvxpy/atoms/affine/unary_operators.py -> build/lib.macosx-10.9-x86_64-3.8/cvxpy/atoms/affine\n",
      "  copying cvxpy/atoms/affine/vstack.py -> build/lib.macosx-10.9-x86_64-3.8/cvxpy/atoms/affine\n",
      "  copying cvxpy/atoms/affine/affine_atom.py -> build/lib.macosx-10.9-x86_64-3.8/cvxpy/atoms/affine\n",
      "  copying cvxpy/atoms/affine/index.py -> build/lib.macosx-10.9-x86_64-3.8/cvxpy/atoms/affine\n",
      "  copying cvxpy/atoms/affine/upper_tri.py -> build/lib.macosx-10.9-x86_64-3.8/cvxpy/atoms/affine\n",
      "  copying cvxpy/atoms/affine/binary_operators.py -> build/lib.macosx-10.9-x86_64-3.8/cvxpy/atoms/affine\n",
      "  copying cvxpy/atoms/affine/hstack.py -> build/lib.macosx-10.9-x86_64-3.8/cvxpy/atoms/affine\n",
      "  copying cvxpy/atoms/affine/reshape.py -> build/lib.macosx-10.9-x86_64-3.8/cvxpy/atoms/affine\n",
      "  copying cvxpy/atoms/affine/bmat.py -> build/lib.macosx-10.9-x86_64-3.8/cvxpy/atoms/affine\n",
      "  copying cvxpy/atoms/affine/__init__.py -> build/lib.macosx-10.9-x86_64-3.8/cvxpy/atoms/affine\n",
      "  copying cvxpy/atoms/affine/promote.py -> build/lib.macosx-10.9-x86_64-3.8/cvxpy/atoms/affine\n",
      "  copying cvxpy/atoms/affine/real.py -> build/lib.macosx-10.9-x86_64-3.8/cvxpy/atoms/affine\n",
      "  copying cvxpy/atoms/affine/kron.py -> build/lib.macosx-10.9-x86_64-3.8/cvxpy/atoms/affine\n",
      "  copying cvxpy/atoms/affine/imag.py -> build/lib.macosx-10.9-x86_64-3.8/cvxpy/atoms/affine\n",
      "  copying cvxpy/atoms/affine/transpose.py -> build/lib.macosx-10.9-x86_64-3.8/cvxpy/atoms/affine\n",
      "  copying cvxpy/atoms/affine/diag.py -> build/lib.macosx-10.9-x86_64-3.8/cvxpy/atoms/affine\n",
      "  copying cvxpy/atoms/affine/add_expr.py -> build/lib.macosx-10.9-x86_64-3.8/cvxpy/atoms/affine\n",
      "  copying cvxpy/atoms/affine/diff.py -> build/lib.macosx-10.9-x86_64-3.8/cvxpy/atoms/affine\n",
      "  copying cvxpy/atoms/affine/sum.py -> build/lib.macosx-10.9-x86_64-3.8/cvxpy/atoms/affine\n",
      "  copying cvxpy/atoms/affine/conv.py -> build/lib.macosx-10.9-x86_64-3.8/cvxpy/atoms/affine\n",
      "  copying cvxpy/atoms/affine/cumsum.py -> build/lib.macosx-10.9-x86_64-3.8/cvxpy/atoms/affine\n",
      "  copying cvxpy/atoms/affine/conj.py -> build/lib.macosx-10.9-x86_64-3.8/cvxpy/atoms/affine\n",
      "  copying cvxpy/atoms/affine/wraps.py -> build/lib.macosx-10.9-x86_64-3.8/cvxpy/atoms/affine\n",
      "  creating build/lib.macosx-10.9-x86_64-3.8/cvxpy/atoms/elementwise\n",
      "  copying cvxpy/atoms/elementwise/kl_div.py -> build/lib.macosx-10.9-x86_64-3.8/cvxpy/atoms/elementwise\n",
      "  copying cvxpy/atoms/elementwise/pos.py -> build/lib.macosx-10.9-x86_64-3.8/cvxpy/atoms/elementwise\n",
      "  copying cvxpy/atoms/elementwise/neg.py -> build/lib.macosx-10.9-x86_64-3.8/cvxpy/atoms/elementwise\n",
      "  copying cvxpy/atoms/elementwise/sqrt.py -> build/lib.macosx-10.9-x86_64-3.8/cvxpy/atoms/elementwise\n",
      "  copying cvxpy/atoms/elementwise/entr.py -> build/lib.macosx-10.9-x86_64-3.8/cvxpy/atoms/elementwise\n",
      "  copying cvxpy/atoms/elementwise/log.py -> build/lib.macosx-10.9-x86_64-3.8/cvxpy/atoms/elementwise\n",
      "  copying cvxpy/atoms/elementwise/logistic.py -> build/lib.macosx-10.9-x86_64-3.8/cvxpy/atoms/elementwise\n",
      "  copying cvxpy/atoms/elementwise/elementwise.py -> build/lib.macosx-10.9-x86_64-3.8/cvxpy/atoms/elementwise\n",
      "  copying cvxpy/atoms/elementwise/abs.py -> build/lib.macosx-10.9-x86_64-3.8/cvxpy/atoms/elementwise\n",
      "  copying cvxpy/atoms/elementwise/__init__.py -> build/lib.macosx-10.9-x86_64-3.8/cvxpy/atoms/elementwise\n",
      "  copying cvxpy/atoms/elementwise/ceil.py -> build/lib.macosx-10.9-x86_64-3.8/cvxpy/atoms/elementwise\n",
      "  copying cvxpy/atoms/elementwise/maximum.py -> build/lib.macosx-10.9-x86_64-3.8/cvxpy/atoms/elementwise\n",
      "  copying cvxpy/atoms/elementwise/minimum.py -> build/lib.macosx-10.9-x86_64-3.8/cvxpy/atoms/elementwise\n",
      "  copying cvxpy/atoms/elementwise/huber.py -> build/lib.macosx-10.9-x86_64-3.8/cvxpy/atoms/elementwise\n",
      "  copying cvxpy/atoms/elementwise/scalene.py -> build/lib.macosx-10.9-x86_64-3.8/cvxpy/atoms/elementwise\n",
      "  copying cvxpy/atoms/elementwise/square.py -> build/lib.macosx-10.9-x86_64-3.8/cvxpy/atoms/elementwise\n",
      "  copying cvxpy/atoms/elementwise/inv_pos.py -> build/lib.macosx-10.9-x86_64-3.8/cvxpy/atoms/elementwise\n",
      "  copying cvxpy/atoms/elementwise/exp.py -> build/lib.macosx-10.9-x86_64-3.8/cvxpy/atoms/elementwise\n",
      "  copying cvxpy/atoms/elementwise/log1p.py -> build/lib.macosx-10.9-x86_64-3.8/cvxpy/atoms/elementwise\n",
      "  copying cvxpy/atoms/elementwise/power.py -> build/lib.macosx-10.9-x86_64-3.8/cvxpy/atoms/elementwise\n",
      "  creating build/lib.macosx-10.9-x86_64-3.8/cvxpy/expressions/constants\n",
      "  copying cvxpy/expressions/constants/__init__.py -> build/lib.macosx-10.9-x86_64-3.8/cvxpy/expressions/constants\n",
      "  copying cvxpy/expressions/constants/callback_param.py -> build/lib.macosx-10.9-x86_64-3.8/cvxpy/expressions/constants\n",
      "  copying cvxpy/expressions/constants/constant.py -> build/lib.macosx-10.9-x86_64-3.8/cvxpy/expressions/constants\n",
      "  copying cvxpy/expressions/constants/parameter.py -> build/lib.macosx-10.9-x86_64-3.8/cvxpy/expressions/constants\n",
      "  creating build/lib.macosx-10.9-x86_64-3.8/cvxpy/cvxcore/python\n",
      "  copying cvxpy/cvxcore/python/canonInterface.py -> build/lib.macosx-10.9-x86_64-3.8/cvxpy/cvxcore/python\n",
      "  copying cvxpy/cvxcore/python/__init__.py -> build/lib.macosx-10.9-x86_64-3.8/cvxpy/cvxcore/python\n",
      "  copying cvxpy/cvxcore/python/cvxcore.py -> build/lib.macosx-10.9-x86_64-3.8/cvxpy/cvxcore/python\n",
      "  creating build/lib.macosx-10.9-x86_64-3.8/cvxpy/reductions/complex2real\n",
      "  copying cvxpy/reductions/complex2real/complex2real.py -> build/lib.macosx-10.9-x86_64-3.8/cvxpy/reductions/complex2real\n",
      "  copying cvxpy/reductions/complex2real/__init__.py -> build/lib.macosx-10.9-x86_64-3.8/cvxpy/reductions/complex2real\n",
      "  creating build/lib.macosx-10.9-x86_64-3.8/cvxpy/reductions/qp2quad_form\n",
      "  copying cvxpy/reductions/qp2quad_form/qp_matrix_stuffing.py -> build/lib.macosx-10.9-x86_64-3.8/cvxpy/reductions/qp2quad_form\n",
      "  copying cvxpy/reductions/qp2quad_form/__init__.py -> build/lib.macosx-10.9-x86_64-3.8/cvxpy/reductions/qp2quad_form\n",
      "  copying cvxpy/reductions/qp2quad_form/qp2symbolic_qp.py -> build/lib.macosx-10.9-x86_64-3.8/cvxpy/reductions/qp2quad_form\n",
      "  creating build/lib.macosx-10.9-x86_64-3.8/cvxpy/reductions/dcp2cone\n",
      "  copying cvxpy/reductions/dcp2cone/__init__.py -> build/lib.macosx-10.9-x86_64-3.8/cvxpy/reductions/dcp2cone\n",
      "  copying cvxpy/reductions/dcp2cone/cone_matrix_stuffing.py -> build/lib.macosx-10.9-x86_64-3.8/cvxpy/reductions/dcp2cone\n",
      "  copying cvxpy/reductions/dcp2cone/dcp2cone.py -> build/lib.macosx-10.9-x86_64-3.8/cvxpy/reductions/dcp2cone\n",
      "  creating build/lib.macosx-10.9-x86_64-3.8/cvxpy/reductions/solvers\n",
      "  copying cvxpy/reductions/solvers/kktsolver.py -> build/lib.macosx-10.9-x86_64-3.8/cvxpy/reductions/solvers\n",
      "  copying cvxpy/reductions/solvers/solving_chain.py -> build/lib.macosx-10.9-x86_64-3.8/cvxpy/reductions/solvers\n",
      "  copying cvxpy/reductions/solvers/solver.py -> build/lib.macosx-10.9-x86_64-3.8/cvxpy/reductions/solvers\n",
      "  copying cvxpy/reductions/solvers/__init__.py -> build/lib.macosx-10.9-x86_64-3.8/cvxpy/reductions/solvers\n",
      "  copying cvxpy/reductions/solvers/compr_matrix.py -> build/lib.macosx-10.9-x86_64-3.8/cvxpy/reductions/solvers\n",
      "  copying cvxpy/reductions/solvers/defines.py -> build/lib.macosx-10.9-x86_64-3.8/cvxpy/reductions/solvers\n",
      "  copying cvxpy/reductions/solvers/constant_solver.py -> build/lib.macosx-10.9-x86_64-3.8/cvxpy/reductions/solvers\n",
      "  copying cvxpy/reductions/solvers/intermediate_chain.py -> build/lib.macosx-10.9-x86_64-3.8/cvxpy/reductions/solvers\n",
      "  copying cvxpy/reductions/solvers/utilities.py -> build/lib.macosx-10.9-x86_64-3.8/cvxpy/reductions/solvers\n",
      "  copying cvxpy/reductions/solvers/bisection.py -> build/lib.macosx-10.9-x86_64-3.8/cvxpy/reductions/solvers\n",
      "  creating build/lib.macosx-10.9-x86_64-3.8/cvxpy/reductions/dqcp2dcp\n",
      "  copying cvxpy/reductions/dqcp2dcp/__init__.py -> build/lib.macosx-10.9-x86_64-3.8/cvxpy/reductions/dqcp2dcp\n",
      "  copying cvxpy/reductions/dqcp2dcp/tighten.py -> build/lib.macosx-10.9-x86_64-3.8/cvxpy/reductions/dqcp2dcp\n",
      "  copying cvxpy/reductions/dqcp2dcp/dqcp2dcp.py -> build/lib.macosx-10.9-x86_64-3.8/cvxpy/reductions/dqcp2dcp\n",
      "  copying cvxpy/reductions/dqcp2dcp/sets.py -> build/lib.macosx-10.9-x86_64-3.8/cvxpy/reductions/dqcp2dcp\n",
      "  copying cvxpy/reductions/dqcp2dcp/inverse.py -> build/lib.macosx-10.9-x86_64-3.8/cvxpy/reductions/dqcp2dcp\n",
      "  creating build/lib.macosx-10.9-x86_64-3.8/cvxpy/reductions/dgp2dcp\n",
      "  copying cvxpy/reductions/dgp2dcp/util.py -> build/lib.macosx-10.9-x86_64-3.8/cvxpy/reductions/dgp2dcp\n",
      "  copying cvxpy/reductions/dgp2dcp/dgp2dcp.py -> build/lib.macosx-10.9-x86_64-3.8/cvxpy/reductions/dgp2dcp\n",
      "  copying cvxpy/reductions/dgp2dcp/__init__.py -> build/lib.macosx-10.9-x86_64-3.8/cvxpy/reductions/dgp2dcp\n",
      "  creating build/lib.macosx-10.9-x86_64-3.8/cvxpy/reductions/eliminate_pwl\n",
      "  copying cvxpy/reductions/eliminate_pwl/eliminate_pwl.py -> build/lib.macosx-10.9-x86_64-3.8/cvxpy/reductions/eliminate_pwl\n",
      "  copying cvxpy/reductions/eliminate_pwl/__init__.py -> build/lib.macosx-10.9-x86_64-3.8/cvxpy/reductions/eliminate_pwl\n",
      "  creating build/lib.macosx-10.9-x86_64-3.8/cvxpy/reductions/complex2real/atom_canonicalizers\n",
      "  copying cvxpy/reductions/complex2real/atom_canonicalizers/nonpos_canon.py -> build/lib.macosx-10.9-x86_64-3.8/cvxpy/reductions/complex2real/atom_canonicalizers\n",
      "  copying cvxpy/reductions/complex2real/atom_canonicalizers/constant_canon.py -> build/lib.macosx-10.9-x86_64-3.8/cvxpy/reductions/complex2real/atom_canonicalizers\n",
      "  copying cvxpy/reductions/complex2real/atom_canonicalizers/param_canon.py -> build/lib.macosx-10.9-x86_64-3.8/cvxpy/reductions/complex2real/atom_canonicalizers\n",
      "  copying cvxpy/reductions/complex2real/atom_canonicalizers/variable_canon.py -> build/lib.macosx-10.9-x86_64-3.8/cvxpy/reductions/complex2real/atom_canonicalizers\n",
      "  copying cvxpy/reductions/complex2real/atom_canonicalizers/__init__.py -> build/lib.macosx-10.9-x86_64-3.8/cvxpy/reductions/complex2real/atom_canonicalizers\n",
      "  copying cvxpy/reductions/complex2real/atom_canonicalizers/aff_canon.py -> build/lib.macosx-10.9-x86_64-3.8/cvxpy/reductions/complex2real/atom_canonicalizers\n",
      "  copying cvxpy/reductions/complex2real/atom_canonicalizers/psd_canon.py -> build/lib.macosx-10.9-x86_64-3.8/cvxpy/reductions/complex2real/atom_canonicalizers\n",
      "  copying cvxpy/reductions/complex2real/atom_canonicalizers/pnorm_canon.py -> build/lib.macosx-10.9-x86_64-3.8/cvxpy/reductions/complex2real/atom_canonicalizers\n",
      "  copying cvxpy/reductions/complex2real/atom_canonicalizers/soc_canon.py -> build/lib.macosx-10.9-x86_64-3.8/cvxpy/reductions/complex2real/atom_canonicalizers\n",
      "  copying cvxpy/reductions/complex2real/atom_canonicalizers/matrix_canon.py -> build/lib.macosx-10.9-x86_64-3.8/cvxpy/reductions/complex2real/atom_canonicalizers\n",
      "  copying cvxpy/reductions/complex2real/atom_canonicalizers/zero_canon.py -> build/lib.macosx-10.9-x86_64-3.8/cvxpy/reductions/complex2real/atom_canonicalizers\n",
      "  copying cvxpy/reductions/complex2real/atom_canonicalizers/abs_canon.py -> build/lib.macosx-10.9-x86_64-3.8/cvxpy/reductions/complex2real/atom_canonicalizers\n",
      "  creating build/lib.macosx-10.9-x86_64-3.8/cvxpy/reductions/qp2quad_form/atom_canonicalizers\n",
      "  copying cvxpy/reductions/qp2quad_form/atom_canonicalizers/quad_form_canon.py -> build/lib.macosx-10.9-x86_64-3.8/cvxpy/reductions/qp2quad_form/atom_canonicalizers\n",
      "  copying cvxpy/reductions/qp2quad_form/atom_canonicalizers/quad_over_lin_canon.py -> build/lib.macosx-10.9-x86_64-3.8/cvxpy/reductions/qp2quad_form/atom_canonicalizers\n",
      "  copying cvxpy/reductions/qp2quad_form/atom_canonicalizers/power_canon.py -> build/lib.macosx-10.9-x86_64-3.8/cvxpy/reductions/qp2quad_form/atom_canonicalizers\n",
      "  copying cvxpy/reductions/qp2quad_form/atom_canonicalizers/__init__.py -> build/lib.macosx-10.9-x86_64-3.8/cvxpy/reductions/qp2quad_form/atom_canonicalizers\n",
      "  copying cvxpy/reductions/qp2quad_form/atom_canonicalizers/huber_canon.py -> build/lib.macosx-10.9-x86_64-3.8/cvxpy/reductions/qp2quad_form/atom_canonicalizers\n",
      "  creating build/lib.macosx-10.9-x86_64-3.8/cvxpy/reductions/dcp2cone/atom_canonicalizers\n",
      "  copying cvxpy/reductions/dcp2cone/atom_canonicalizers/quad_form_canon.py -> build/lib.macosx-10.9-x86_64-3.8/cvxpy/reductions/dcp2cone/atom_canonicalizers\n",
      "  copying cvxpy/reductions/dcp2cone/atom_canonicalizers/suppfunc_canon.py -> build/lib.macosx-10.9-x86_64-3.8/cvxpy/reductions/dcp2cone/atom_canonicalizers\n",
      "  copying cvxpy/reductions/dcp2cone/atom_canonicalizers/log1p_canon.py -> build/lib.macosx-10.9-x86_64-3.8/cvxpy/reductions/dcp2cone/atom_canonicalizers\n",
      "  copying cvxpy/reductions/dcp2cone/atom_canonicalizers/log_det_canon.py -> build/lib.macosx-10.9-x86_64-3.8/cvxpy/reductions/dcp2cone/atom_canonicalizers\n",
      "  copying cvxpy/reductions/dcp2cone/atom_canonicalizers/geo_mean_canon.py -> build/lib.macosx-10.9-x86_64-3.8/cvxpy/reductions/dcp2cone/atom_canonicalizers\n",
      "  copying cvxpy/reductions/dcp2cone/atom_canonicalizers/exp_canon.py -> build/lib.macosx-10.9-x86_64-3.8/cvxpy/reductions/dcp2cone/atom_canonicalizers\n",
      "  copying cvxpy/reductions/dcp2cone/atom_canonicalizers/quad_over_lin_canon.py -> build/lib.macosx-10.9-x86_64-3.8/cvxpy/reductions/dcp2cone/atom_canonicalizers\n",
      "  copying cvxpy/reductions/dcp2cone/atom_canonicalizers/power_canon.py -> build/lib.macosx-10.9-x86_64-3.8/cvxpy/reductions/dcp2cone/atom_canonicalizers\n",
      "  copying cvxpy/reductions/dcp2cone/atom_canonicalizers/log_sum_exp_canon.py -> build/lib.macosx-10.9-x86_64-3.8/cvxpy/reductions/dcp2cone/atom_canonicalizers\n",
      "  copying cvxpy/reductions/dcp2cone/atom_canonicalizers/__init__.py -> build/lib.macosx-10.9-x86_64-3.8/cvxpy/reductions/dcp2cone/atom_canonicalizers\n",
      "  copying cvxpy/reductions/dcp2cone/atom_canonicalizers/normNuc_canon.py -> build/lib.macosx-10.9-x86_64-3.8/cvxpy/reductions/dcp2cone/atom_canonicalizers\n",
      "  copying cvxpy/reductions/dcp2cone/atom_canonicalizers/logistic_canon.py -> build/lib.macosx-10.9-x86_64-3.8/cvxpy/reductions/dcp2cone/atom_canonicalizers\n",
      "  copying cvxpy/reductions/dcp2cone/atom_canonicalizers/matrix_frac_canon.py -> build/lib.macosx-10.9-x86_64-3.8/cvxpy/reductions/dcp2cone/atom_canonicalizers\n",
      "  copying cvxpy/reductions/dcp2cone/atom_canonicalizers/sigma_max_canon.py -> build/lib.macosx-10.9-x86_64-3.8/cvxpy/reductions/dcp2cone/atom_canonicalizers\n",
      "  copying cvxpy/reductions/dcp2cone/atom_canonicalizers/pnorm_canon.py -> build/lib.macosx-10.9-x86_64-3.8/cvxpy/reductions/dcp2cone/atom_canonicalizers\n",
      "  copying cvxpy/reductions/dcp2cone/atom_canonicalizers/lambda_sum_largest_canon.py -> build/lib.macosx-10.9-x86_64-3.8/cvxpy/reductions/dcp2cone/atom_canonicalizers\n",
      "  copying cvxpy/reductions/dcp2cone/atom_canonicalizers/lambda_max_canon.py -> build/lib.macosx-10.9-x86_64-3.8/cvxpy/reductions/dcp2cone/atom_canonicalizers\n",
      "  copying cvxpy/reductions/dcp2cone/atom_canonicalizers/huber_canon.py -> build/lib.macosx-10.9-x86_64-3.8/cvxpy/reductions/dcp2cone/atom_canonicalizers\n",
      "  copying cvxpy/reductions/dcp2cone/atom_canonicalizers/entr_canon.py -> build/lib.macosx-10.9-x86_64-3.8/cvxpy/reductions/dcp2cone/atom_canonicalizers\n",
      "  copying cvxpy/reductions/dcp2cone/atom_canonicalizers/log_canon.py -> build/lib.macosx-10.9-x86_64-3.8/cvxpy/reductions/dcp2cone/atom_canonicalizers\n",
      "  copying cvxpy/reductions/dcp2cone/atom_canonicalizers/indicator_canon.py -> build/lib.macosx-10.9-x86_64-3.8/cvxpy/reductions/dcp2cone/atom_canonicalizers\n",
      "  copying cvxpy/reductions/dcp2cone/atom_canonicalizers/mul_canon.py -> build/lib.macosx-10.9-x86_64-3.8/cvxpy/reductions/dcp2cone/atom_canonicalizers\n",
      "  copying cvxpy/reductions/dcp2cone/atom_canonicalizers/kl_div_canon.py -> build/lib.macosx-10.9-x86_64-3.8/cvxpy/reductions/dcp2cone/atom_canonicalizers\n",
      "  creating build/lib.macosx-10.9-x86_64-3.8/cvxpy/reductions/solvers/conic_solvers\n",
      "  copying cvxpy/reductions/solvers/conic_solvers/conic_solver.py -> build/lib.macosx-10.9-x86_64-3.8/cvxpy/reductions/solvers/conic_solvers\n",
      "  copying cvxpy/reductions/solvers/conic_solvers/cbc_conif.py -> build/lib.macosx-10.9-x86_64-3.8/cvxpy/reductions/solvers/conic_solvers\n",
      "  copying cvxpy/reductions/solvers/conic_solvers/nag_conif.py -> build/lib.macosx-10.9-x86_64-3.8/cvxpy/reductions/solvers/conic_solvers\n",
      "  copying cvxpy/reductions/solvers/conic_solvers/ecos_conif.py -> build/lib.macosx-10.9-x86_64-3.8/cvxpy/reductions/solvers/conic_solvers\n",
      "  copying cvxpy/reductions/solvers/conic_solvers/mosek_conif.py -> build/lib.macosx-10.9-x86_64-3.8/cvxpy/reductions/solvers/conic_solvers\n",
      "  copying cvxpy/reductions/solvers/conic_solvers/scs_conif.py -> build/lib.macosx-10.9-x86_64-3.8/cvxpy/reductions/solvers/conic_solvers\n",
      "  copying cvxpy/reductions/solvers/conic_solvers/__init__.py -> build/lib.macosx-10.9-x86_64-3.8/cvxpy/reductions/solvers/conic_solvers\n",
      "  copying cvxpy/reductions/solvers/conic_solvers/xpress_conif.py -> build/lib.macosx-10.9-x86_64-3.8/cvxpy/reductions/solvers/conic_solvers\n",
      "  copying cvxpy/reductions/solvers/conic_solvers/diffcp_conif.py -> build/lib.macosx-10.9-x86_64-3.8/cvxpy/reductions/solvers/conic_solvers\n",
      "  copying cvxpy/reductions/solvers/conic_solvers/cplex_conif.py -> build/lib.macosx-10.9-x86_64-3.8/cvxpy/reductions/solvers/conic_solvers\n",
      "  copying cvxpy/reductions/solvers/conic_solvers/cvxopt_conif.py -> build/lib.macosx-10.9-x86_64-3.8/cvxpy/reductions/solvers/conic_solvers\n",
      "  copying cvxpy/reductions/solvers/conic_solvers/glpk_mi_conif.py -> build/lib.macosx-10.9-x86_64-3.8/cvxpy/reductions/solvers/conic_solvers\n",
      "  copying cvxpy/reductions/solvers/conic_solvers/glpk_conif.py -> build/lib.macosx-10.9-x86_64-3.8/cvxpy/reductions/solvers/conic_solvers\n",
      "  copying cvxpy/reductions/solvers/conic_solvers/gurobi_conif.py -> build/lib.macosx-10.9-x86_64-3.8/cvxpy/reductions/solvers/conic_solvers\n",
      "  creating build/lib.macosx-10.9-x86_64-3.8/cvxpy/reductions/solvers/lp_solvers\n",
      "  copying cvxpy/reductions/solvers/lp_solvers/__init__.py -> build/lib.macosx-10.9-x86_64-3.8/cvxpy/reductions/solvers/lp_solvers\n",
      "  creating build/lib.macosx-10.9-x86_64-3.8/cvxpy/reductions/solvers/qp_solvers\n",
      "  copying cvxpy/reductions/solvers/qp_solvers/osqp_qpif.py -> build/lib.macosx-10.9-x86_64-3.8/cvxpy/reductions/solvers/qp_solvers\n",
      "  copying cvxpy/reductions/solvers/qp_solvers/qp_solver.py -> build/lib.macosx-10.9-x86_64-3.8/cvxpy/reductions/solvers/qp_solvers\n",
      "  copying cvxpy/reductions/solvers/qp_solvers/cplex_qpif.py -> build/lib.macosx-10.9-x86_64-3.8/cvxpy/reductions/solvers/qp_solvers\n",
      "  copying cvxpy/reductions/solvers/qp_solvers/__init__.py -> build/lib.macosx-10.9-x86_64-3.8/cvxpy/reductions/solvers/qp_solvers\n",
      "  copying cvxpy/reductions/solvers/qp_solvers/gurobi_qpif.py -> build/lib.macosx-10.9-x86_64-3.8/cvxpy/reductions/solvers/qp_solvers\n",
      "  creating build/lib.macosx-10.9-x86_64-3.8/cvxpy/reductions/dgp2dcp/atom_canonicalizers\n",
      "  copying cvxpy/reductions/dgp2dcp/atom_canonicalizers/quad_form_canon.py -> build/lib.macosx-10.9-x86_64-3.8/cvxpy/reductions/dgp2dcp/atom_canonicalizers\n",
      "  copying cvxpy/reductions/dgp2dcp/atom_canonicalizers/constant_canon.py -> build/lib.macosx-10.9-x86_64-3.8/cvxpy/reductions/dgp2dcp/atom_canonicalizers\n",
      "  copying cvxpy/reductions/dgp2dcp/atom_canonicalizers/parameter_canon.py -> build/lib.macosx-10.9-x86_64-3.8/cvxpy/reductions/dgp2dcp/atom_canonicalizers\n",
      "  copying cvxpy/reductions/dgp2dcp/atom_canonicalizers/eye_minus_inv_canon.py -> build/lib.macosx-10.9-x86_64-3.8/cvxpy/reductions/dgp2dcp/atom_canonicalizers\n",
      "  copying cvxpy/reductions/dgp2dcp/atom_canonicalizers/norm1_canon.py -> build/lib.macosx-10.9-x86_64-3.8/cvxpy/reductions/dgp2dcp/atom_canonicalizers\n",
      "  copying cvxpy/reductions/dgp2dcp/atom_canonicalizers/div_canon.py -> build/lib.macosx-10.9-x86_64-3.8/cvxpy/reductions/dgp2dcp/atom_canonicalizers\n",
      "  copying cvxpy/reductions/dgp2dcp/atom_canonicalizers/geo_mean_canon.py -> build/lib.macosx-10.9-x86_64-3.8/cvxpy/reductions/dgp2dcp/atom_canonicalizers\n",
      "  copying cvxpy/reductions/dgp2dcp/atom_canonicalizers/nonpos_constr_canon.py -> build/lib.macosx-10.9-x86_64-3.8/cvxpy/reductions/dgp2dcp/atom_canonicalizers\n",
      "  copying cvxpy/reductions/dgp2dcp/atom_canonicalizers/add_canon.py -> build/lib.macosx-10.9-x86_64-3.8/cvxpy/reductions/dgp2dcp/atom_canonicalizers\n",
      "  copying cvxpy/reductions/dgp2dcp/atom_canonicalizers/exp_canon.py -> build/lib.macosx-10.9-x86_64-3.8/cvxpy/reductions/dgp2dcp/atom_canonicalizers\n",
      "  copying cvxpy/reductions/dgp2dcp/atom_canonicalizers/quad_over_lin_canon.py -> build/lib.macosx-10.9-x86_64-3.8/cvxpy/reductions/dgp2dcp/atom_canonicalizers\n",
      "  copying cvxpy/reductions/dgp2dcp/atom_canonicalizers/power_canon.py -> build/lib.macosx-10.9-x86_64-3.8/cvxpy/reductions/dgp2dcp/atom_canonicalizers\n",
      "  copying cvxpy/reductions/dgp2dcp/atom_canonicalizers/pf_eigenvalue_canon.py -> build/lib.macosx-10.9-x86_64-3.8/cvxpy/reductions/dgp2dcp/atom_canonicalizers\n",
      "  copying cvxpy/reductions/dgp2dcp/atom_canonicalizers/__init__.py -> build/lib.macosx-10.9-x86_64-3.8/cvxpy/reductions/dgp2dcp/atom_canonicalizers\n",
      "  copying cvxpy/reductions/dgp2dcp/atom_canonicalizers/pnorm_canon.py -> build/lib.macosx-10.9-x86_64-3.8/cvxpy/reductions/dgp2dcp/atom_canonicalizers\n",
      "  copying cvxpy/reductions/dgp2dcp/atom_canonicalizers/zero_constr_canon.py -> build/lib.macosx-10.9-x86_64-3.8/cvxpy/reductions/dgp2dcp/atom_canonicalizers\n",
      "  copying cvxpy/reductions/dgp2dcp/atom_canonicalizers/norm_inf_canon.py -> build/lib.macosx-10.9-x86_64-3.8/cvxpy/reductions/dgp2dcp/atom_canonicalizers\n",
      "  copying cvxpy/reductions/dgp2dcp/atom_canonicalizers/gmatmul_canon.py -> build/lib.macosx-10.9-x86_64-3.8/cvxpy/reductions/dgp2dcp/atom_canonicalizers\n",
      "  copying cvxpy/reductions/dgp2dcp/atom_canonicalizers/trace_canon.py -> build/lib.macosx-10.9-x86_64-3.8/cvxpy/reductions/dgp2dcp/atom_canonicalizers\n",
      "  copying cvxpy/reductions/dgp2dcp/atom_canonicalizers/mulexpression_canon.py -> build/lib.macosx-10.9-x86_64-3.8/cvxpy/reductions/dgp2dcp/atom_canonicalizers\n",
      "  copying cvxpy/reductions/dgp2dcp/atom_canonicalizers/log_canon.py -> build/lib.macosx-10.9-x86_64-3.8/cvxpy/reductions/dgp2dcp/atom_canonicalizers\n",
      "  copying cvxpy/reductions/dgp2dcp/atom_canonicalizers/prod_canon.py -> build/lib.macosx-10.9-x86_64-3.8/cvxpy/reductions/dgp2dcp/atom_canonicalizers\n",
      "  copying cvxpy/reductions/dgp2dcp/atom_canonicalizers/one_minus_pos_canon.py -> build/lib.macosx-10.9-x86_64-3.8/cvxpy/reductions/dgp2dcp/atom_canonicalizers\n",
      "  copying cvxpy/reductions/dgp2dcp/atom_canonicalizers/sum_canon.py -> build/lib.macosx-10.9-x86_64-3.8/cvxpy/reductions/dgp2dcp/atom_canonicalizers\n",
      "  copying cvxpy/reductions/dgp2dcp/atom_canonicalizers/mul_canon.py -> build/lib.macosx-10.9-x86_64-3.8/cvxpy/reductions/dgp2dcp/atom_canonicalizers\n",
      "  creating build/lib.macosx-10.9-x86_64-3.8/cvxpy/reductions/eliminate_pwl/atom_canonicalizers\n",
      "  copying cvxpy/reductions/eliminate_pwl/atom_canonicalizers/norm1_canon.py -> build/lib.macosx-10.9-x86_64-3.8/cvxpy/reductions/eliminate_pwl/atom_canonicalizers\n",
      "  copying cvxpy/reductions/eliminate_pwl/atom_canonicalizers/__init__.py -> build/lib.macosx-10.9-x86_64-3.8/cvxpy/reductions/eliminate_pwl/atom_canonicalizers\n",
      "  copying cvxpy/reductions/eliminate_pwl/atom_canonicalizers/cumsum_canon.py -> build/lib.macosx-10.9-x86_64-3.8/cvxpy/reductions/eliminate_pwl/atom_canonicalizers\n",
      "  copying cvxpy/reductions/eliminate_pwl/atom_canonicalizers/max_canon.py -> build/lib.macosx-10.9-x86_64-3.8/cvxpy/reductions/eliminate_pwl/atom_canonicalizers\n",
      "  copying cvxpy/reductions/eliminate_pwl/atom_canonicalizers/maximum_canon.py -> build/lib.macosx-10.9-x86_64-3.8/cvxpy/reductions/eliminate_pwl/atom_canonicalizers\n",
      "  copying cvxpy/reductions/eliminate_pwl/atom_canonicalizers/minimum_canon.py -> build/lib.macosx-10.9-x86_64-3.8/cvxpy/reductions/eliminate_pwl/atom_canonicalizers\n",
      "  copying cvxpy/reductions/eliminate_pwl/atom_canonicalizers/sum_largest_canon.py -> build/lib.macosx-10.9-x86_64-3.8/cvxpy/reductions/eliminate_pwl/atom_canonicalizers\n",
      "  copying cvxpy/reductions/eliminate_pwl/atom_canonicalizers/norm_inf_canon.py -> build/lib.macosx-10.9-x86_64-3.8/cvxpy/reductions/eliminate_pwl/atom_canonicalizers\n",
      "  copying cvxpy/reductions/eliminate_pwl/atom_canonicalizers/min_canon.py -> build/lib.macosx-10.9-x86_64-3.8/cvxpy/reductions/eliminate_pwl/atom_canonicalizers\n",
      "  copying cvxpy/reductions/eliminate_pwl/atom_canonicalizers/abs_canon.py -> build/lib.macosx-10.9-x86_64-3.8/cvxpy/reductions/eliminate_pwl/atom_canonicalizers\n",
      "  copying cvxpy/reductions/eliminate_pwl/atom_canonicalizers/cummax_canon.py -> build/lib.macosx-10.9-x86_64-3.8/cvxpy/reductions/eliminate_pwl/atom_canonicalizers\n",
      "  creating build/lib.macosx-10.9-x86_64-3.8/examples/advanced\n",
      "  copying examples/advanced/circuits.py -> build/lib.macosx-10.9-x86_64-3.8/examples/advanced\n",
      "  copying examples/advanced/xpress_example.py -> build/lib.macosx-10.9-x86_64-3.8/examples/advanced\n",
      "  copying examples/advanced/numpy_test.py -> build/lib.macosx-10.9-x86_64-3.8/examples/advanced\n",
      "  copying examples/advanced/__init__.py -> build/lib.macosx-10.9-x86_64-3.8/examples/advanced\n",
      "  copying examples/advanced/test.py -> build/lib.macosx-10.9-x86_64-3.8/examples/advanced\n",
      "  copying examples/advanced/acent.py -> build/lib.macosx-10.9-x86_64-3.8/examples/advanced\n",
      "  copying examples/advanced/cheshire_tomography.py -> build/lib.macosx-10.9-x86_64-3.8/examples/advanced\n",
      "  copying examples/advanced/stock_tradeoff.py -> build/lib.macosx-10.9-x86_64-3.8/examples/advanced\n",
      "  copying examples/advanced/optimal_control.py -> build/lib.macosx-10.9-x86_64-3.8/examples/advanced\n",
      "  copying examples/advanced/image_processing.py -> build/lib.macosx-10.9-x86_64-3.8/examples/advanced\n",
      "  creating build/lib.macosx-10.9-x86_64-3.8/examples/geometry\n",
      "  copying examples/geometry/__init__.py -> build/lib.macosx-10.9-x86_64-3.8/examples/geometry\n",
      "  copying examples/geometry/convex_sets.py -> build/lib.macosx-10.9-x86_64-3.8/examples/geometry\n",
      "  copying examples/geometry/tests.py -> build/lib.macosx-10.9-x86_64-3.8/examples/geometry\n",
      "  copying examples/geometry/separating_polyhedra.py -> build/lib.macosx-10.9-x86_64-3.8/examples/geometry\n",
      "  creating build/lib.macosx-10.9-x86_64-3.8/examples/flows\n",
      "  copying examples/flows/commodity_flow.py -> build/lib.macosx-10.9-x86_64-3.8/examples/flows\n",
      "  copying examples/flows/incidence_matrix.py -> build/lib.macosx-10.9-x86_64-3.8/examples/flows\n",
      "  copying examples/flows/create_graph.py -> build/lib.macosx-10.9-x86_64-3.8/examples/flows\n",
      "  copying examples/flows/__init__.py -> build/lib.macosx-10.9-x86_64-3.8/examples/flows\n",
      "  copying examples/flows/leaky_edges.py -> build/lib.macosx-10.9-x86_64-3.8/examples/flows\n",
      "  copying examples/flows/max_flow.py -> build/lib.macosx-10.9-x86_64-3.8/examples/flows\n",
      "  running build_ext\n",
      "  building '_cvxcore' extension\n",
      "  creating build/temp.macosx-10.9-x86_64-3.8\n",
      "  creating build/temp.macosx-10.9-x86_64-3.8/cvxpy\n",
      "  creating build/temp.macosx-10.9-x86_64-3.8/cvxpy/cvxcore\n",
      "  creating build/temp.macosx-10.9-x86_64-3.8/cvxpy/cvxcore/src\n",
      "  creating build/temp.macosx-10.9-x86_64-3.8/cvxpy/cvxcore/python\n",
      "  x86_64-apple-darwin13.4.0-clang -fno-strict-aliasing -Wsign-compare -Wunreachable-code -DNDEBUG -fwrapv -O3 -Wall -Wstrict-prototypes -march=core2 -mtune=haswell -mssse3 -ftree-vectorize -fPIC -fPIE -fstack-protector-strong -O3 -pipe -fdebug-prefix-map=${SRC_DIR}=/usr/local/src/conda/${PKG_NAME}-${PKG_VERSION} -fdebug-prefix-map=/Users/Jack/opt/anaconda3/envs/learn-env=/usr/local/src/conda-prefix -flto -Wl,-export_dynamic -march=core2 -mtune=haswell -mssse3 -ftree-vectorize -fPIC -fPIE -fstack-protector-strong -O3 -march=core2 -mtune=haswell -mssse3 -ftree-vectorize -fPIC -fPIE -fstack-protector-strong -O2 -pipe -isystem /Users/Jack/opt/anaconda3/envs/learn-env/include -D_FORTIFY_SOURCE=2 -mmacosx-version-min=10.9 -isystem /Users/Jack/opt/anaconda3/envs/learn-env/include -Icvxpy/cvxcore/src/ -Icvxpy/cvxcore/python/ -Icvxpy/cvxcore/include/Eigen -I/Users/Jack/opt/anaconda3/envs/learn-env/include/python3.8 -I/private/var/folders/zy/c4nnbj150klf3b005qvxjbbr0000gn/T/pip-build-env-i_6u5q6k/overlay/lib/python3.8/site-packages/numpy/core/include -c cvxpy/cvxcore/src/cvxcore.cpp -o build/temp.macosx-10.9-x86_64-3.8/cvxpy/cvxcore/src/cvxcore.o -O3\n",
      "  clang-10: warning: -Wl,-export_dynamic: 'linker' input unused [-Wunused-command-line-argument]\n",
      "  In file included from cvxpy/cvxcore/src/cvxcore.cpp:15:\n",
      "  In file included from cvxpy/cvxcore/src/cvxcore.hpp:18:\n",
      "  In file included from cvxpy/cvxcore/src/LinOp.hpp:18:\n",
      "  In file included from cvxpy/cvxcore/src/Utils.hpp:20:\n",
      "  In file included from cvxpy/cvxcore/src/../include/Eigen/Core:28:\n",
      "  In file included from /Users/Jack/opt/anaconda3/envs/learn-env/bin/../include/c++/v1/complex:244:\n",
      "  In file included from /Users/Jack/opt/anaconda3/envs/learn-env/bin/../include/c++/v1/stdexcept:45:\n",
      "  In file included from /Users/Jack/opt/anaconda3/envs/learn-env/bin/../include/c++/v1/exception:81:\n",
      "  In file included from /Users/Jack/opt/anaconda3/envs/learn-env/bin/../include/c++/v1/cstdlib:85:\n",
      "  /Users/Jack/opt/anaconda3/envs/learn-env/bin/../include/c++/v1/stdlib.h:97:15: fatal error: 'stdlib.h' file not found\n",
      "  #include_next <stdlib.h>\n",
      "                ^~~~~~~~~~\n",
      "  1 error generated.\n",
      "  error: command 'x86_64-apple-darwin13.4.0-clang' failed with exit status 1\n",
      "  ----------------------------------------\u001b[0m\n",
      "\u001b[31m  ERROR: Failed building wheel for cvxpy\u001b[0m\n",
      "\u001b[?25hFailed to build cvxpy\n",
      "\u001b[31mERROR: Could not build wheels for cvxpy which use PEP 517 and cannot be installed directly\u001b[0m\n"
     ]
    },
    {
     "name": "stdout",
     "output_type": "stream",
     "text": [
      "Note: you may need to restart the kernel to use updated packages.\n"
     ]
    }
   ],
   "source": [
    "pip install ceml"
   ]
  },
  {
   "cell_type": "code",
   "execution_count": 37,
   "metadata": {},
   "outputs": [
    {
     "ename": "ModuleNotFoundError",
     "evalue": "No module named 'ceml'",
     "output_type": "error",
     "traceback": [
      "\u001b[0;31m---------------------------------------------------------------------------\u001b[0m",
      "\u001b[0;31mModuleNotFoundError\u001b[0m                       Traceback (most recent call last)",
      "\u001b[0;32m<ipython-input-37-e4d4f1701997>\u001b[0m in \u001b[0;36m<module>\u001b[0;34m\u001b[0m\n\u001b[0;32m----> 1\u001b[0;31m \u001b[0;32mfrom\u001b[0m \u001b[0mceml\u001b[0m\u001b[0;34m.\u001b[0m\u001b[0msklearn\u001b[0m \u001b[0;32mimport\u001b[0m \u001b[0mgenerate_counterfactual\u001b[0m\u001b[0;34m\u001b[0m\u001b[0;34m\u001b[0m\u001b[0m\n\u001b[0m",
      "\u001b[0;31mModuleNotFoundError\u001b[0m: No module named 'ceml'"
     ]
    }
   ],
   "source": [
    "from ceml.sklearn import generate_counterfactual"
   ]
  },
  {
   "cell_type": "code",
   "execution_count": null,
   "metadata": {},
   "outputs": [],
   "source": []
  }
 ],
 "metadata": {
  "kernelspec": {
   "display_name": "Python 3",
   "language": "python",
   "name": "python3"
  },
  "language_info": {
   "codemirror_mode": {
    "name": "ipython",
    "version": 3
   },
   "file_extension": ".py",
   "mimetype": "text/x-python",
   "name": "python",
   "nbconvert_exporter": "python",
   "pygments_lexer": "ipython3",
   "version": "3.8.5"
  }
 },
 "nbformat": 4,
 "nbformat_minor": 4
}
